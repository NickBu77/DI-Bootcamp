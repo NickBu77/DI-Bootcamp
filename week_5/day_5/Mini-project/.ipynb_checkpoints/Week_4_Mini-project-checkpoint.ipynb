{
 "cells": [
  {
   "cell_type": "code",
   "execution_count": 1,
   "id": "280cbb3a",
   "metadata": {},
   "outputs": [],
   "source": [
    "import pandas as pd\n",
    "import matplotlib.pyplot as plt"
   ]
  },
  {
   "cell_type": "code",
   "execution_count": null,
   "id": "8c7fe008",
   "metadata": {},
   "outputs": [],
   "source": [
    "Using the Mental Health dataset and what you have learn this week, answer the following questions :\n",
    "\n",
    "What is the distribution of mental health conditions among different age groups in the tech industry?\n",
    "How does the frequency of mental health issues vary by gender?\n",
    "Identify the countries with the highest and lowest reported rates of mental health issues in the tech industry."
   ]
  }
 ],
 "metadata": {
  "kernelspec": {
   "display_name": "Python 3",
   "language": "python",
   "name": "python3"
  },
  "language_info": {
   "codemirror_mode": {
    "name": "ipython",
    "version": 3
   },
   "file_extension": ".py",
   "mimetype": "text/x-python",
   "name": "python",
   "nbconvert_exporter": "python",
   "pygments_lexer": "ipython3",
   "version": "3.8.8"
  }
 },
 "nbformat": 4,
 "nbformat_minor": 5
}
