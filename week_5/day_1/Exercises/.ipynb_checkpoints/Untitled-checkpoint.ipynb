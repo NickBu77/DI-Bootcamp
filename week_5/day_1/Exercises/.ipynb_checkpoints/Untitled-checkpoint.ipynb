{
 "cells": [
  {
   "cell_type": "markdown",
   "id": "6a7b073b",
   "metadata": {},
   "source": [
    "What You Will Create :\n",
    "Visualizations for temperature variations, monthly sales data, product sales analysis, and favorite fruits distribution, enhancing your data visualization and analysis capabilities.\n",
    "\n",
    "\n",
    "🌟 Exercise 1 : Understanding Data Visualization\n",
    "Instructions\n",
    "Explain why data visualization is important in data analysis.\n",
    "Describe the purpose of a line graph in data visualization.\n",
    "\n",
    "\n",
    "🌟 Exercise 2 : Creating A Line Plot For Temperature Variation\n",
    "Instructions\n",
    "Create a simple line plot using Matplotlib that represents the temperature variations over a week.\n",
    "Use a list of temperature values for each day of the week (e.g., [72, 74, 76, 80, 82, 78, 75]) and label the x-axis as “Day” and the y-axis as “Temperature (°F)”.\n",
    "\n",
    "\n",
    "🌟 Exercise 3 : Visualizing Monthly Sales With A Bar Chart\n",
    "Instructions\n",
    "Generate a bar chart using Matplotlib to visualize the monthly sales data for a retail store.\n",
    "Create a list of sales values for each month (e.g., [5000, 5500, 6200, 7000, 7500]) and label the x-axis as “Month” and the y-axis as “Sales Amount ($)”.\n",
    "\n",
    "\n",
    "🌟 Exercise 4 : Data Visualisation\n",
    "Instructions\n",
    "Using the dataset sales_data.csv\n",
    "\n",
    "Calculate the total quantity of products sold by the company.\n",
    "Identify the category that had the highest revenue and calculate how much revenue it generated.\n",
    "Determine the average revenue per sale in the dataset.\n",
    "Create a bar chart to visualize the total revenue generated in each quarter of the year (Q1, Q2, Q3, Q4).\n",
    "\n",
    "\n",
    "🌟 Exercise 5 : Data Visualisation Using MatPlotLib\n",
    "Instructions\n",
    "Create a simple line plot using Matplotlib. Plot the function y = x^2 for x values ranging from -10 to 10. Add a title and label the x and y axes.\n",
    "Generate a bar chart to display the sales data of four different products (A, B, C, D) in a week. The sales values are 15, 30, 45, and 20 respectively. Label the chart appropriately.\n",
    "Create a pie chart representing the following data about favorite fruits of a group of people: Apples (40%), Bananas (30%), Cherries (20%), and Dates (10%). Customize the chart with different colors for each fruit and add a legend."
   ]
  },
  {
   "cell_type": "markdown",
   "id": "24dd8459",
   "metadata": {},
   "source": [
    "🌟 Exercise 1 : Understanding Data Visualization\n",
    "Instructions\n",
    "Explain why data visualization is important in data analysis.\n",
    "Describe the purpose of a line graph in data visualization."
   ]
  },
  {
   "cell_type": "code",
   "execution_count": null,
   "id": "f71f314f",
   "metadata": {},
   "outputs": [],
   "source": []
  },
  {
   "cell_type": "code",
   "execution_count": null,
   "id": "59957f78",
   "metadata": {},
   "outputs": [],
   "source": []
  }
 ],
 "metadata": {
  "kernelspec": {
   "display_name": "Python 3",
   "language": "python",
   "name": "python3"
  },
  "language_info": {
   "codemirror_mode": {
    "name": "ipython",
    "version": 3
   },
   "file_extension": ".py",
   "mimetype": "text/x-python",
   "name": "python",
   "nbconvert_exporter": "python",
   "pygments_lexer": "ipython3",
   "version": "3.8.8"
  }
 },
 "nbformat": 4,
 "nbformat_minor": 5
}
