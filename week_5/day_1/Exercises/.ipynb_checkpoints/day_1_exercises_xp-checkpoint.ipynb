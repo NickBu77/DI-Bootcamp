{
 "cells": [
  {
   "cell_type": "markdown",
   "id": "cdb70c78",
   "metadata": {},
   "source": [
    "What You Will Create :\n",
    "Visualizations for temperature variations, monthly sales data, product sales analysis, and favorite fruits distribution, enhancing your data visualization and analysis capabilities.\n",
    "\n",
    "\n",
    "🌟 Exercise 1 : Understanding Data Visualization\n",
    "Instructions\n",
    "Explain why data visualization is important in data analysis.\n",
    "Describe the purpose of a line graph in data visualization.\n",
    "\n",
    "\n",
    "🌟 Exercise 2 : Creating A Line Plot For Temperature Variation\n",
    "Instructions\n",
    "Create a simple line plot using Matplotlib that represents the temperature variations over a week.\n",
    "Use a list of temperature values for each day of the week (e.g., [72, 74, 76, 80, 82, 78, 75]) and label the x-axis as “Day” and the y-axis as “Temperature (°F)”.\n",
    "\n",
    "\n",
    "🌟 Exercise 3 : Visualizing Monthly Sales With A Bar Chart\n",
    "Instructions\n",
    "Generate a bar chart using Matplotlib to visualize the monthly sales data for a retail store.\n",
    "Create a list of sales values for each month (e.g., [5000, 5500, 6200, 7000, 7500]) and label the x-axis as “Month” and the y-axis as “Sales Amount ($)”.\n",
    "\n",
    "\n",
    "🌟 Exercise 4 : Data Visualisation\n",
    "Instructions\n",
    "Using the dataset sales_data.csv\n",
    "\n",
    "Calculate the total quantity of products sold by the company.\n",
    "Identify the category that had the highest revenue and calculate how much revenue it generated.\n",
    "Determine the average revenue per sale in the dataset.\n",
    "Create a bar chart to visualize the total revenue generated in each quarter of the year (Q1, Q2, Q3, Q4).\n",
    "\n",
    "\n",
    "🌟 Exercise 5 : Data Visualisation Using MatPlotLib\n",
    "Instructions\n",
    "Create a simple line plot using Matplotlib. Plot the function y = x^2 for x values ranging from -10 to 10. Add a title and label the x and y axes.\n",
    "Generate a bar chart to display the sales data of four different products (A, B, C, D) in a week. The sales values are 15, 30, 45, and 20 respectively. Label the chart appropriately.\n",
    "Create a pie chart representing the following data about favorite fruits of a group of people: Apples (40%), Bananas (30%), Cherries (20%), and Dates (10%). Customize the chart with different colors for each fruit and add a legend."
   ]
  },
  {
   "cell_type": "markdown",
   "id": "e63a79e6",
   "metadata": {},
   "source": [
    "🌟 Exercise 1 : Understanding Data Visualization\n",
    "Instructions\n",
    "Explain why data visualization is important in data analysis.\n",
    "Describe the purpose of a line graph in data visualization."
   ]
  },
  {
   "cell_type": "markdown",
   "id": "df861b0a",
   "metadata": {},
   "source": [
    "Answer: Data visualization is important because data in table form can be too complex, large, or abstract and simple trends can much more reasily be detected when graphed. A line graph typically shows a trend. The relationship of temperature and month of the year for example. You expect a gradual progression for every x-axis item, not precipitous drops."
   ]
  },
  {
   "cell_type": "markdown",
   "id": "8f283c09",
   "metadata": {},
   "source": [
    "🌟 Exercise 2 : Creating A Line Plot For Temperature Variation\n",
    "Instructions\n",
    "Create a simple line plot using Matplotlib that represents the temperature variations over a week.\n",
    "Use a list of temperature values for each day of the week (e.g., [72, 74, 76, 80, 82, 78, 75]) and label the x-axis as “Day” and the y-axis as “Temperature (°F)”.\n"
   ]
  },
  {
   "cell_type": "code",
   "execution_count": 33,
   "id": "91a0c36a",
   "metadata": {},
   "outputs": [
    {
     "ename": "TypeError",
     "evalue": "'str' object is not callable",
     "output_type": "error",
     "traceback": [
      "\u001b[1;31m---------------------------------------------------------------------------\u001b[0m",
      "\u001b[1;31mTypeError\u001b[0m                                 Traceback (most recent call last)",
      "\u001b[1;32m<ipython-input-33-9f7ce6eea4cf>\u001b[0m in \u001b[0;36m<module>\u001b[1;34m\u001b[0m\n\u001b[0;32m      6\u001b[0m \u001b[1;33m\u001b[0m\u001b[0m\n\u001b[0;32m      7\u001b[0m \u001b[0mplt\u001b[0m\u001b[1;33m.\u001b[0m\u001b[0mplot\u001b[0m\u001b[1;33m(\u001b[0m\u001b[0mx\u001b[0m\u001b[1;33m,\u001b[0m\u001b[0my\u001b[0m\u001b[1;33m,\u001b[0m\u001b[0mcolor\u001b[0m\u001b[1;33m=\u001b[0m\u001b[1;34m'red'\u001b[0m\u001b[1;33m)\u001b[0m\u001b[1;33m\u001b[0m\u001b[1;33m\u001b[0m\u001b[0m\n\u001b[1;32m----> 8\u001b[1;33m \u001b[0mplt\u001b[0m\u001b[1;33m.\u001b[0m\u001b[0mxlabel\u001b[0m\u001b[1;33m(\u001b[0m\u001b[1;34m'Day'\u001b[0m\u001b[1;33m)\u001b[0m\u001b[1;33m\u001b[0m\u001b[1;33m\u001b[0m\u001b[0m\n\u001b[0m\u001b[0;32m      9\u001b[0m \u001b[0mplt\u001b[0m\u001b[1;33m.\u001b[0m\u001b[0mylabel\u001b[0m\u001b[1;33m(\u001b[0m\u001b[1;34m'Temp'\u001b[0m\u001b[1;33m)\u001b[0m\u001b[1;33m\u001b[0m\u001b[1;33m\u001b[0m\u001b[0m\n\u001b[0;32m     10\u001b[0m \u001b[0mplt\u001b[0m\u001b[1;33m.\u001b[0m\u001b[0mtitle\u001b[0m\u001b[1;33m(\u001b[0m\u001b[1;34m'Temp by day of week'\u001b[0m\u001b[1;33m)\u001b[0m\u001b[1;33m\u001b[0m\u001b[1;33m\u001b[0m\u001b[0m\n",
      "\u001b[1;31mTypeError\u001b[0m: 'str' object is not callable"
     ]
    },
    {
     "data": {
      "image/png": "[encoded data removed]",
      "text/plain": [
       "<Figure size 576x432 with 1 Axes>"
      ]
     },
     "metadata": {
      "needs_background": "light"
     },
     "output_type": "display_data"
    }
   ],
   "source": [
    "import matplotlib.pyplot as plt\n",
    "\n",
    "x=['Sun',' Mon', 'Tue',' Wed', 'Th', 'Fr', 'Sa']\n",
    "y=[72, 74, 76, 80, 82, 78, 75]\n",
    "plt.figure(figsize=(8, 6))\n",
    "\n",
    "plt.plot(x,y,color='red')\n",
    "plt.xlabel('Day')\n",
    "plt.ylabel('Temp')\n",
    "plt.title('Temp by day of week')\n",
    "plt.show()"
   ]
  },
  {
   "cell_type": "code",
   "execution_count": null,
   "id": "ba2b9153",
   "metadata": {},
   "outputs": [],
   "source": []
  }
 ],
 "metadata": {
  "kernelspec": {
   "display_name": "Python 3",
   "language": "python",
   "name": "python3"
  },
  "language_info": {
   "codemirror_mode": {
    "name": "ipython",
    "version": 3
   },
   "file_extension": ".py",
   "mimetype": "text/x-python",
   "name": "python",
   "nbconvert_exporter": "python",
   "pygments_lexer": "ipython3",
   "version": "3.8.8"
  }
 },
 "nbformat": 4,
 "nbformat_minor": 5
}
