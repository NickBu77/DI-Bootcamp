{
 "cells": [
  {
   "cell_type": "code",
   "execution_count": 2,
   "id": "9712a08d",
   "metadata": {},
   "outputs": [],
   "source": [
    "import numpy as np"
   ]
  },
  {
   "cell_type": "code",
   "execution_count": 3,
   "id": "422e40da",
   "metadata": {},
   "outputs": [
    {
     "data": {
      "text/plain": [
       "array([0., 0., 0., 0., 0., 0., 0., 0., 0., 0.])"
      ]
     },
     "execution_count": 3,
     "metadata": {},
     "output_type": "execute_result"
    }
   ],
   "source": [
    "# Create a vector* of zeros with size 10 using np.zeros().\n",
    "\n",
    "# Example output: [0. 0. 0. 0. 0. 0. 0. 0. 0. 0.]\n",
    "\n",
    "a_vector = np.zeros(10)\n",
    "a_vector"
   ]
  },
  {
   "cell_type": "code",
   "execution_count": 13,
   "id": "4bb56591",
   "metadata": {},
   "outputs": [
    {
     "data": {
      "text/plain": [
       "array([[ 1,  2,  3,  4,  5],\n",
       "       [ 6,  7,  8,  9, 10]])"
      ]
     },
     "execution_count": 13,
     "metadata": {},
     "output_type": "execute_result"
    }
   ],
   "source": [
    "# Compute the memory size* of any array. Note: You can do this by multiplying the length of the array \n",
    "#     by the size of one array element, which you can find using the .itemsize attribute.\n",
    "\n",
    "# Example output: `80` (for an array of size 10 with elements of type float64)\n",
    "\n",
    "p = np.arange(1,11).reshape(2,5)\n",
    "p"
   ]
  },
  {
   "cell_type": "code",
   "execution_count": 19,
   "id": "d9b13df8",
   "metadata": {},
   "outputs": [
    {
     "data": {
      "text/plain": [
       "40"
      ]
     },
     "execution_count": 19,
     "metadata": {},
     "output_type": "execute_result"
    }
   ],
   "source": [
    "size = p.size\n",
    "itemsize = p.itemsize\n",
    "itemsize*size\n"
   ]
  },
  {
   "cell_type": "code",
   "execution_count": 25,
   "id": "7c1080de",
   "metadata": {
    "scrolled": false
   },
   "outputs": [
    {
     "ename": "SyntaxError",
     "evalue": "invalid syntax (<ipython-input-25-b0f75e44e121>, line 1)",
     "output_type": "error",
     "traceback": [
      "\u001b[1;36m  File \u001b[1;32m\"<ipython-input-25-b0f75e44e121>\"\u001b[1;36m, line \u001b[1;32m1\u001b[0m\n\u001b[1;33m    Retrieve the documentation of the numpy add function from the command line.python -c \"import numpy as np; help(np.add)\"\u001b[0m\n\u001b[1;37m             ^\u001b[0m\n\u001b[1;31mSyntaxError\u001b[0m\u001b[1;31m:\u001b[0m invalid syntax\n"
     ]
    }
   ],
   "source": [
    "#Retrieve the documentation of the numpy add function from the command line.\n",
    "\n",
    "python -c \"import numpy as np; help(np.add)\"\n"
   ]
  },
  {
   "cell_type": "code",
   "execution_count": 27,
   "id": "7c34e5e8",
   "metadata": {},
   "outputs": [
    {
     "data": {
      "text/plain": [
       "array([10, 11, 12, 13, 14, 15, 16, 17, 18, 19, 20, 21, 22, 23, 24, 25, 26,\n",
       "       27, 28, 29, 30, 31, 32, 33, 34, 35, 36, 37, 38, 39, 40, 41, 42, 43,\n",
       "       44, 45, 46, 47, 48, 49])"
      ]
     },
     "execution_count": 27,
     "metadata": {},
     "output_type": "execute_result"
    }
   ],
   "source": [
    "# Create a vector with values ranging from 10 to 49 using np.arange().\n",
    "\n",
    "# Example output: [10 11 12 ... 47 48 49]\n",
    "\n",
    "array = np.arange(10,50)\n",
    "array\n"
   ]
  },
  {
   "cell_type": "code",
   "execution_count": 34,
   "id": "457d3017",
   "metadata": {},
   "outputs": [
    {
     "data": {
      "text/plain": [
       "array([[0, 1, 2],\n",
       "       [3, 4, 5],\n",
       "       [6, 7, 8]])"
      ]
     },
     "execution_count": 34,
     "metadata": {},
     "output_type": "execute_result"
    }
   ],
   "source": [
    "# Create a 3x3 matrix* with values ranging from 0 to 8 using np.reshape().\n",
    "\n",
    "# Example output: [[0 1 2]\n",
    "#                  [3 4 5]\n",
    "#                  [6 7 8]]\n",
    "\n",
    "matrix = np.arange(0,9).reshape(3,3)\n",
    "matrix"
   ]
  },
  {
   "cell_type": "code",
   "execution_count": null,
   "id": "8746c9cd",
   "metadata": {},
   "outputs": [],
   "source": [
    "#Find indices of non-zero elements from [1,2,0,0,4,0] using np.nonzero().\n",
    "\n",
    "lst = [1,2,0,0,4,0]\n",
    "np.nonzero\n"
   ]
  },
  {
   "cell_type": "code",
   "execution_count": null,
   "id": "ce8558d5",
   "metadata": {},
   "outputs": [],
   "source": []
  },
  {
   "cell_type": "code",
   "execution_count": null,
   "id": "46312db2",
   "metadata": {},
   "outputs": [],
   "source": [
    "🌟 Exercise 1:\n",
    "Instructions\n",
    "Import the numpy package under the name np.\n",
    "\n",
    "Reverse a vector so the first element becomes last (Hint: Use slicing).\n",
    "\n",
    "Example output: If input is [10 11 12 ... 47 48 49], \n",
    "output should be [49 48 47 ... 12 11 10]\n",
    "\n",
    "\n",
    "\n",
    "\n",
    "Example output: (array([0, 1, 4]),)\n",
    "\n",
    "\n",
    "Create a 3x3 identity matrix* using np.eye().\n",
    "\n",
    "Example output: [[1. 0. 0.]\n",
    "                 [0. 1. 0.]\n",
    "                 [0. 0. 1.]]\n",
    "\n",
    "\n",
    "Create a 5x5 matrix with row values ranging from 0 to 4. The output should be a matrix where each row is [0, 1, 2, 3, 4].\n",
    "\n",
    "Example output: \n",
    "[[0. 1. 2. 3. 4.]\n",
    " [0. 1. 2. 3. 4.]\n",
    " [0. 1. 2. 3. 4.]\n",
    " [0. 1. 2. 3. 4.]\n",
    " [0. 1. 2. 3. 4.]]\n",
    "\n",
    "\n",
    "Create a vector of size 10 with values ranging from 0 to 1, both excluded. You can use np.linspace.\n",
    "\n",
    "Example output: [0.09090909 0.18181818 0.27272727 0.36363636 0.45454545 \n",
    "                0.54545455 0.63636364 0.72727273 0.81818182 0.90909091]\n",
    "\n",
    "\n",
    "Create a random vector of size 10 and sort it.\n",
    "\n",
    "Example output: An array of 10 random numbers between 0 and 1, \n",
    "                sorted in ascending order.\n",
    "\n",
    "\n",
    "Print the minimum and maximum representable value for each numpy scalar type* (int8, int32, int64, float32, float64). Use np.iinfo and np.finfo.\n",
    "\n",
    "Example output: This command prints the minimum and maximum \n",
    "                representable values for the specified data types.\n",
    "\n",
    "\n",
    "How to convert a float (32 bits) array into an integer (32 bits) in place? Use np.ndarray.astype.\n",
    "\n",
    "Example output: This command converts a floating-point array \n",
    "                into an integer array, rounding towards zero.\n",
    "\n",
    "\n",
    "Subtract the mean* of each row of a matrix. Use np.mean with axis=1.\n",
    "\n",
    "Example output: This command subtracts the mean of each \n",
    "                row from each element in that row.\n",
    "\n",
    "\n",
    "How to sort an array by the nth column? Use np.argsort.\n",
    "\n",
    "Example output: This command sorts a 2D array by the nth column.\n",
    "\n",
    "\n",
    "How to swap two rows of an array? You can do this using array indexing.\n",
    "\n",
    "Example output: If the input is [[0, 1, 2], [3, 4, 5], [6, 7, 8]] \n",
    "                and you swap the first and second row, the output \n",
    "                should be [[3, 4, 5], [0, 1, 2], [6, 7, 8]].\n",
    "\n",
    "\n",
    "Given an array C that is a bincount*, how to produce an array A such that np.bincount(A) == C? Use np.repeat.\n",
    "\n",
    "Example output: This command creates an array that, when binned, matches the input array."
   ]
  }
 ],
 "metadata": {
  "kernelspec": {
   "display_name": "Python 3",
   "language": "python",
   "name": "python3"
  },
  "language_info": {
   "codemirror_mode": {
    "name": "ipython",
    "version": 3
   },
   "file_extension": ".py",
   "mimetype": "text/x-python",
   "name": "python",
   "nbconvert_exporter": "python",
   "pygments_lexer": "ipython3",
   "version": "3.8.8"
  }
 },
 "nbformat": 4,
 "nbformat_minor": 5
}
