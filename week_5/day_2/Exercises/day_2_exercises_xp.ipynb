{
 "cells": [
  {
   "cell_type": "markdown",
   "id": "6210de97",
   "metadata": {},
   "source": [
    "🌟 Exercise 1 : Basic Scatter Plot With Plotnine\n",
    "Instructions\n",
    "Objective: Create a basic scatter plot using Plotnine to visualize the relationship between two variables.\n",
    "Tasks:\n",
    "\n",
    "Create a pandas DataFrame with two columns, x and y, each containing 20 random numbers.\n",
    "Use Plotnine to create a scatter plot of y versus x.\n",
    "Add x and y-axis labels as ‘X-Value’ and ‘Y-Value’, respectively. Also, add a plot title ‘Basic Scatter Plot’.\n",
    "Expected Outcome: A scatter plot displaying the relationship between the data in x and y, with appropriate labels and title.\n",
    "\n",
    "\n",
    "\n",
    "🌟 Exercise 2 : Bar Plot Of Categorical Data With Plotnine\n",
    "Instructions\n",
    "Objective: Use Plotnine to create a bar plot showing the frequency of categories in a dataset.\n",
    "\n",
    "Generate a pandas DataFrame with a column category, containing 30 random entries from a set of categories (e.g., ‘A’, ‘B’, ‘C’).\n",
    "Create a bar plot that shows the count of each category using Plotnine.\n",
    "Customize the plot by adding a title ‘Category Frequency’ and x and y-axis labels.\n",
    "Expected Outcome: A bar plot displaying the frequency of each category in the dataset, with clear labels and a descriptive title.\n",
    "\n",
    "\n",
    "\n",
    "🌟 Exercise 3 : Line Plot With Multiple Lines With Plotnine\n",
    "Instructions\n",
    "Objective: Create a line plot using Plotnine that compares two different data series.\n",
    "\n",
    "Create a pandas DataFrame with three columns: x, y1, and y2, where x is a sequence of numbers and y1, y2 are two different mathematical functions of x (e.g., sin(x) and cos(x)).\n",
    "Plot y1 and y2 against x in the same plot, using different colors for each line.\n",
    "Add a legend to distinguish between the two lines, and label axes as ‘X-Value’, ‘Y-Value’, and add a title ‘Comparison of Two Functions’.\n",
    "Expected Outcome: A line plot that effectively compares the two functions across the range of x, with a legend, axis labels, and a title.\n",
    "\n"
   ]
  },
  {
   "cell_type": "markdown",
   "id": "885ea35d",
   "metadata": {},
   "source": [
    "🌟 Exercise 1 : Basic Scatter Plot With Plotnine\n",
    "Instructions\n",
    "Objective: Create a basic scatter plot using Plotnine to visualize the relationship between two variables.\n",
    "Tasks:\n",
    "\n",
    "Create a pandas DataFrame with two columns, x and y, each containing 20 random numbers.\n",
    "Use Plotnine to create a scatter plot of y versus x.\n",
    "Add x and y-axis labels as ‘X-Value’ and ‘Y-Value’, respectively. Also, add a plot title ‘Basic Scatter Plot’.\n",
    "Expected Outcome: A scatter plot displaying the relationship between the data in x and y, with appropriate labels and title."
   ]
  },
  {
   "cell_type": "code",
   "execution_count": 22,
   "id": "4ee12b12",
   "metadata": {},
   "outputs": [
    {
     "data": {
      "text/plain": [
       "<matplotlib.legend.Legend at 0x1ff85cd84f0>"
      ]
     },
     "execution_count": 22,
     "metadata": {},
     "output_type": "execute_result"
    },
    {
     "data": {
      "image/png": "[encoded data removed]",
      "text/plain": [
       "<Figure size 432x288 with 1 Axes>"
      ]
     },
     "metadata": {
      "needs_background": "light"
     },
     "output_type": "display_data"
    }
   ],
   "source": [
    "import pandas as pd\n",
    "import matplotlib.pyplot as plt\n",
    "import random\n",
    "\n",
    "x = [random.uniform(1, 1000) for _ in range(10)]\n",
    "y = [random.uniform(1, 1000) for _ in range(10)]\n",
    "\n",
    "df = pd.DataFrame({'x':x, 'y':y})\n",
    "df\n",
    "\n",
    "plt.scatter(x,y, color='purple', label='number')\n",
    "plt.xlabel('X')\n",
    "plt.ylabel('Y')\n",
    "plt.title('Basic Scatter Plot')\n",
    "plt.legend()\n"
   ]
  },
  {
   "cell_type": "markdown",
   "id": "643b86b3",
   "metadata": {},
   "source": [
    "🌟 Exercise 2 : Bar Plot Of Categorical Data With Plotnine\n",
    "Instructions\n",
    "Objective: Use Plotnine to create a bar plot showing the frequency of categories in a dataset.\n",
    "\n",
    "Generate a pandas DataFrame with a column category, containing 30 random entries from a set of categories (e.g., ‘A’, ‘B’, ‘C’).\n",
    "Create a bar plot that shows the count of each category using Plotnine.\n",
    "Customize the plot by adding a title ‘Category Frequency’ and x and y-axis labels.\n",
    "Expected Outcome: A bar plot displaying the frequency of each category in the dataset, with clear labels and a descriptive title.\n"
   ]
  },
  {
   "cell_type": "code",
   "execution_count": 55,
   "id": "4cbc3e22",
   "metadata": {},
   "outputs": [],
   "source": [
    "import string\n",
    "\n",
    "random_letters = [random.choice(string.ascii_lowercase) for _ in range(30)]\n",
    "count_dict  = {}\n"
   ]
  },
  {
   "cell_type": "code",
   "execution_count": 62,
   "id": "4a0caf67",
   "metadata": {},
   "outputs": [],
   "source": [
    "for letter in random_letters:\n",
    "    count_dict[letter] = 0 \n",
    "\n",
    "for k in random_letters:\n",
    "    if k not in count_dict:\n",
    "        count_dict[k] = 0\n",
    "    else:\n",
    "        count_dict[k] += 1\n",
    "        "
   ]
  },
  {
   "cell_type": "code",
   "execution_count": 65,
   "id": "744dac91",
   "metadata": {},
   "outputs": [
    {
     "data": {
      "text/html": [
       "<div>\n",
       "<style scoped>\n",
       "    .dataframe tbody tr th:only-of-type {\n",
       "        vertical-align: middle;\n",
       "    }\n",
       "\n",
       "    .dataframe tbody tr th {\n",
       "        vertical-align: top;\n",
       "    }\n",
       "\n",
       "    .dataframe thead th {\n",
       "        text-align: right;\n",
       "    }\n",
       "</style>\n",
       "<table border=\"1\" class=\"dataframe\">\n",
       "  <thead>\n",
       "    <tr style=\"text-align: right;\">\n",
       "      <th></th>\n",
       "      <th>Item Name</th>\n",
       "      <th>Count</th>\n",
       "    </tr>\n",
       "  </thead>\n",
       "  <tbody>\n",
       "    <tr>\n",
       "      <th>0</th>\n",
       "      <td>z</td>\n",
       "      <td>1</td>\n",
       "    </tr>\n",
       "    <tr>\n",
       "      <th>1</th>\n",
       "      <td>y</td>\n",
       "      <td>3</td>\n",
       "    </tr>\n",
       "    <tr>\n",
       "      <th>2</th>\n",
       "      <td>i</td>\n",
       "      <td>1</td>\n",
       "    </tr>\n",
       "    <tr>\n",
       "      <th>3</th>\n",
       "      <td>q</td>\n",
       "      <td>2</td>\n",
       "    </tr>\n",
       "    <tr>\n",
       "      <th>4</th>\n",
       "      <td>r</td>\n",
       "      <td>2</td>\n",
       "    </tr>\n",
       "    <tr>\n",
       "      <th>5</th>\n",
       "      <td>d</td>\n",
       "      <td>1</td>\n",
       "    </tr>\n",
       "    <tr>\n",
       "      <th>6</th>\n",
       "      <td>j</td>\n",
       "      <td>3</td>\n",
       "    </tr>\n",
       "    <tr>\n",
       "      <th>7</th>\n",
       "      <td>a</td>\n",
       "      <td>2</td>\n",
       "    </tr>\n",
       "    <tr>\n",
       "      <th>8</th>\n",
       "      <td>v</td>\n",
       "      <td>3</td>\n",
       "    </tr>\n",
       "    <tr>\n",
       "      <th>9</th>\n",
       "      <td>l</td>\n",
       "      <td>1</td>\n",
       "    </tr>\n",
       "    <tr>\n",
       "      <th>10</th>\n",
       "      <td>p</td>\n",
       "      <td>2</td>\n",
       "    </tr>\n",
       "    <tr>\n",
       "      <th>11</th>\n",
       "      <td>g</td>\n",
       "      <td>1</td>\n",
       "    </tr>\n",
       "    <tr>\n",
       "      <th>12</th>\n",
       "      <td>m</td>\n",
       "      <td>1</td>\n",
       "    </tr>\n",
       "    <tr>\n",
       "      <th>13</th>\n",
       "      <td>b</td>\n",
       "      <td>1</td>\n",
       "    </tr>\n",
       "    <tr>\n",
       "      <th>14</th>\n",
       "      <td>x</td>\n",
       "      <td>2</td>\n",
       "    </tr>\n",
       "    <tr>\n",
       "      <th>15</th>\n",
       "      <td>w</td>\n",
       "      <td>1</td>\n",
       "    </tr>\n",
       "    <tr>\n",
       "      <th>16</th>\n",
       "      <td>t</td>\n",
       "      <td>1</td>\n",
       "    </tr>\n",
       "    <tr>\n",
       "      <th>17</th>\n",
       "      <td>f</td>\n",
       "      <td>1</td>\n",
       "    </tr>\n",
       "    <tr>\n",
       "      <th>18</th>\n",
       "      <td>o</td>\n",
       "      <td>1</td>\n",
       "    </tr>\n",
       "  </tbody>\n",
       "</table>\n",
       "</div>"
      ],
      "text/plain": [
       "   Item Name  Count\n",
       "0          z      1\n",
       "1          y      3\n",
       "2          i      1\n",
       "3          q      2\n",
       "4          r      2\n",
       "5          d      1\n",
       "6          j      3\n",
       "7          a      2\n",
       "8          v      3\n",
       "9          l      1\n",
       "10         p      2\n",
       "11         g      1\n",
       "12         m      1\n",
       "13         b      1\n",
       "14         x      2\n",
       "15         w      1\n",
       "16         t      1\n",
       "17         f      1\n",
       "18         o      1"
      ]
     },
     "execution_count": 65,
     "metadata": {},
     "output_type": "execute_result"
    }
   ],
   "source": [
    "series = list(count_dict.items())\n",
    "cols = ('Item Name','Count')\n",
    "\n",
    "df = pd.DataFrame(series, columns=cols)\n",
    "df"
   ]
  },
  {
   "cell_type": "code",
   "execution_count": 71,
   "id": "50089e8e",
   "metadata": {},
   "outputs": [
    {
     "data": {
      "image/png": "[encoded data removed]",
      "text/plain": [
       "<Figure size 432x288 with 1 Axes>"
      ]
     },
     "metadata": {
      "needs_background": "light"
     },
     "output_type": "display_data"
    }
   ],
   "source": [
    "plt.bar(df['Item Name'],df['Count'],label='Item count')\n",
    "plt.title('Category Frequency')\n",
    "plt.xlabel('Category')\n",
    "plt.ylabel('Count')\n",
    "plt.legend()\n",
    "plt.show()"
   ]
  },
  {
   "cell_type": "code",
   "execution_count": 85,
   "id": "7de324f5",
   "metadata": {},
   "outputs": [
    {
     "data": {
      "image/png": "[encoded data removed]",
      "text/plain": [
       "<Figure size 432x288 with 1 Axes>"
      ]
     },
     "metadata": {
      "needs_background": "light"
     },
     "output_type": "display_data"
    }
   ],
   "source": [
    "import numpy as np\n",
    "x = list(range(11))\n",
    "y1 = [np.sin(n) for n in x]\n",
    "y2 = [np.cos(n) for n in x]\n",
    "\n",
    "plt.plot(x,y1, label='sin')\n",
    "plt.plot(x,y2,label='cos')\n",
    "\n",
    "plt.xlabel('X')\n",
    "plt.ylabel('Y')\n",
    "plt.title('Comparison of Two Functions')\n",
    "plt.legend()\n",
    "plt.show()"
   ]
  }
 ],
 "metadata": {
  "kernelspec": {
   "display_name": "Python 3",
   "language": "python",
   "name": "python3"
  },
  "language_info": {
   "codemirror_mode": {
    "name": "ipython",
    "version": 3
   },
   "file_extension": ".py",
   "mimetype": "text/x-python",
   "name": "python",
   "nbconvert_exporter": "python",
   "pygments_lexer": "ipython3",
   "version": "3.8.8"
  }
 },
 "nbformat": 4,
 "nbformat_minor": 5
}
