{
 "cells": [
  {
   "cell_type": "markdown",
   "id": "1aeafeed",
   "metadata": {},
   "source": [
    "🌟 Exercise 1 : Identifying Data Types\n",
    "Instructions\n",
    "Below are various data sources. Identify whether each one is an example of structured or unstructured data.\n",
    "\n",
    "A company’s financial reports stored in an Excel file.\n",
    "Photographs uploaded to a social media platform.\n",
    "A collection of news articles on a website.\n",
    "Inventory data in a relational database.\n",
    "Recorded interviews from a market research study.\n",
    "\n"
   ]
  },
  {
   "cell_type": "markdown",
   "id": "7b714e89",
   "metadata": {},
   "source": [
    "Answer 1: Since excel files are structured by columns and rows, these are structured data files.\n",
    "\n",
    "Answer 2: Photos are not organized in a convenient format easily queried, like relational databases are. They're unstructured.\n",
    "\n",
    "Answer 3: A collection of articles in themselves are not structured data, unless you're talking about information like title, theme, author, etc... stored in a table.\n",
    "\n",
    "Answer 4: If the data is structured in a relational database, I believe by definition it's structured data. \n",
    "\n",
    "Answer 5: A collection of audio records are not structured."
   ]
  },
  {
   "cell_type": "markdown",
   "id": "b6d29e7f",
   "metadata": {},
   "source": [
    "🌟 Exercise 2 : Transformation Exercise\n",
    "Instructions\n",
    "For each of the following unstructured data sources, propose a method to convert it into structured data. Explain your reasoning.\n",
    "- A series of blog posts about travel experiences.\n",
    "- Audio recordings of customer service calls.\n",
    "- Handwritten notes from a brainstorming session.\n",
    "- A video tutorial on cooking.\n"
   ]
  },
  {
   "cell_type": "markdown",
   "id": "a953d036",
   "metadata": {},
   "source": [
    "Answer 2:\n",
    "- You can organize the blog posts by title, author, theme, short summary, URL in a table with those columns and unique   \n",
    "  identifiers for each entry.\n",
    "- You can organize the contents of the calls with transcript text, topic, link to the recording, department, etc...\n",
    "- You can convert the handwritten notes to digitalized form using image recognition AI and then arrange it as you would in the \n",
    "  audio recordings reply I gave.\n",
    "- You can convert the tutorials using speech to text and arrange by recipe, food group, chef name, etc...\n"
   ]
  },
  {
   "cell_type": "markdown",
   "id": "5fce4409",
   "metadata": {},
   "source": [
    "🌟 Exercise 3 : Application Scenario\n",
    "Instructions\n",
    "You are a data analyst at a retail company. You have access to various data sources, including transaction records, customer feedback comments, social media posts about your brand, and employee work schedules.\n",
    "\n",
    "Categorize each of these data sources as structured or unstructured.\n",
    "Suggest how you might use each type of data for improving the company’s business operations."
   ]
  },
  {
   "cell_type": "markdown",
   "id": "1d5077a9",
   "metadata": {},
   "source": [
    "Answer 3:\n",
    "- Transaction records appear to be structured. These can be used as the basis for decision making. You can use sales by time of   day, by season, by item type, by brand, etc... to determine which are the best sellers under what conditions (price range,    \n",
    "  etc...) \n",
    "- Customer feedback comments, unless specifically submitted in an online form and stored in a DB, are probably unformatted. I   \n",
    "  think customer comments are probably useful but aren't hard data in the way transaction records are. If there are specific \n",
    "  complaints from enough people, and the cost of addressing it is relatively low, then do so. But customer complaints are not \n",
    "  always representative as the angriest people have the highest likelihood to voice their opinion.\n",
    "- Social media posts are unstructured. Like customer feedback, it's harder to guage how representative they are of your customer   base. But because social media is scalable and many people have access to comments and reviews of your product, it's important   to do damage control when there are negative comments. It's also beneficial to amplify postive voices for good PR.\n",
    "- Employee work schedules, if they're sorted by employee name, hours, etc... may be structured. Employee schedules should be   \n",
    "  optimized to utilize your labor potential at peak hours (based on transaction records) and minimized during slow periods. This   will save on costs, especially since most service level jobs, like work at a radio store is flexible hours, not 9 to 5      \n",
    "  everyday."
   ]
  },
  {
   "cell_type": "code",
   "execution_count": null,
   "id": "a7964510",
   "metadata": {},
   "outputs": [],
   "source": []
  }
 ],
 "metadata": {
  "kernelspec": {
   "display_name": "Python 3",
   "language": "python",
   "name": "python3"
  },
  "language_info": {
   "codemirror_mode": {
    "name": "ipython",
    "version": 3
   },
   "file_extension": ".py",
   "mimetype": "text/x-python",
   "name": "python",
   "nbconvert_exporter": "python",
   "pygments_lexer": "ipython3",
   "version": "3.8.8"
  }
 },
 "nbformat": 4,
 "nbformat_minor": 5
}
