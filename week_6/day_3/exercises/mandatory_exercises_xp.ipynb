{
  "nbformat": 4,
  "nbformat_minor": 0,
  "metadata": {
    "colab": {
      "provenance": []
    },
    "kernelspec": {
      "name": "python3",
      "display_name": "Python 3"
    },
    "language_info": {
      "name": "python"
    }
  },
  "cells": [
    {
      "cell_type": "code",
      "execution_count": 2,
      "metadata": {
        "colab": {
          "base_uri": "https://localhost:8080/"
        },
        "id": "Huyw1hwyeRmM",
        "outputId": "2d651e7c-ec72-436e-f391-3be7fba8a192"
      },
      "outputs": [
        {
          "output_type": "stream",
          "name": "stdout",
          "text": [
            "Integral of x^2 from 0 to 1: 0.33333333333333337\n"
          ]
        }
      ],
      "source": [
        "import numpy as np\n",
        "from scipy import integrate\n",
        "\n",
        "# Define a simple function\n",
        "def integrand(x):\n",
        "    return x**2\n",
        "\n",
        "# Compute the integral of the function\n",
        "result, _ = integrate.quad(integrand, 0, 1)\n",
        "print(\"Integral of x^2 from 0 to 1:\", result)"
      ]
    },
    {
      "cell_type": "markdown",
      "source": [
        "🌟 Exercise 1 : Basic Usage Of SciPy\n",
        "Instructions\n",
        "Import the SciPy library and explore its version."
      ],
      "metadata": {
        "id": "lKtJprRntJ1Q"
      }
    },
    {
      "cell_type": "code",
      "source": [
        "import scipy as sp\n",
        "\n",
        "sp.__version__\n"
      ],
      "metadata": {
        "colab": {
          "base_uri": "https://localhost:8080/",
          "height": 36
        },
        "id": "RdOKX6jOtLmz",
        "outputId": "e6682279-37f7-40a9-bce6-a0d4296beca4"
      },
      "execution_count": 61,
      "outputs": [
        {
          "output_type": "execute_result",
          "data": {
            "text/plain": [
              "'1.11.4'"
            ],
            "application/vnd.google.colaboratory.intrinsic+json": {
              "type": "string"
            }
          },
          "metadata": {},
          "execution_count": 61
        }
      ]
    },
    {
      "cell_type": "markdown",
      "source": [
        "🌟 Exercise 2 : Descriptive Statistics\n",
        "Instructions\n",
        "Given a sample dataset, calculate the mean, median, variance, and standard deviation using SciPy.\n",
        "Sample dataset in code:"
      ],
      "metadata": {
        "id": "J-D0bNy0t77i"
      }
    },
    {
      "cell_type": "code",
      "source": [
        "import numpy as np\n",
        "\n",
        "data = np.random.normal(loc=100, scale=10, size=100)\n",
        "avg = sp.stats.tmean(data)\n",
        "std = sp.stats.tstd(data)\n",
        "var = sp.stats.tvar(data)\n",
        "med = np.median(data)\n",
        "\n",
        "print(avg, std, var, med)"
      ],
      "metadata": {
        "colab": {
          "base_uri": "https://localhost:8080/"
        },
        "id": "eLHLd4FvuFJK",
        "outputId": "d9b5541c-9ee4-4944-8b4a-0fa4a9289488"
      },
      "execution_count": 72,
      "outputs": [
        {
          "output_type": "stream",
          "name": "stdout",
          "text": [
            "99.96609011283316 9.514838071465798 90.532143526215 99.0021281775769\n"
          ]
        }
      ]
    },
    {
      "cell_type": "markdown",
      "source": [
        "🌟 Exercise 3 : Understanding Distributions\n",
        "Instructions\n",
        "Generate a normal distribution using SciPy with a mean of 50 and a standard deviation of 10. Plot this distribution."
      ],
      "metadata": {
        "id": "7QcW2l63z0PK"
      }
    },
    {
      "cell_type": "code",
      "source": [
        "data = np.random.normal(loc=50, scale=10, size=100000)\n",
        "\n",
        "sns.kdeplot(data)\n",
        "plt.show()"
      ],
      "metadata": {
        "colab": {
          "base_uri": "https://localhost:8080/",
          "height": 430
        },
        "id": "oqqa08SOz0xt",
        "outputId": "ad3b22ce-4e35-4879-d42c-852d18afec65"
      },
      "execution_count": 78,
      "outputs": [
        {
          "output_type": "display_data",
          "data": {
            "text/plain": [
              "<Figure size 640x480 with 1 Axes>"
            ],
            "image/png": "[encoded data removed]"
          },
          "metadata": {}
        }
      ]
    },
    {
      "cell_type": "markdown",
      "source": [
        "🌟 Exercise 4 : T-Test Application\n",
        "Instructions\n",
        "Perform a T-test on two sets of randomly generated data. Hint: Use numpy.random.normal() to generate the datasets.\n",
        "\n"
      ],
      "metadata": {
        "id": "UmDsnjBH0SGv"
      }
    },
    {
      "cell_type": "code",
      "source": [
        "data = np.random.normal(loc=50, scale=10, size=100000)\n",
        "data2 = np.random.normal(loc=50, scale=10, size=100000)"
      ],
      "metadata": {
        "id": "T5QPEiy80Skx"
      },
      "execution_count": 80,
      "outputs": []
    },
    {
      "cell_type": "code",
      "source": [
        "t_statistic, p_value = stats.ttest_ind(data, data2)\n",
        "\n",
        "print(t_statistic, p_value)\n",
        "\n",
        "alpha = 0.05\n",
        "if p_value < alpha:\n",
        "    print(\"Reject the null hypothesis\")\n",
        "else:\n",
        "    print(\"Fail to reject the null hypothesis\")"
      ],
      "metadata": {
        "colab": {
          "base_uri": "https://localhost:8080/"
        },
        "id": "GRtAuoMD2_Jq",
        "outputId": "8426cf09-9c2e-463e-a60d-152b992193bb"
      },
      "execution_count": 89,
      "outputs": [
        {
          "output_type": "stream",
          "name": "stdout",
          "text": [
            "-0.055107578186147456 0.9560528138471677\n",
            "Fail to reject the null hypothesis\n"
          ]
        }
      ]
    },
    {
      "cell_type": "markdown",
      "source": [
        "Answer: the low negative t-stat indicates a tiny divergence between the mean of data and data2, with data being a bit lower. 0 would indicate there is no dfrnc in mean.\n",
        "\n",
        "The P value close to 1 indicates the high probably that the null hypothesis true. 1 would indicate that the two data sets are identical."
      ],
      "metadata": {
        "id": "mwsECAKh8ZIZ"
      }
    },
    {
      "cell_type": "markdown",
      "source": [
        "🌟 Exercise 5 : Working With DataFrames\n",
        "Instructions\n",
        "Task: Import a dataset using Pandas and calculate descriptive statistics for a specific column using SciPy.\n",
        "\n",
        "Sample Dataset: Use any publicly available dataset (e.g., Iris dataset).\n",
        "\n",
        "Code Example:\n",
        "\n",
        "\n",
        "\n",
        "import pandas as pd\n",
        "\n",
        "df = pd.read_csv('path_to_iris_dataset.csv')\n",
        "\n",
        "# complete your code here\n",
        "\n"
      ],
      "metadata": {
        "id": "GOqYSoy90dzZ"
      }
    },
    {
      "cell_type": "code",
      "source": [
        "import pandas as pd\n",
        "\n",
        "data = pd.read_csv('/content/global_power_plant_database.csv')\n",
        "df = pd.DataFrame(data)\n",
        "\n",
        "df.columns"
      ],
      "metadata": {
        "colab": {
          "base_uri": "https://localhost:8080/"
        },
        "id": "4f4IV3Eh9BiS",
        "outputId": "f877e143-c8fb-48f6-e458-ad026b7ce899"
      },
      "execution_count": 119,
      "outputs": [
        {
          "output_type": "stream",
          "name": "stderr",
          "text": [
            "<ipython-input-119-c1779b4340cc>:3: DtypeWarning: Columns (10) have mixed types. Specify dtype option on import or set low_memory=False.\n",
            "  data = pd.read_csv('/content/global_power_plant_database.csv')\n"
          ]
        },
        {
          "output_type": "execute_result",
          "data": {
            "text/plain": [
              "Index(['country', 'country_long', 'name', 'gppd_idnr', 'capacity_mw',\n",
              "       'latitude', 'longitude', 'primary_fuel', 'other_fuel1', 'other_fuel2',\n",
              "       'other_fuel3', 'commissioning_year', 'owner', 'source', 'url',\n",
              "       'geolocation_source', 'wepp_id', 'year_of_capacity_data',\n",
              "       'generation_gwh_2013', 'generation_gwh_2014', 'generation_gwh_2015',\n",
              "       'generation_gwh_2016', 'generation_gwh_2017', 'generation_gwh_2018',\n",
              "       'generation_gwh_2019', 'generation_data_source',\n",
              "       'estimated_generation_gwh_2013', 'estimated_generation_gwh_2014',\n",
              "       'estimated_generation_gwh_2015', 'estimated_generation_gwh_2016',\n",
              "       'estimated_generation_gwh_2017', 'estimated_generation_note_2013',\n",
              "       'estimated_generation_note_2014', 'estimated_generation_note_2015',\n",
              "       'estimated_generation_note_2016', 'estimated_generation_note_2017'],\n",
              "      dtype='object')"
            ]
          },
          "metadata": {},
          "execution_count": 119
        }
      ]
    },
    {
      "cell_type": "code",
      "source": [
        "gwh2015 = df['generation_gwh_2015']"
      ],
      "metadata": {
        "id": "xog0SIME9_Ed"
      },
      "execution_count": 103,
      "outputs": []
    },
    {
      "cell_type": "code",
      "source": [
        "gwh2015.describe()\n"
      ],
      "metadata": {
        "colab": {
          "base_uri": "https://localhost:8080/"
        },
        "id": "xxDsH8p5_elI",
        "outputId": "6654d15c-9edc-4988-daac-966a282e3027"
      },
      "execution_count": 105,
      "outputs": [
        {
          "output_type": "execute_result",
          "data": {
            "text/plain": [
              "count     8203.000000\n",
              "mean       762.368840\n",
              "std       2533.459828\n",
              "min       -864.428000\n",
              "25%          2.664500\n",
              "50%         26.142000\n",
              "75%        285.862583\n",
              "max      37433.607000\n",
              "Name: generation_gwh_2015, dtype: float64"
            ]
          },
          "metadata": {},
          "execution_count": 105
        }
      ]
    },
    {
      "cell_type": "code",
      "source": [
        "mean = sp.stats.tmean(gwh2015)\n",
        "median = np.median(gwh2015)\n",
        "std = sp.stats.tstd(gwh2015)\n",
        "min = sp.stats.tmin(gwh2015)\n",
        "max = sp.stats.tmax(gwh2015)\n"
      ],
      "metadata": {
        "colab": {
          "base_uri": "https://localhost:8080/"
        },
        "id": "kE3NH5iQ_pq2",
        "outputId": "d3abb5e4-cc79-4fe8-e217-0040d4bd02da"
      },
      "execution_count": 110,
      "outputs": [
        {
          "output_type": "execute_result",
          "data": {
            "text/plain": [
              "nan"
            ]
          },
          "metadata": {},
          "execution_count": 110
        }
      ]
    },
    {
      "cell_type": "markdown",
      "source": [
        "The above effort produces all nans."
      ],
      "metadata": {
        "id": "QQivkAIBALzm"
      }
    },
    {
      "cell_type": "code",
      "source": [
        "mean = gwh2015.mean()\n",
        "\n",
        "gwh2015 = gwh2015.fillna(mean)\n",
        "\n",
        "gwh2015\n",
        "\n",
        "#print(mean, median, std  , min,  max)"
      ],
      "metadata": {
        "colab": {
          "base_uri": "https://localhost:8080/"
        },
        "id": "18WVphJ-Avv7",
        "outputId": "3059f0e0-2764-4abb-eeb8-780e722181fe"
      },
      "execution_count": 124,
      "outputs": [
        {
          "output_type": "execute_result",
          "data": {
            "text/plain": [
              "0        762.36884\n",
              "1        762.36884\n",
              "2        762.36884\n",
              "3        762.36884\n",
              "4        762.36884\n",
              "           ...    \n",
              "34931    762.36884\n",
              "34932    762.36884\n",
              "34933    762.36884\n",
              "34934    762.36884\n",
              "34935    762.36884\n",
              "Name: generation_gwh_2015, Length: 34936, dtype: float64"
            ]
          },
          "metadata": {},
          "execution_count": 124
        }
      ]
    },
    {
      "cell_type": "code",
      "source": [
        "mean = sp.stats.tmean(gwh2015)\n",
        "median = np.median(gwh2015)\n",
        "std = sp.stats.tstd(gwh2015)\n",
        "min = sp.stats.tmin(gwh2015)\n",
        "max = sp.stats.tmax(gwh2015)\n",
        "\n",
        "print(mean, median, std  , min,  max)"
      ],
      "metadata": {
        "colab": {
          "base_uri": "https://localhost:8080/"
        },
        "id": "EhgEtsjIEHyo",
        "outputId": "06cc50d4-36c1-4b00-d854-1b62d3385f73"
      },
      "execution_count": 125,
      "outputs": [
        {
          "output_type": "stream",
          "name": "stdout",
          "text": [
            "762.3688404655808 762.3688404655809 1227.562268199424 -864.428 37433.607\n"
          ]
        }
      ]
    },
    {
      "cell_type": "markdown",
      "source": [
        "🌟 Exercise 6 : Advanced Statistical Functions\n",
        "Instructions\n",
        "Task: Explore one advanced statistical function in SciPy and demonstrate its use with an example.\n",
        "\n",
        "Sample Task: Calculate kurtosis and skewness of a dataset.\n",
        "\n",
        "Code Example:\n",
        "\n",
        "\n",
        "\n",
        "data = np.random.normal(0, 1, 1000)\n",
        "\n",
        "# complete your code here"
      ],
      "metadata": {
        "id": "_NriDIHnE0Nb"
      }
    },
    {
      "cell_type": "code",
      "source": [
        "stock_prices = np.random.randint(1, 100, 100)\n",
        "\n",
        "skew = sp.stats.skew(stock_prices)\n",
        "kurtosis = sp.stats.kurtosis(stock_prices)\n",
        "print(skew, kurtosis)\n"
      ],
      "metadata": {
        "colab": {
          "base_uri": "https://localhost:8080/"
        },
        "id": "8NlN-vBZgMF8",
        "outputId": "32281387-e949-4292-a3d2-a7e5fd1faeb5"
      },
      "execution_count": 141,
      "outputs": [
        {
          "output_type": "stream",
          "name": "stdout",
          "text": [
            "0.22283834217390514 -0.9553594574032882\n"
          ]
        }
      ]
    },
    {
      "cell_type": "markdown",
      "source": [
        "A positive skew means the distribution is slightly to the right, which means there are more number right of the median than left. But this is slight. The negative kurtosis suggests a relatively little amount of outliers and curtailed tails."
      ],
      "metadata": {
        "id": "90so_yYsGkXG"
      }
    },
    {
      "cell_type": "code",
      "source": [
        "sns.kdeplot(stock_prices)"
      ],
      "metadata": {
        "colab": {
          "base_uri": "https://localhost:8080/",
          "height": 448
        },
        "id": "YDZhkogbGWUE",
        "outputId": "4fd54867-75ef-4a43-9280-6b12bbc0ee1d"
      },
      "execution_count": 142,
      "outputs": [
        {
          "output_type": "execute_result",
          "data": {
            "text/plain": [
              "<Axes: ylabel='Density'>"
            ]
          },
          "metadata": {},
          "execution_count": 142
        },
        {
          "output_type": "display_data",
          "data": {
            "text/plain": [
              "<Figure size 640x480 with 1 Axes>"
            ],
            "image/png": "[encoded data removed]"
          },
          "metadata": {}
        }
      ]
    }
  ]
}