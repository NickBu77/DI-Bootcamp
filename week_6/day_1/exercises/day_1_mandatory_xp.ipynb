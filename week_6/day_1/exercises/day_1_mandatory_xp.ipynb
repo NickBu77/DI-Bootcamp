{
  "cells": [
    {
      "cell_type": "markdown",
      "source": [
        "🌟 Exercise 1 : Array Creation And Manipulation\n",
        "Instructions\n",
        "Create a 1D NumPy array containing numbers from 0 to 9.\n",
        "\n",
        "Expected Output:\n",
        "\n",
        "\n",
        "\n",
        "# array([0, 1, 2, 3, 4, 5, 6, 7, 8, 9])"
      ],
      "metadata": {
        "id": "kUX89g5bFumh"
      },
      "id": "kUX89g5bFumh"
    },
    {
      "cell_type": "code",
      "source": [
        "import numpy as np\n",
        "\n",
        "a1 = np.arange(0,10)\n",
        "a1"
      ],
      "metadata": {
        "colab": {
          "base_uri": "https://localhost:8080/"
        },
        "id": "wlgJqRisFxCq",
        "outputId": "4d5f5124-65f1-481b-f799-5419eea66d38"
      },
      "id": "wlgJqRisFxCq",
      "execution_count": 5,
      "outputs": [
        {
          "output_type": "execute_result",
          "data": {
            "text/plain": [
              "array([0, 1, 2, 3, 4, 5, 6, 7, 8, 9])"
            ]
          },
          "metadata": {},
          "execution_count": 5
        }
      ]
    },
    {
      "cell_type": "markdown",
      "source": [
        "🌟 Exercise 2 : Type Conversion And Array Operations\n",
        "Instructions\n",
        "Convert a list [3.14, 2.17, 0, 1, 2] into a NumPy array and convert its data type to integer.\n",
        "\n",
        "Expected Output:"
      ],
      "metadata": {
        "id": "_xAwKRNTHcj6"
      },
      "id": "_xAwKRNTHcj6"
    },
    {
      "cell_type": "code",
      "source": [
        "list_1 = [3.14, 2.17, 0, 1, 2]\n",
        "\n",
        "a2 = np.array(list_1, dtype=int)\n",
        "\n",
        "a2"
      ],
      "metadata": {
        "colab": {
          "base_uri": "https://localhost:8080/"
        },
        "id": "GwgrrGvMHdNN",
        "outputId": "a01433fd-f5b3-4f7c-b576-dfe34fe95fcc"
      },
      "id": "GwgrrGvMHdNN",
      "execution_count": 6,
      "outputs": [
        {
          "output_type": "execute_result",
          "data": {
            "text/plain": [
              "array([3, 2, 0, 1, 2])"
            ]
          },
          "metadata": {},
          "execution_count": 6
        }
      ]
    },
    {
      "cell_type": "markdown",
      "source": [
        "🌟 Exercise 3 : Working With Multi-Dimensional Arrays\n",
        "Instructions\n",
        "Create a 3x3 NumPy array with values ranging from 1 to 9.\n",
        "\n",
        "Expected Output:\n",
        "\n",
        "array([[1, 2, 3],\n",
        "       [4, 5, 6],\n",
        "       [7, 8, 9]])"
      ],
      "metadata": {
        "id": "VmN5ykncg5lP"
      },
      "id": "VmN5ykncg5lP"
    },
    {
      "cell_type": "code",
      "source": [
        "# method 1\n",
        "# a = np.array([[1,2,3],[4,5,6],[7,8,9]])\n",
        "\n",
        "a3 = np.arange(1,10)\n",
        "a3 = a.reshape(3,3)\n",
        "a3\n"
      ],
      "metadata": {
        "colab": {
          "base_uri": "https://localhost:8080/"
        },
        "id": "xPkHWYSPg7Mr",
        "outputId": "9bf7bb59-ca3d-4810-a12a-a78650b75e13"
      },
      "id": "xPkHWYSPg7Mr",
      "execution_count": 25,
      "outputs": [
        {
          "output_type": "execute_result",
          "data": {
            "text/plain": [
              "array([[1, 2, 3],\n",
              "       [4, 5, 6],\n",
              "       [7, 8, 9]])"
            ]
          },
          "metadata": {},
          "execution_count": 25
        }
      ]
    },
    {
      "cell_type": "markdown",
      "source": [
        "🌟 Exercise 4 : Creating Multi-Dimensional Array With Random Numbers\n",
        "Instructions\n",
        "Create a 2D NumPy array of shape (4, 5) filled with random numbers.\n",
        "\n",
        "Expected Output:\n",
        "\n",
        "\n",
        "\n",
        "array([[0.56, 0.85, 0.01, 0.42, 0.68],\n",
        "       [0.22, 0.37, 0.73, 0.93, 0.39],\n",
        "       [0.44, 0.03, 0.87, 0.02, 0.83],\n",
        "       [0.78, 0.87, 0.98, 0.80, 0.46]])"
      ],
      "metadata": {
        "id": "EVWoWE4EqTF-"
      },
      "id": "EVWoWE4EqTF-"
    },
    {
      "cell_type": "code",
      "source": [
        "a4 = np.random.random(20).reshape(4,5)\n",
        "a4"
      ],
      "metadata": {
        "colab": {
          "base_uri": "https://localhost:8080/"
        },
        "id": "AtEQCckEhMjS",
        "outputId": "962d64eb-ca1c-45a6-e0af-50e59effd903"
      },
      "id": "AtEQCckEhMjS",
      "execution_count": 27,
      "outputs": [
        {
          "output_type": "execute_result",
          "data": {
            "text/plain": [
              "array([[0.71672568, 0.17352976, 0.47041453, 0.78673751, 0.20084405],\n",
              "       [0.62971431, 0.73593973, 0.44051733, 0.61222598, 0.91597061],\n",
              "       [0.29610489, 0.39417071, 0.10494823, 0.01841396, 0.61302492],\n",
              "       [0.65306647, 0.84501379, 0.50749368, 0.60238554, 0.03097043]])"
            ]
          },
          "metadata": {},
          "execution_count": 27
        }
      ]
    },
    {
      "cell_type": "markdown",
      "source": [
        "🌟 Exercise 5 : Indexing Arrays\n",
        "Instructions\n",
        "Select the second row from a given 2D NumPy array.\n",
        "\n",
        "Expected Output:\n",
        "\n",
        "\n",
        "\n",
        "array([20, 21, 22, 23, 24])"
      ],
      "metadata": {
        "id": "lMN5V47D3_V5"
      },
      "id": "lMN5V47D3_V5"
    },
    {
      "cell_type": "code",
      "source": [
        "a5 = np.array([[1,4,6,2],[4,1,6,1],[5,1,6,2]])\n",
        "\n",
        "a5[1]"
      ],
      "metadata": {
        "colab": {
          "base_uri": "https://localhost:8080/"
        },
        "id": "6TzRbld03_6F",
        "outputId": "0d5b7fc3-e62d-4161-ab1b-923e4f81a7c9"
      },
      "id": "6TzRbld03_6F",
      "execution_count": 29,
      "outputs": [
        {
          "output_type": "execute_result",
          "data": {
            "text/plain": [
              "array([4, 1, 6, 1])"
            ]
          },
          "metadata": {},
          "execution_count": 29
        }
      ]
    },
    {
      "cell_type": "markdown",
      "source": [
        "🌟 Exercise 6 : Reversing Elements\n",
        "Instructions\n",
        "Reverse the order of elements in a given 1D NumPy array (first element becomes last).\n",
        "\n",
        "Expected Output:\n",
        "\n",
        "\n",
        "\n",
        "array([9, 8, 7, 6, 5, 4, 3, 2, 1, 0])"
      ],
      "metadata": {
        "id": "7b2mBPEp5fmV"
      },
      "id": "7b2mBPEp5fmV"
    },
    {
      "cell_type": "code",
      "source": [
        "a6 = np.arange(10)\n",
        "a6 = a6[::-1]\n",
        "a6"
      ],
      "metadata": {
        "colab": {
          "base_uri": "https://localhost:8080/"
        },
        "id": "2pbQVM2h5eQC",
        "outputId": "fbd9d18e-bfae-49db-836a-165635ee59c2"
      },
      "id": "2pbQVM2h5eQC",
      "execution_count": 66,
      "outputs": [
        {
          "output_type": "execute_result",
          "data": {
            "text/plain": [
              "array([9, 8, 7, 6, 5, 4, 3, 2, 1, 0])"
            ]
          },
          "metadata": {},
          "execution_count": 66
        }
      ]
    },
    {
      "cell_type": "markdown",
      "source": [
        "🌟 Exercise 7 : Identity Matrix\n",
        "\n",
        "Instructions\n",
        "Create a 4x4 identity matrix using NumPy.\n",
        "\n",
        "Expected Output:\n",
        "array([[1., 0., 0., 0.],\n",
        "       [0., 1., 0., 0.],\n",
        "       [0., 0., 1., 0.],\n",
        "       [0., 0., 0., 1.]])"
      ],
      "metadata": {
        "id": "QhLvwPXYQ_gi"
      },
      "id": "QhLvwPXYQ_gi"
    },
    {
      "cell_type": "code",
      "source": [
        "a7 = np.zeros((4, 4), dtype=float)\n",
        "a7"
      ],
      "metadata": {
        "colab": {
          "base_uri": "https://localhost:8080/"
        },
        "id": "AgXAjc1GRANA",
        "outputId": "61979e1e-e6b5-48ab-f7d3-d090b75b6aa5"
      },
      "id": "AgXAjc1GRANA",
      "execution_count": 81,
      "outputs": [
        {
          "output_type": "execute_result",
          "data": {
            "text/plain": [
              "array([[0., 0., 0., 0.],\n",
              "       [0., 0., 0., 0.],\n",
              "       [0., 0., 0., 0.],\n",
              "       [0., 0., 0., 0.]])"
            ]
          },
          "metadata": {},
          "execution_count": 81
        }
      ]
    },
    {
      "cell_type": "code",
      "source": [
        "a7[[np.arange(4)],[np.arange(4)]] = a7[[np.arange(4)],[np.arange(4)]]+1\n",
        "\n"
      ],
      "metadata": {
        "id": "dm1wSIcoSmq_"
      },
      "id": "dm1wSIcoSmq_",
      "execution_count": 82,
      "outputs": []
    },
    {
      "cell_type": "code",
      "source": [
        "a7"
      ],
      "metadata": {
        "colab": {
          "base_uri": "https://localhost:8080/"
        },
        "id": "52rE9tr3TV_0",
        "outputId": "86453dec-9b17-4baf-95cd-4a255a84137e"
      },
      "id": "52rE9tr3TV_0",
      "execution_count": 83,
      "outputs": [
        {
          "output_type": "execute_result",
          "data": {
            "text/plain": [
              "array([[1., 0., 0., 0.],\n",
              "       [0., 1., 0., 0.],\n",
              "       [0., 0., 1., 0.],\n",
              "       [0., 0., 0., 1.]])"
            ]
          },
          "metadata": {},
          "execution_count": 83
        }
      ]
    },
    {
      "cell_type": "markdown",
      "source": [
        "🌟 Exercise 8 : Simple Aggregate Funcs\n",
        "Instructions\n",
        "Find the sum and average of a given 1D array.\n",
        "\n",
        "Expected Output:\n",
        "\n",
        "Sum: 45, Average: 4.5"
      ],
      "metadata": {
        "id": "oE9GEx6iTgiE"
      },
      "id": "oE9GEx6iTgiE"
    },
    {
      "cell_type": "code",
      "source": [
        "a8 = np.arange(1,10,1)\n",
        "f'Sum:{a8.sum()}, Average: {a8.mean()}'"
      ],
      "metadata": {
        "colab": {
          "base_uri": "https://localhost:8080/",
          "height": 36
        },
        "id": "aCvui3dfTWFY",
        "outputId": "126bf8c8-0016-4e95-ac5e-6ca3202624c0"
      },
      "id": "aCvui3dfTWFY",
      "execution_count": 94,
      "outputs": [
        {
          "output_type": "execute_result",
          "data": {
            "text/plain": [
              "'Sum:45, Average: 5.0'"
            ],
            "application/vnd.google.colaboratory.intrinsic+json": {
              "type": "string"
            }
          },
          "metadata": {},
          "execution_count": 94
        }
      ]
    },
    {
      "cell_type": "markdown",
      "source": [
        "🌟 Exercise 9 : Create Array And Change Its Structure\n",
        "Instructions\n",
        "Create a NumPy array with elements from 1 to 20; then reshape it into a 4x5 matrix.\n",
        "\n",
        "Expected Output:\n",
        "\n",
        "\n",
        "\n",
        "array([[ 1,  2,  3,  4,  5],\n",
        "       [ 6,  7,  8,  9, 10],\n",
        "       [11, 12, 13, 14, 15],\n",
        "       [16, 17, 18, 19, 20]])"
      ],
      "metadata": {
        "id": "z3T7qooKUSF8"
      },
      "id": "z3T7qooKUSF8"
    },
    {
      "cell_type": "code",
      "source": [
        "a9 = np.arange(1,21,1).reshape(4,5)\n",
        "a9"
      ],
      "metadata": {
        "colab": {
          "base_uri": "https://localhost:8080/"
        },
        "id": "1TcEn_yaUUlZ",
        "outputId": "4f435517-6094-4daf-dca7-4994aff08b75"
      },
      "id": "1TcEn_yaUUlZ",
      "execution_count": 97,
      "outputs": [
        {
          "output_type": "execute_result",
          "data": {
            "text/plain": [
              "array([[ 1,  2,  3,  4,  5],\n",
              "       [ 6,  7,  8,  9, 10],\n",
              "       [11, 12, 13, 14, 15],\n",
              "       [16, 17, 18, 19, 20]])"
            ]
          },
          "metadata": {},
          "execution_count": 97
        }
      ]
    },
    {
      "cell_type": "markdown",
      "source": [
        "🌟 Exercise 10 : Conditional Selection Of Values\n",
        "Instructions\n",
        "Extract all odd numbers from a given NumPy array.\n",
        "\n",
        "Expected Output:\n",
        "\n",
        "array([1, 3, 5, 7, 9])"
      ],
      "metadata": {
        "id": "lSwsYSmWU_br"
      },
      "id": "lSwsYSmWU_br"
    },
    {
      "cell_type": "code",
      "source": [
        "a10 = np.arange(0,10)\n",
        "a10odds = a10[a10%2 != 0]\n",
        "a10odds"
      ],
      "metadata": {
        "colab": {
          "base_uri": "https://localhost:8080/"
        },
        "id": "_4QVN-3ZU-2L",
        "outputId": "c68ce0f5-fa93-4545-f3f2-2214bad1ea63"
      },
      "id": "_4QVN-3ZU-2L",
      "execution_count": 99,
      "outputs": [
        {
          "output_type": "execute_result",
          "data": {
            "text/plain": [
              "array([1, 3, 5, 7, 9])"
            ]
          },
          "metadata": {},
          "execution_count": 99
        }
      ]
    }
  ],
  "metadata": {
    "language_info": {
      "name": "python"
    },
    "colab": {
      "provenance": []
    },
    "kernelspec": {
      "name": "python3",
      "display_name": "Python 3"
    }
  },
  "nbformat": 4,
  "nbformat_minor": 5
}