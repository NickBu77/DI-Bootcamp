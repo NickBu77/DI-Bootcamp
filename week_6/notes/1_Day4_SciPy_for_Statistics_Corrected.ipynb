{
  "cells": [
    {
      "cell_type": "markdown",
      "id": "099392cd",
      "metadata": {
        "id": "099392cd"
      },
      "source": [
        "# SciPy for Statistics\n",
        "\n",
        "### Expanded Statistical Functions in SciPy\n",
        "SciPy offers more than the basic statistical functions of NumPy, providing a broad toolkit for handling probability distributions and performing statistical tests, crucial for in-depth data analysis.\n",
        "\n",
        "#### Probability Distributions\n",
        "SciPy's extensive library includes various continuous and discrete distributions, such as the normal (Gaussian), binomial, and Poisson distributions.\n",
        "\n",
        "![Alt text](../media/gaussian_binomial_poisson.PNG)\n",
        "\n",
        "1. **Gaussian Distribution:**\n",
        "   - **Description:** The probability density function (PDF) of the Gaussian distribution is shown. It's characterized by its mean (μ) and standard deviation (σ) and has a symmetrical, bell-shaped curve.\n",
        "   - **Mean (μ):** Central value around which data is distributed.\n",
        "   - **Standard Deviation (σ):** Measures the spread or dispersion of the data.\n",
        "   - **Example Usage:** Gaussian distributions are widely used in natural and social sciences to represent real-valued random variables whose distributions are unknown.\n",
        "\n",
        "2. **Binomial Distribution:**\n",
        "   - **Description:** The probability mass function (PMF) is illustrated, showing the probability of observing a specific number of successes in a set number of trials.\n",
        "   - **Number of Trials (n):** Total count of experiments or trials.\n",
        "   - **Probability of Success (p):** Chance of a successful outcome in each trial.\n",
        "   - **Example Usage:** Binomial distribution is often used in quality control, survey analysis, and clinical trials.\n",
        "\n",
        "#### Understanding PMF (Probability Mass Function)\n",
        "PMF is a function that provides the probability that a discrete random variable is exactly equal to a certain value. It is particularly useful for distributions like the binomial or Poisson.\n",
        "\n",
        "3. **Poisson Distribution:**\n",
        "   - **Description:** This PMF graph demonstrates the probability of observing a certain number of events in a fixed interval.\n",
        "   - **Example:** In a call center, the Poisson distribution can model the probability of receiving a specific number of calls per hour.\n",
        "   - **Example Usage:** Consider a call center that typically receives an average of 3 calls per hour. Using the Poisson distribution, we can model the probability of receiving different numbers of calls in any given hour. This is particularly useful for staffing and resource allocation, as it helps predict periods of high call volumes."
      ]
    },
    {
      "cell_type": "code",
      "execution_count": 23,
      "id": "c4168eee",
      "metadata": {
        "id": "c4168eee"
      },
      "outputs": [
        {
          "name": "stdout",
          "output_type": "stream",
          "text": [
            "PMF for 3 events: 0.12511003572113372\n"
          ]
        }
      ],
      "source": [
        "from scipy import stats\n",
        "\n",
        "# Poisson Example\n",
        "lambda_ = 10  # average number of calls per hour\n",
        "poisson_dist = stats.poisson(lambda_)\n",
        "print(\"PMF for 3 events:\", poisson_dist.pmf(10))"
      ]
    },
    {
      "cell_type": "code",
      "execution_count": 48,
      "id": "77466657",
      "metadata": {},
      "outputs": [
        {
          "name": "stdout",
          "output_type": "stream",
          "text": [
            "Probability of observing exactly 9 events: 0.16803135574154085\n",
            "Probability of observing exactly 10 events: 0.22404180765538775\n"
          ]
        }
      ],
      "source": [
        "lambda_ = 3  # average number of calls per hour\n",
        "poisson_dist = stats.poisson(lambda_)\n",
        "\n",
        "# Probability of observing exactly 9 and 10 events\n",
        "probability_99_events = poisson_dist.pmf(4)\n",
        "probability_100_events = poisson_dist.pmf(3)\n",
        "\n",
        "print(\"Probability of observing exactly 9 events:\", probability_99_events)\n",
        "print(\"Probability of observing exactly 10 events:\", probability_100_events)\n"
      ]
    },
    {
      "cell_type": "code",
      "execution_count": 29,
      "id": "cf824b11",
      "metadata": {},
      "outputs": [
        {
          "data": {
            "text/plain": [
              "<scipy.stats._distn_infrastructure.rv_frozen at 0x15179df3070>"
            ]
          },
          "execution_count": 29,
          "metadata": {},
          "output_type": "execute_result"
        }
      ],
      "source": [
        "poisson_dist"
      ]
    },
    {
      "cell_type": "markdown",
      "id": "a9a9b71b",
      "metadata": {
        "id": "a9a9b71b"
      },
      "source": [
        "#### Visualization of Distributions\n",
        "Visual representations can significantly aid in understanding these distributions."
      ]
    },
    {
      "cell_type": "code",
      "execution_count": 57,
      "id": "bdc2660c",
      "metadata": {
        "id": "bdc2660c",
        "outputId": "07a89217-3a5c-4968-84ff-32cf8594872c"
      },
      "outputs": [
        {
          "name": "stdout",
          "output_type": "stream",
          "text": [
            "PDF at x=0.5: 0.3989422804014327\n"
          ]
        }
      ],
      "source": [
        "from scipy import stats\n",
        "\n",
        "# Example: Gaussian Distribution\n",
        "mu, sigma = 0, 1  # mean and standard deviation\n",
        "gaussian_dist = stats.norm(mu, sigma)\n",
        "print(\"PDF at x=0.5:\", gaussian_dist.pdf(0))"
      ]
    },
    {
      "cell_type": "code",
      "execution_count": 62,
      "id": "5e310123",
      "metadata": {
        "id": "5e310123",
        "outputId": "fb92fbfe-7346-4a33-dd4b-07752412e613"
      },
      "outputs": [
        {
          "name": "stdout",
          "output_type": "stream",
          "text": [
            "PMF at 5 successes: 7.69969666587513e-289\n"
          ]
        }
      ],
      "source": [
        "from scipy import stats\n",
        "\n",
        "# Example: Binomial Distribution\n",
        "n, p = 1000, 0.5  # number of trials, probability of each trial\n",
        "binom_dist = stats.binom(n, p)\n",
        "print(\"PMF at 5 successes:\", binom_dist.pmf(5))\n"
      ]
    },
    {
      "cell_type": "markdown",
      "id": "4ddd1bc2",
      "metadata": {
        "id": "4ddd1bc2"
      },
      "source": []
    },
    {
      "cell_type": "code",
      "execution_count": null,
      "id": "fe75c631",
      "metadata": {
        "id": "fe75c631",
        "outputId": "5864df10-8abb-4d59-fa1d-3f8d02d4fe1c"
      },
      "outputs": [
        {
          "name": "stdout",
          "output_type": "stream",
          "text": [
            "PMF for 3 events: 0.22404180765538775\n"
          ]
        }
      ],
      "source": [
        "# Example: Poisson Distribution\n",
        "lambda_ = 3  # rate\n",
        "poisson_dist = stats.poisson(lambda_)\n",
        "print(\"PMF for 3 events:\", poisson_dist.pmf(3))"
      ]
    },
    {
      "cell_type": "markdown",
      "id": "d8a52c91",
      "metadata": {
        "id": "d8a52c91"
      },
      "source": [
        "#### Plotting Example - Gaussian Distribution"
      ]
    },
    {
      "cell_type": "code",
      "execution_count": 63,
      "id": "30bc78d3",
      "metadata": {
        "id": "30bc78d3",
        "outputId": "d0c34c5b-f356-4e1d-adf3-db48c6c68b97"
      },
      "outputs": [
        {
          "name": "stdout",
          "output_type": "stream",
          "text": [
            "PDF at x=0.5: 1.4867195147342979e-05\n"
          ]
        },
        {
          "data": {
            "image/png": "[encoded data removed]",
            "text/plain": [
              "<Figure size 432x288 with 1 Axes>"
            ]
          },
          "metadata": {
            "needs_background": "light"
          },
          "output_type": "display_data"
        }
      ],
      "source": [
        "from scipy import stats\n",
        "import numpy as np\n",
        "import matplotlib.pyplot as plt\n",
        "\n",
        "# Gaussian Distribution\n",
        "mu, sigma = 0, 0.1  # mean and standard deviation\n",
        "gaussian_dist = stats.norm(mu, sigma)\n",
        "print(\"PDF at x=0.5:\", gaussian_dist.pdf(0.5))\n",
        "\n",
        "# Plotting Gaussian Distribution\n",
        "x_gaussian = np.linspace(-0.5, 0.5, 100)\n",
        "pdf_gaussian = gaussian_dist.pdf(x_gaussian)\n",
        "plt.figure(figsize=(6, 4))\n",
        "plt.plot(x_gaussian, pdf_gaussian)\n",
        "plt.title('Gaussian Distribution\\n$\\mu=0$, $\\sigma=0.1$')\n",
        "plt.xlabel('x')\n",
        "plt.ylabel('PDF')\n",
        "plt.show()"
      ]
    },
    {
      "cell_type": "markdown",
      "id": "73fab5e8",
      "metadata": {
        "id": "73fab5e8"
      },
      "source": [
        "#### Plotting Example - Binomial Distribution"
      ]
    },
    {
      "cell_type": "code",
      "execution_count": null,
      "id": "34fb93b9",
      "metadata": {
        "id": "34fb93b9",
        "outputId": "68970db1-9efc-4c7a-eb0f-1e57ef253283"
      },
      "outputs": [
        {
          "data": {
            "image/png": "[encoded data removed]",
            "text/plain": [
              "<Figure size 600x400 with 1 Axes>"
            ]
          },
          "metadata": {},
          "output_type": "display_data"
        }
      ],
      "source": [
        "# Plotting Binomial Distribution\n",
        "n, p = 3, 0.5\n",
        "binom_dist = stats.binom(n,p)\n",
        "x_binom = np.arange(0, n+1)\n",
        "pmf_binom = binom_dist.pmf(x_binom)\n",
        "plt.figure(figsize=(6, 4))\n",
        "plt.bar(x_binom, pmf_binom)\n",
        "plt.title('Binomial Distribution\\n$n=1000$, $p=0.5$')\n",
        "plt.xlabel('Number of Successes')\n",
        "plt.ylabel('PMF')\n",
        "plt.show()"
      ]
    },
    {
      "cell_type": "markdown",
      "id": "fd52f279",
      "metadata": {
        "id": "fd52f279"
      },
      "source": [
        "#### Plotting Example - Poisson Distribution"
      ]
    },
    {
      "cell_type": "code",
      "execution_count": null,
      "id": "71457194",
      "metadata": {
        "id": "71457194",
        "outputId": "ffa8d769-7b78-42b9-8482-720f2ef9ef9b"
      },
      "outputs": [
        {
          "name": "stderr",
          "output_type": "stream",
          "text": [
            "<>:11: SyntaxWarning: invalid escape sequence '\\l'\n",
            "<>:11: SyntaxWarning: invalid escape sequence '\\l'\n",
            "C:\\Users\\COM\\AppData\\Local\\Temp\\ipykernel_19248\\2773292172.py:11: SyntaxWarning: invalid escape sequence '\\l'\n",
            "  plt.title('Poisson Distribution\\n$\\lambda=3$')\n"
          ]
        },
        {
          "name": "stdout",
          "output_type": "stream",
          "text": [
            "PMF for 3 events: 0.22404180765538775\n"
          ]
        },
        {
          "data": {
            "image/png": "[encoded data removed]",
            "text/plain": [
              "<Figure size 600x400 with 1 Axes>"
            ]
          },
          "metadata": {},
          "output_type": "display_data"
        }
      ],
      "source": [
        "# Poisson Distribution\n",
        "lambda_ = 3  # rate\n",
        "poisson_dist = stats.poisson(lambda_)\n",
        "print(\"PMF for 3 events:\", poisson_dist.pmf(3))\n",
        "\n",
        "# Plotting Poisson Distribution\n",
        "x_poisson = np.arange(0, 10)\n",
        "pmf_poisson = poisson_dist.pmf(x_poisson)\n",
        "plt.figure(figsize=(6, 4))\n",
        "plt.bar(x_poisson, pmf_poisson)\n",
        "plt.title('Poisson Distribution\\n$\\lambda=3$')\n",
        "plt.xlabel('Number of Events')\n",
        "plt.ylabel('PMF')\n",
        "plt.show()"
      ]
    },
    {
      "cell_type": "markdown",
      "id": "4d4df12c",
      "metadata": {
        "id": "4d4df12c"
      },
      "source": [
        "#### Brief on CDF (Cumulative Distribution Function)\n",
        "CDF shows the probability that a variable will take a value less than or equal to a particular value. It's useful for understanding the distribution of probabilities over a range.\n",
        "\n",
        "### Exercise: Perform a Hypothesis Test\n",
        "1. Access the plant growth dataset from [Wolfram Data Repository](https://datarepository.wolframcloud.com/resources/Sample-Data-Plant-Growth).\n",
        "2. Use a T-test to determine if different fertilizers significantly affect plant growth.\n",
        "3. Analyze and interpret the test results."
      ]
    },
    {
      "cell_type": "markdown",
      "id": "245697e3",
      "metadata": {
        "id": "245697e3"
      },
      "source": [
        "### Hypothesis Testing in SciPy\n",
        "Hypothesis testing is vital for assessing assumptions about population parameters based on sample data.\n",
        "\n",
        "#### Example: T-test\n",
        "A T-test helps determine if there is a significant difference between the means of two groups."
      ]
    },
    {
      "cell_type": "code",
      "execution_count": null,
      "id": "ade58274",
      "metadata": {
        "id": "ade58274",
        "outputId": "b5ab86f8-8d35-41cc-c3b9-2974d6fd4040"
      },
      "outputs": [
        {
          "name": "stdout",
          "output_type": "stream",
          "text": [
            "T-statistic: -1.8299124691994404\n",
            "P-value: 0.0687666903652844\n"
          ]
        }
      ],
      "source": [
        "# T-test Example\n",
        "group1 = stats.norm.rvs(loc=5, scale=10, size=100)\n",
        "group2 = stats.norm.rvs(loc=5, scale=10, size=100)\n",
        "\n",
        "t_statistic, p_value = stats.ttest_ind(group1, group2)\n",
        "print(\"T-statistic:\", t_statistic)\n",
        "print(\"P-value:\", p_value)"
      ]
    }
  ],
  "metadata": {
    "colab": {
      "provenance": []
    },
    "kernelspec": {
      "display_name": "Python 3",
      "language": "python",
      "name": "python3"
    },
    "language_info": {
      "codemirror_mode": {
        "name": "ipython",
        "version": 3
      },
      "file_extension": ".py",
      "mimetype": "text/x-python",
      "name": "python",
      "nbconvert_exporter": "python",
      "pygments_lexer": "ipython3",
      "version": "3.8.8"
    }
  },
  "nbformat": 4,
  "nbformat_minor": 5
}
