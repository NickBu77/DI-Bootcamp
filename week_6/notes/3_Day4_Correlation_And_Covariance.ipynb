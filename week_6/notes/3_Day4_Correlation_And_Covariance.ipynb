{
  "cells": [
    {
      "cell_type": "markdown",
      "id": "60b04ec5",
      "metadata": {
        "id": "60b04ec5"
      },
      "source": [
        "# Correlation and Covariance\n",
        "\n",
        "## Understanding Correlation and Covariance\n",
        "\n",
        "**Correlation** and **covariance** are fundamental statistical tools used to examine the relationship between two variables. They are widely applied in fields like data science, economics, and natural sciences, providing insights into how changes in one variable may affect another.\n",
        "\n",
        "### Understanding Linear Relationships\n",
        "\n",
        "A **linear relationship** implies that a change in one variable results in a proportional change in another. This is typically represented by a straight line on a graph, such as temperature against ice cream sales showing a direct, linear increase.\n",
        "\n",
        "### The Significance of Rank in Statistics\n",
        "\n",
        "In statistics, **rank** indicates the position of a value within a sorted list. For example, in a dataset of student heights, the tallest student would have the highest rank. Ranking is important in non-parametric statistics and is especially useful for non-normally distributed data.\n",
        "\n",
        "#### Python Example for Rank\n",
        "Here's a Python example where we rank student scores:"
      ]
    },
    {
      "cell_type": "code",
      "execution_count": null,
      "id": "71e006ea",
      "metadata": {
        "id": "71e006ea"
      },
      "outputs": [],
      "source": [
        "import pandas as pd\n",
        "\n",
        "# Sample data: student scores\n",
        "scores = pd.Series([70, 80, 90, 60, 85])\n",
        "ranks = scores.rank(ascending=False)\n",
        "\n",
        "print(ranks)"
      ]
    },
    {
      "cell_type": "markdown",
      "id": "6da10fde",
      "metadata": {
        "id": "6da10fde"
      },
      "source": [
        "Output:"
      ]
    },
    {
      "cell_type": "markdown",
      "id": "465f77aa",
      "metadata": {
        "id": "465f77aa"
      },
      "source": [
        "0    3.0\n",
        "1    2.0\n",
        "2    1.0\n",
        "3    5.0\n",
        "4    4.0"
      ]
    },
    {
      "cell_type": "markdown",
      "id": "2132a2fa",
      "metadata": {
        "id": "2132a2fa"
      },
      "source": [
        "### Delving into Correlation\n",
        "\n",
        "Correlation coefficients quantify the strength and direction of a linear relationship between two variables, ranging from -1 to +1. Two primary types are:\n",
        "\n",
        "- **Pearson Correlation Coefficient**: Measures the linear relationship between two continuous variables. Values near +1 or -1 denote strong positive or negative linear relationships, respectively.\n",
        "- **Spearman Correlation Coefficient**: Assesses the monotonic relationship between two variables, ideal for ordinal or non-normally distributed data.\n",
        "\n",
        "#### Applications of Correlation\n",
        "\n",
        "Correlation is instrumental in predictive modeling, risk assessment, and hypothesis testing.\n",
        "\n",
        "#### Visualizing Correlation\n",
        "\n",
        "A scatter plot demonstrating a positive linear relationship between two variables:\n",
        "\n",
        "![Alt text](../media/5_Pearson_Correlation_Plot.png)\n",
        "\n",
        "### Exploring Covariance\n",
        "\n",
        "Covariance describes how two variables change together, but unlike correlation, it does not normalize for the variance and can range from negative to positive infinity.\n",
        "\n",
        "#### Intuitive Explanation of Covariance\n",
        "Consider the relationship between temperature and ice cream sales. On hot days (higher temperatures), ice cream sales increase, and on colder days, sales decrease. This relationship would result in a positive covariance, indicating that the two variables move in the same direction. Covariance, however, does not indicate the strength of this relationship, merely the direction.\n",
        "\n",
        "#### Utilizing Covariance\n",
        "\n",
        "Covariance is critical in finance for portfolio diversification, showing how different assets move relative to each other.\n",
        "\n",
        "#### Covariance in Graphs\n",
        "\n",
        "A scatter plot illustrating the trend in covariance:\n",
        "\n",
        "![Alt text](../media/5_Covariance_Plot.png)\n",
        "\n",
        "### Correlation vs. Covariance\n",
        "\n",
        "While both correlation and covariance indicate the direction of a linear relationship between variables, correlation additionally measures the strength of the relationship. Correlation coefficients are normalized and provide insights into how strongly two variables are related, which is not directly inferred from covariance.\n",
        "\n",
        "### Correlation Matrices in Analysis\n",
        "\n",
        "A **correlation matrix** displays the correlation coefficients between pairs of variables and is particularly useful in handling large datasets.\n",
        "\n",
        "#### The Importance of Correlation Matrices\n",
        "\n",
        "These matrices are crucial for understanding relationships between variables, aiding in feature selection and detecting multicollinearity in machine learning.\n",
        "\n",
        "#### Matrix Visualization\n",
        "\n",
        "A visualization of a correlation matrix:\n",
        "\n",
        "![Alt text](../media/5_Correlation_Matrix_Plot.png)\n",
        "\n",
        "### Exercise: Interpreting Correlation and Covariance\n",
        "\n",
        "#### Background:\n",
        "Analyze data from a market study to understand consumer behavior. The dataset includes age, monthly income, online purchase frequency, and social media usage.\n",
        "\n",
        "#### Dataset Sample:\n",
        "\n",
        "| Age | Monthly Income | Online Purchase Frequency | Hours Spent on Social Media |\n",
        "|-----|----------------|---------------------------|-----------------------------|\n",
        "| 25  | 3200           | 15                        | 30                          |\n",
        "| 40  | 5800           | 8                         | 15                          |\n",
        "| 30  | 4500           | 12                        | 25                          |\n",
        "| 22  | 2800           | 18                        | 40                          |\n",
        "| 35  | 5000           | 10                        | 20                          |\n",
        "\n",
        "### Statistical Analysis Results:\n",
        "\n",
        "| Statistical Measure                | Value |\n",
        "|------------------------------------|-------|\n",
        "| Pearson Correlation Coefficient    | 0.75  |\n",
        "| Spearman Rank Correlation          | -0.60 |\n",
        "| Covariance between Age and Income  | 1500  |\n",
        "| Covariance between Online Purchase Frequency and Social Media Usage | 245  |\n",
        "\n",
        "\n",
        "#### Tasks:\n",
        "\n",
        "1. **Interpret the Pearson Correlation Coefficient:** Discuss the implications of a 0.75 coefficient between Monthly Income and Online Purchase Frequency.\n",
        "2. **Analyze the Spearman Rank Correlation:** Explain the -0.60 correlation between Age and Hours Spent on Social Media, suggesting hypotheses based on the data.\n",
        "3. **Discuss the Covariance Finding:** Interpret the positive covariance of 1500 between Age and Monthly Income, and relate it to potential real-world scenarios.\n",
        "4. **Correlation vs. Causation:** Reflect on the importance of distinguishing correlation from causation in market studies."
      ]
    }
  ],
  "metadata": {
    "colab": {
      "provenance": []
    }
  },
  "nbformat": 4,
  "nbformat_minor": 5
}