{
  "cells": [
    {
      "cell_type": "markdown",
      "id": "f81c49e9",
      "metadata": {
        "id": "f81c49e9"
      },
      "source": [
        "# Applying Correlation and Covariance in Python with SciPy\n",
        "\n",
        "This lesson builds upon the foundational understanding of correlation and covariance. We'll explore how to use Python, specifically with the SciPy library, to calculate these statistical measures and interpret their results.\n",
        "\n",
        "## Sample Dataset\n",
        "Let's consider a dataset similar to the one discussed earlier:"
      ]
    },
    {
      "cell_type": "code",
      "execution_count": null,
      "id": "7ca543d6",
      "metadata": {
        "id": "7ca543d6"
      },
      "outputs": [],
      "source": [
        "import pandas as pd\n",
        "\n",
        "data = pd.DataFrame({\n",
        "    'Age': [25, 40, 30, 22, 35],\n",
        "    'Monthly_Income': [3200, 5800, 4500, 2800, 5000],\n",
        "    'Online_Purchase_Frequency': [15, 8, 12, 18, 10],\n",
        "    'Hours_Social_Media': [30, 15, 25, 40, 20]\n",
        "})"
      ]
    },
    {
      "cell_type": "markdown",
      "id": "4417b76a",
      "metadata": {
        "id": "4417b76a"
      },
      "source": [
        "## Calculating Correlation Coefficients\n",
        "### Pearson Correlation Coefficient\n",
        "The Pearson Correlation Coefficient measures the linear relationship between two continuous variables."
      ]
    },
    {
      "cell_type": "code",
      "execution_count": null,
      "id": "7fb6a521",
      "metadata": {
        "id": "7fb6a521"
      },
      "outputs": [],
      "source": [
        "from scipy.stats import pearsonr\n",
        "\n",
        "# Calculate Pearson Correlation between Monthly Income and Online Purchase Frequency\n",
        "corr, _ = pearsonr(data['Monthly_Income'], data['Online_Purchase_Frequency'])\n",
        "print(f'Pearson Correlation Coefficient: {corr:.2f}')"
      ]
    },
    {
      "cell_type": "markdown",
      "id": "a94f9262",
      "metadata": {
        "id": "a94f9262"
      },
      "source": [
        "### Spearman Rank Correlation\n",
        "The Spearman Rank Correlation assesses the monotonic relationship between two variables."
      ]
    },
    {
      "cell_type": "code",
      "execution_count": null,
      "id": "bd4fba1c",
      "metadata": {
        "id": "bd4fba1c"
      },
      "outputs": [],
      "source": [
        "from scipy.stats import spearmanr\n",
        "\n",
        "# Calculate Spearman Rank Correlation between Age and Hours Spent on Social Media\n",
        "corr, _ = spearmanr(data['Age'], data['Hours_Social_Media'])\n",
        "print(f'Spearman Rank Correlation: {corr:.2f}')"
      ]
    },
    {
      "cell_type": "markdown",
      "id": "ae14e745",
      "metadata": {
        "id": "ae14e745"
      },
      "source": [
        "## Computing Covariance\n",
        "Covariance indicates the direction of the linear relationship between variables."
      ]
    },
    {
      "cell_type": "code",
      "execution_count": null,
      "id": "c7d18c8d",
      "metadata": {
        "id": "c7d18c8d"
      },
      "outputs": [],
      "source": [
        "import numpy as np\n",
        "\n",
        "# Calculate Covariance between Age and Monthly Income\n",
        "covariance = np.cov(data['Age'], data['Monthly_Income'])[0, 1]\n",
        "print(f'Covariance: {covariance:.2f}')"
      ]
    },
    {
      "cell_type": "markdown",
      "id": "03d1ef7f",
      "metadata": {
        "id": "03d1ef7f"
      },
      "source": [
        "## Visualizing Data\n",
        "Using Matplotlib, let's visualize these relationships."
      ]
    },
    {
      "cell_type": "code",
      "execution_count": null,
      "id": "45e5ae55",
      "metadata": {
        "id": "45e5ae55"
      },
      "outputs": [],
      "source": [
        "import matplotlib.pyplot as plt\n",
        "\n",
        "# Scatter plot for Monthly Income vs. Online Purchase Frequency\n",
        "plt.scatter(data['Monthly_Income'], data['Online_Purchase_Frequency'])\n",
        "plt.title('Monthly Income vs. Online Purchase Frequency')\n",
        "plt.xlabel('Monthly Income')\n",
        "plt.ylabel('Online Purchase Frequency')\n",
        "plt.show()\n",
        "\n",
        "# Scatter plot for Age vs. Hours on Social Media\n",
        "plt.scatter(data['Age'], data['Hours_Social_Media'])\n",
        "plt.title('Age vs. Hours Spent on Social Media')\n",
        "plt.xlabel('Age')\n",
        "plt.ylabel('Hours on Social Media')\n",
        "plt.show()"
      ]
    },
    {
      "cell_type": "markdown",
      "id": "a6bf0347",
      "metadata": {
        "id": "a6bf0347"
      },
      "source": [
        "## Conclusion\n",
        "In this lesson, you learned how to apply the concepts of correlation and covariance using Python and SciPy. By calculating Pearson and Spearman correlations, and covariance, you can start to uncover relationships in data. Remember, while correlation can indicate a relationship, it doesn't imply causation. Always consider the broader context of your data when interpreting these statistics."
      ]
    }
  ],
  "metadata": {
    "colab": {
      "provenance": []
    }
  },
  "nbformat": 4,
  "nbformat_minor": 5
}