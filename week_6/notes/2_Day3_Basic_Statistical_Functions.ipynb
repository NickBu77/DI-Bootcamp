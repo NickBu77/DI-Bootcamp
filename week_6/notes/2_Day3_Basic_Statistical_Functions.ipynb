{
 "cells": [
  {
   "cell_type": "markdown",
   "id": "edb4ee3f",
   "metadata": {},
   "source": [
    "# Basic Statistical Functions\n",
    "\n",
    "## Descriptive Statistics\n",
    "Descriptive statistics are crucial for summarizing and understanding data. SciPy provides a comprehensive list of functions to compute these statistics.\n",
    "\n",
    "### Mean, Median, Variance, and Standard Deviation\n",
    "- **Mean**: The average value of a dataset.\n",
    "- **Median**: The middle value in a dataset when sorted.\n",
    "- **Variance**: Measures how much the data is spread out.\n",
    "- **Standard Deviation**: Square root of the variance, indicating data spread.\n",
    "\n",
    "---\n",
    "\n",
    "#### **Sample Dataset**: Daily steps count for 50 days, ranging between 3,000 and 10,000 steps.\n",
    "\n",
    "#### Using NumPy:\n"
   ]
  },
  {
   "cell_type": "code",
   "execution_count": 12,
   "id": "a8a75d58",
   "metadata": {},
   "outputs": [],
   "source": [
    "import numpy as np\n",
    "\n",
    "daily_steps = np.random.randint(3000, 10000, size=50)\n",
    "\n",
    "mean_np = np.mean(daily_steps)\n",
    "median_np = np.median(daily_steps)\n",
    "variance_np = np.var(daily_steps, ddof=1)\n",
    "std_dev_np = np.std(daily_steps, ddof=1)"
   ]
  },
  {
   "cell_type": "markdown",
   "id": "713be4ee",
   "metadata": {},
   "source": [
    "\n",
    "\n",
    "#### Using SciPy:\n"
   ]
  },
  {
   "cell_type": "code",
   "execution_count": 13,
   "id": "0a0e8965",
   "metadata": {},
   "outputs": [],
   "source": [
    "import scipy.stats as stats\n",
    "\n",
    "mean_scipy = stats.tmean(daily_steps)\n",
    "median_scipy = np.median(daily_steps)  # SciPy does not have a separate median function\n",
    "variance_scipy = stats.tvar(daily_steps)\n",
    "std_dev_scipy = stats.tstd(daily_steps)"
   ]
  },
  {
   "cell_type": "code",
   "execution_count": 14,
   "id": "ebe550b1",
   "metadata": {},
   "outputs": [
    {
     "name": "stdout",
     "output_type": "stream",
     "text": [
      "Numpy mean: 6565.24 \n",
      "Scipy mean: 6565.24 \n",
      " Numpy variance: 2824867.9820408165 \n",
      "Scipy variance: 2824867.9820408165\n",
      " Numpy std: 1680.7343579640467 \n",
      "Scipy std: 1680.7343579640467\n"
     ]
    }
   ],
   "source": [
    "print(f\"Numpy mean: {mean_np} \\nScipy mean: {mean_scipy} \\n Numpy variance: {variance_np} \\nScipy variance: {variance_scipy}\\n Numpy std: {std_dev_np} \\nScipy std: {std_dev_scipy}\")"
   ]
  },
  {
   "cell_type": "code",
   "execution_count": 5,
   "id": "5367c3a4",
   "metadata": {},
   "outputs": [
    {
     "data": {
      "text/plain": [
       "<Axes: ylabel='Count'>"
      ]
     },
     "execution_count": 5,
     "metadata": {},
     "output_type": "execute_result"
    },
    {
     "data": {
      "image/png": "[encoded data removed]",
      "text/plain": [
       "<Figure size 640x480 with 1 Axes>"
      ]
     },
     "metadata": {},
     "output_type": "display_data"
    }
   ],
   "source": [
    "import seaborn as sns\n",
    "sns.histplot(daily_steps)"
   ]
  },
  {
   "cell_type": "markdown",
   "id": "be20debf",
   "metadata": {},
   "source": [
    "\n",
    "\n",
    "- ## **Example Statistics**:\n",
    "    - **Mean**: Average steps per day.\n",
    "        - NumPy: ≈ 6396.52\n",
    "        - SciPy: ≈ 6396.52\n",
    "        - **Insight**: This value suggests that the average daily steps are moderately high, indicating an active lifestyle.\n",
    "    - **Median**: Middle value of steps per day.\n",
    "        - NumPy and SciPy: ≈ 6506.0\n",
    "        - **Insight**: The median being higher than the mean suggests a slight skew in the data, with more days having higher step counts.\n",
    "    - **Variance**: Variation in daily step count.\n",
    "        - NumPy: ≈ 4,158,491.37\n",
    "        - SciPy: ≈ 4,243,358.54\n",
    "        - **Insight**: A high variance indicates a significant spread in daily steps, suggesting inconsistency in daily activity levels.\n",
    "    - **Standard Deviation**: Spread of daily steps from the mean.\n",
    "        - NumPy: ≈ 2039.24\n",
    "        - SciPy: ≈ 2059.94\n",
    "        - **Insight**: A large standard deviation further supports the presence of variability in daily step counts.\n",
    "\n",
    "## Advanced Statistics with SciPy\n",
    "SciPy can be used to calculate more advanced statistics that are not directly available in NumPy.\n",
    "\n",
    "#### Skewness and Kurtosis:\n"
   ]
  },
  {
   "cell_type": "code",
   "execution_count": 16,
   "id": "422fc4ca",
   "metadata": {},
   "outputs": [
    {
     "name": "stdout",
     "output_type": "stream",
     "text": [
      "Skewness: -0.028024709523346274 Kurtosis: -0.711166726291216\n"
     ]
    }
   ],
   "source": [
    "skewness = stats.skew(daily_steps)\n",
    "kurtosis = stats.kurtosis(daily_steps)\n",
    "print(f\"Skewness: {skewness} Kurtosis: {kurtosis}\")"
   ]
  },
  {
   "cell_type": "markdown",
   "id": "0adf9361",
   "metadata": {},
   "source": [
    "\n",
    "- **Statistics+**:\n",
    "    - **Skewness**: Measures asymmetry of the data distribution.\n",
    "        - SciPy: ≈ -0.0128 (slightly left-skewed)\n",
    "        - **Insight**: A skewness close to zero indicates a fairly symmetrical distribution of data.\n",
    "    - **Kurtosis**: Measures the 'tailedness' of the data distribution.\n",
    "        - SciPy: ≈ -1.203 (lighter tails than a normal distribution)\n",
    "        - **Insight**: A negative kurtosis value suggests fewer outliers, indicating a more uniform distribution than a normal curve.\n",
    "\n",
    "![Alt text](../media/2_distribution_steps.PNG)\n",
    "\n",
    "## Precision:\n",
    "\n",
    "For **basic statistics** like mean and median, both NumPy and SciPy are equally reliable and should give almost identical results.\n",
    "\n",
    "For more **complex calculations**, particularly those involving skewed or non-standard distributions, SciPy's functions are generally more comprehensive.\n",
    "\n",
    "--- \n",
    "\n",
    "## Exercise: Analyzing a Real-World Dataset\n",
    "\n",
    "1. Use the provided stock prices dataset (copy-paste from the bottom of the note).\n",
    "\n",
    "\n",
    "\n",
    "2. Read the dataset using pandas and convert the relevant column to a NumPy array.\n",
    "3. Calculate the mean, median, variance, and standard deviation of the stock prices.\n",
    "4. Interpret the results in the context of financial data analysis.\n",
    "\n",
    "---\n",
    "\n",
    "Dataset code: \n"
   ]
  },
  {
   "cell_type": "code",
   "execution_count": 18,
   "id": "e8a8e8b0",
   "metadata": {},
   "outputs": [
    {
     "name": "stdout",
     "output_type": "stream",
     "text": [
      "        Date  DVLPRS_Price\n",
      "0 2023-01-01    117.640523\n",
      "1 2023-01-02    104.001572\n",
      "2 2023-01-03    109.787380\n",
      "3 2023-01-04    122.408932\n",
      "4 2023-01-05    118.675580\n"
     ]
    }
   ],
   "source": [
    "import pandas as pd\n",
    "import numpy as np\n",
    "\n",
    "# Simulating stock prices for a non-existent stock (DVLPRS)\n",
    "np.random.seed(0)  # For reproducibility\n",
    "\n",
    "# Generating 100 days of stock prices\n",
    "dates = pd.date_range(start='2023-01-01', periods=100)\n",
    "prices = np.random.normal(loc=100, scale=10, size=len(dates))  # Assume a mean price of 100 with a standard deviation of 10\n",
    "\n",
    "# Creating a DataFrame\n",
    "stock_data = pd.DataFrame({\n",
    "    'Date': dates,\n",
    "    'DVLPRS_Price': prices\n",
    "})\n",
    "\n",
    "# Displaying the first few rows of the simulated data\n",
    "print(stock_data.head())\n"
   ]
  },
  {
   "cell_type": "code",
   "execution_count": 19,
   "id": "5fcef1ea",
   "metadata": {},
   "outputs": [
    {
     "data": {
      "text/plain": [
       "DescribeResult(nobs=100, minmax=(74.47010184165921, 122.69754623987608), mean=100.59808015534487, variance=102.60874941564963, skewness=0.0051718397135427354, kurtosis=-0.3783545566331332)"
      ]
     },
     "execution_count": 19,
     "metadata": {},
     "output_type": "execute_result"
    }
   ],
   "source": [
    "stats.describe(prices)"
   ]
  },
  {
   "cell_type": "markdown",
   "id": "ff2f4d5c",
   "metadata": {},
   "source": [
    "\n",
    "Example output:\n",
    "| Date       | DVLPRS_Price |\n",
    "|------------|--------------|\n",
    "| 2023-01-01 | 117.64       |\n",
    "| 2023-01-02 | 104.00       |\n",
    "| 2023-01-03 | 109.79       |\n",
    "| 2023-01-04 | 122.41       |\n",
    "| 2023-01-05 | 118.68       |"
   ]
  },
  {
   "cell_type": "code",
   "execution_count": null,
   "id": "35bb4e2b",
   "metadata": {},
   "outputs": [],
   "source": []
  }
 ],
 "metadata": {
  "kernelspec": {
   "display_name": "Python 3",
   "language": "python",
   "name": "python3"
  },
  "language_info": {
   "codemirror_mode": {
    "name": "ipython",
    "version": 3
   },
   "file_extension": ".py",
   "mimetype": "text/x-python",
   "name": "python",
   "nbconvert_exporter": "python",
   "pygments_lexer": "ipython3",
   "version": "3.12.1"
  }
 },
 "nbformat": 4,
 "nbformat_minor": 5
}
