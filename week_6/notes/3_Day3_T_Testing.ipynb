{
  "cells": [
    {
      "cell_type": "markdown",
      "id": "5d5440d1",
      "metadata": {
        "id": "5d5440d1"
      },
      "source": [
        "### T-Statistics\n",
        "![Alt text](../media/3_ttest1.gif)\n",
        "#### What's a T-Test\n",
        "- A T-test is a statistical method used to determine if there is a significant difference between the means of two groups.\n",
        "- It's particularly useful when dealing with small sample sizes or unknown population variances.\n",
        "\n",
        "- **Purpose**: To see if two groups differ significantly. For instance, are the test scores of Group A and Group B different due to some factor, or just by chance?\n",
        "- **Significance**: Helps in making informed decisions based on data.\n",
        "\n",
        "**Why T-Test?**\n",
        "- T-tests are essential in situations where we need to determine if the difference between groups is substantial or just a random occurrence.\n",
        "- They are particularly beneficial when dealing with small sample sizes or when the population standard deviation is unknown.\n",
        "\n",
        "**Real-World Example:**\n",
        "- Imagine a scenario where two classrooms (Group A and Group B) are trying different teaching methods. We want to know if one method leads to significantly better performance on a test. A T-test can help us determine whether any observed differences in test scores are statistically significant.\n",
        "\n",
        "#### Steps in Conducting a T-Test\n",
        "\n",
        "**1. Collect Data:**\n",
        "- Gather data from the two groups you are comparing. For instance, test scores from Group A and Group B.\n",
        "\n",
        "**2. Calculate Means:**\n",
        "- Use Python to find the average score for each group.\n",
        "  "
      ]
    },
    {
      "cell_type": "code",
      "execution_count": null,
      "id": "ee104242",
      "metadata": {
        "id": "ee104242",
        "outputId": "72ac90c6-91cd-41ac-f5bc-2fc97cdd262e"
      },
      "outputs": [
        {
          "name": "stdout",
          "output_type": "stream",
          "text": [
            "Mean A: 84.4 Mean B: 91.8\n"
          ]
        }
      ],
      "source": [
        "import numpy as np\n",
        "\n",
        "# Sample data\n",
        "group_a_scores = np.array([75, 88, 91, 83, 85])\n",
        "group_b_scores = np.array([89, 95, 91, 90, 94])\n",
        "\n",
        "# Calculate means\n",
        "mean_a = np.mean(group_a_scores)\n",
        "mean_b = np.mean(group_b_scores)\n",
        "print(f\"Mean A: {mean_a} Mean B: {mean_b}\")"
      ]
    },
    {
      "cell_type": "markdown",
      "id": "ac1e5ca4",
      "metadata": {
        "id": "ac1e5ca4"
      },
      "source": [
        "\n",
        "\n",
        "**3. Check Variability:**\n",
        "- Examine the spread of scores within each group.\n",
        "  "
      ]
    },
    {
      "cell_type": "code",
      "execution_count": null,
      "id": "c9ad9188",
      "metadata": {
        "id": "c9ad9188",
        "outputId": "b9d64913-a66e-4460-c04f-64bfffbd2684"
      },
      "outputs": [
        {
          "name": "stdout",
          "output_type": "stream",
          "text": [
            "Std A: 6.06630035524124 Std B: 4.54972526643093\n"
          ]
        }
      ],
      "source": [
        "# Calculate standard deviation\n",
        "std_a = np.std(group_a_scores, ddof=1)\n",
        "std_b = np.std(group_b_scores, ddof=1)\n",
        "print(f\"Std A: {std_a} Std B: {std_b}\")"
      ]
    },
    {
      "cell_type": "markdown",
      "id": "e24f6fdf",
      "metadata": {
        "id": "e24f6fdf"
      },
      "source": [
        "\n",
        "\n",
        "**4. Compute the T-Statistic:**\n",
        "- The T-statistic is calculated using the formula: \\[t = \\frac{\\text{Difference in Means}}{\\text{Standard Error}}\\]\n",
        "  "
      ]
    },
    {
      "cell_type": "code",
      "execution_count": null,
      "id": "fd31808f",
      "metadata": {
        "id": "fd31808f",
        "outputId": "e6208612-9695-4090-8b58-03a1a1956b89"
      },
      "outputs": [
        {
          "name": "stdout",
          "output_type": "stream",
          "text": [
            "T Statistic: -2.5088349633969953 P Val: 0.03643700469671332\n"
          ]
        }
      ],
      "source": [
        "from scipy.stats import ttest_ind\n",
        "\n",
        "# Perform T-test\n",
        "t_stat, p_val = ttest_ind(group_a_scores, group_b_scores)\n",
        "print(f\"T Statistic: {t_stat} P Val: {p_val}\")"
      ]
    },
    {
      "cell_type": "markdown",
      "id": "e87d40be",
      "metadata": {
        "id": "e87d40be"
      },
      "source": [
        "\n",
        "\n",
        "**5. Compare to Critical Value:**\n",
        "After computing the T-statistic, the next step is to compare it to a critical value. This comparison will help us determine whether the observed differences between the two groups are statistically significant.\n",
        "\n",
        "- **Finding the Critical Value**:\n",
        "  Let's assume we're using a 95% confidence level (commonly used in statistical analysis). This corresponds to an alpha level of 0.05.\n",
        "  For our example, let's say the degrees of freedom (df) are 8 (which is typically n1 + n2 - 2; assuming each group has 5 members, df = 5 + 5 - 2 = 8).\n",
        "  Looking up a T-table or using a Python function, we find the critical value for df = 8 and alpha = 0.05 is approximately 2.306.\n",
        "\n",
        "- **Example Calculation**:\n",
        "  Suppose the calculated T-statistic from our data is 2.5. We then compare this with the critical value of 2.306.\n",
        "  "
      ]
    },
    {
      "cell_type": "code",
      "execution_count": null,
      "id": "06a0ff76",
      "metadata": {
        "id": "06a0ff76"
      },
      "outputs": [],
      "source": [
        "t_statistic = 2.5  # From the T-test\n",
        "critical_value = 2.306  # From T-table or Python function\n",
        "\n",
        "if abs(t_statistic) > critical_value:\n",
        "    print(\"The difference is statistically significant.\")\n",
        "else:\n",
        "    print(\"The difference is not statistically significant.\")"
      ]
    },
    {
      "cell_type": "markdown",
      "id": "efa5a087",
      "metadata": {
        "id": "efa5a087"
      },
      "source": [
        "\n",
        "\n",
        "\n",
        "**6. Determine Significance:**\n",
        "The final step is to interpret the results of the T-test in terms of statistical significance.\n",
        "\n",
        "### Interpretation of T and P Values\n",
        "\n",
        "**T-Statistic:**\n",
        "- The T-statistic indicates how much the group means differ from each other.\n",
        "- A high absolute value of the T-statistic suggests a large difference between groups.\n",
        "- **Example**:\n",
        "  - If the T-statistic is 3 and the critical value is 2, the groups are significantly different.\n",
        "\n",
        "**P-Value:**\n",
        "- The P-value tells you the probability of observing your data (or something more extreme) if the null hypothesis is true.\n",
        "- A low P-value (typically < 0.05) suggests that the observed data is very unlikely under the null hypothesis, indicating a significant result.\n",
        "- **Example**:\n",
        "  - If the P-value is 0.03, there's a 3% chance of observing the data if there's no real difference between groups. Since 3% is less than the standard threshold of 5%, we consider the result significant.\n",
        "\n",
        "### Examples for T and P Value Interpretation\n",
        "\n",
        "#### Example 1: Testing a New Teaching Method\n",
        "- **Scenario**: Comparing test scores between a class using a traditional teaching method and a class using a new method.\n",
        "- **T-Statistic**: 2.5\n",
        "- **P-Value**: 0.02\n",
        "- **Interpretation**:\n",
        "  - Since the T-statistic (2.5) is greater than the critical value (usually around 2 for a 95% confidence level), and the P-value (0.02) is less than 0.05, we conclude that the new teaching method significantly improves test scores.\n",
        "\n",
        "#### Example 2: Pharmaceutical Study\n",
        "- **Scenario**: Comparing symptom improvement in patients taking a new drug versus a placebo.\n",
        "- **T-Statistic**: 1.8\n",
        "- **P-Value**: 0.08\n",
        "- **Interpretation**:\n",
        "  - The T-statistic (1.8) is less than the critical value (around 2), and the P-value (0.08) is higher than 0.05. Therefore, we cannot conclude that the new drug is more effective than the placebo.\n",
        "\n",
        "In both examples, the T-statistic and P-value together help us determine the significance of our results. A high T-statistic and a low P-value typically indicate a significant difference between the groups being compared.\n",
        "\n",
        "- **Interpreting the Result**:\n",
        "  If the absolute value of the T-statistic is greater than the critical value, it suggests that the difference in means is not likely due to random chance. In our example, since 2.5 (T-statistic) is greater than 2.306 (critical value), we can conclude that there is a statistically significant difference between the test scores of Group A and Group B.\n",
        "\n",
        "- **Insights**:\n",
        "  A statistically significant result implies that the teaching methods in the two groups likely had a different impact on the test scores. This can lead to further investigation into what aspects of the teaching method were more effective, potentially influencing future teaching strategies.\n",
        "\n",
        "### Exercise: T-Test on the Iris Flower Dataset\n",
        "\n",
        "#### Scenario: Botanical Study\n",
        "- **Data**: Petal lengths of Iris Setosa and Iris Versicolor species.\n",
        "- **Task**: Determine if there is a significant difference in the petal lengths of these two Iris species.\n",
        "\n",
        "#### Steps for the Exercise\n",
        "1. **Load and Prepare Data**: You will load the Iris dataset and extract the petal lengths for the two species.\n",
        "2. **Perform the T-test**: Calculate the T-statistic and P-value to compare the petal lengths.\n",
        "3. **Interpret the Results**: Based on these values, determine if the differences in petal lengths are statistically significant.\n",
        "\n",
        "#### Python Code for Data Preparation and T-test\n"
      ]
    },
    {
      "cell_type": "code",
      "execution_count": null,
      "id": "1d30afdc",
      "metadata": {
        "id": "1d30afdc",
        "outputId": "94a077ad-9a70-4388-d056-2426dbf398b6"
      },
      "outputs": [
        {
          "ename": "ModuleNotFoundError",
          "evalue": "No module named 'sklearn'",
          "output_type": "error",
          "traceback": [
            "\u001b[1;31m---------------------------------------------------------------------------\u001b[0m",
            "\u001b[1;31mModuleNotFoundError\u001b[0m                       Traceback (most recent call last)",
            "Cell \u001b[1;32mIn[10], line 1\u001b[0m\n\u001b[1;32m----> 1\u001b[0m \u001b[38;5;28;01mfrom\u001b[39;00m \u001b[38;5;21;01msklearn\u001b[39;00m\u001b[38;5;21;01m.\u001b[39;00m\u001b[38;5;21;01mdatasets\u001b[39;00m \u001b[38;5;28;01mimport\u001b[39;00m load_iris\n\u001b[0;32m      2\u001b[0m \u001b[38;5;28;01mfrom\u001b[39;00m \u001b[38;5;21;01mscipy\u001b[39;00m\u001b[38;5;21;01m.\u001b[39;00m\u001b[38;5;21;01mstats\u001b[39;00m \u001b[38;5;28;01mimport\u001b[39;00m ttest_ind\n\u001b[0;32m      3\u001b[0m \u001b[38;5;28;01mimport\u001b[39;00m \u001b[38;5;21;01mpandas\u001b[39;00m \u001b[38;5;28;01mas\u001b[39;00m \u001b[38;5;21;01mpd\u001b[39;00m\n",
            "\u001b[1;31mModuleNotFoundError\u001b[0m: No module named 'sklearn'"
          ]
        }
      ],
      "source": [
        "from sklearn.datasets import load_iris\n",
        "from scipy.stats import ttest_ind\n",
        "import pandas as pd\n",
        "\n",
        "# Load Iris dataset\n",
        "iris = load_iris()\n",
        "iris_df = pd.DataFrame(iris.data, columns=iris.feature_names)\n",
        "iris_df['species'] = pd.Categorical.from_codes(iris.target, iris.target_names)\n",
        "\n",
        "# Extract petal lengths for Setosa and Versicolor\n",
        "setosa_petal_length = iris_df[iris_df['species'] == 'setosa']['petal length (cm)']\n",
        "versicolor_petal_length = iris_df[iris_df['species'] == 'versicolor']['petal length (cm)']\n",
        "\n",
        "# Perform T-test\n",
        "t_stat, p_val = ttest_ind(setosa_petal_length, versicolor_petal_length)\n",
        "\n",
        "# Output the T-statistic and P-value\n",
        "print(\"Iris Petal Length Comparison: T-statistic =\", t_stat, \"P-value =\", p_val)"
      ]
    },
    {
      "cell_type": "markdown",
      "id": "64c52fba",
      "metadata": {
        "id": "64c52fba"
      },
      "source": [
        "\n",
        "\n",
        "#### Your Task\n",
        "- Execute the provided Python code to calculate the T-statistic and P-value.\n",
        "- Analyze the results:\n",
        "  - Is the T-statistic high enough to suggest a significant difference in petal lengths?\n",
        "  - Does the P-value indicate that this difference is statistically significant?\n",
        "- Discuss what your findings suggest about the petal lengths of these two Iris species.\n",
        "\n",
        "#### After you've finished\n",
        "* Add the following code to the code provided above and run it:\n",
        "  * Analze the plots and try to see the relatioship between the visual represantation of the distributions and the t/p values.\n",
        "\n"
      ]
    },
    {
      "cell_type": "code",
      "execution_count": null,
      "id": "90ae75fa",
      "metadata": {
        "id": "90ae75fa",
        "outputId": "cd9f59be-267c-47dc-f13e-c1f9881aa102"
      },
      "outputs": [
        {
          "data": {
            "image/png": "[encoded data removed]",
            "text/plain": [
              "<Figure size 640x480 with 1 Axes>"
            ]
          },
          "metadata": {},
          "output_type": "display_data"
        }
      ],
      "source": [
        "import seaborn as sns\n",
        "import matplotlib.pyplot as plt\n",
        "# Plotting the distributions\n",
        "sns.histplot(setosa_petal_length, color=\"skyblue\", label=\"Iris Setosa\", kde=True)\n",
        "sns.histplot(versicolor_petal_length, color=\"red\", label=\"Iris Versicolor\", kde=True)\n",
        "\n",
        "# Adding titles and labels\n",
        "plt.title(\n",
        "    f\"Iris Petal Length Comparison\\nT-statistic: {t_stat:.2f}, P-value: {p_val:.2e}\"\n",
        ")\n",
        "plt.xlabel(\"Petal Length (cm)\")\n",
        "plt.ylabel(\"Frequency\")\n",
        "plt.legend()\n",
        "\n",
        "plt.show()"
      ]
    },
    {
      "cell_type": "code",
      "execution_count": null,
      "id": "a34bd4dd",
      "metadata": {
        "id": "a34bd4dd",
        "outputId": "7322d0d5-7034-4f4d-b2c7-707d04abb0a2"
      },
      "outputs": [
        {
          "data": {
            "text/plain": [
              "TtestResult(statistic=3.2057607502218186, pvalue=0.0018191004238894803, df=98.0)"
            ]
          },
          "execution_count": 17,
          "metadata": {},
          "output_type": "execute_result"
        }
      ],
      "source": [
        "import seaborn as sns\n",
        "from scipy import stats\n",
        "iris = sns.load_dataset('iris')\n",
        "virg = iris[iris['species'] == 'virginica']['sepal_width']\n",
        "vers = iris[iris['species'] == 'versicolor']['sepal_width']\n",
        "\n",
        "stats.ttest_ind(virg, vers)"
      ]
    },
    {
      "cell_type": "code",
      "execution_count": null,
      "id": "bb448a20",
      "metadata": {
        "id": "bb448a20",
        "outputId": "e04e3d57-50a8-4106-93b2-5f13679c73f1"
      },
      "outputs": [
        {
          "name": "stdout",
          "output_type": "stream",
          "text": [
            "Index(['sepal_length', 'sepal_width', 'petal_length', 'petal_width',\n",
            "       'species'],\n",
            "      dtype='object')\n",
            "Iris Petal Length Comparison: T-statistic = -39.492719391538095 P-value = 5.404910513441677e-62\n"
          ]
        }
      ],
      "source": [
        "import seaborn as sns\n",
        "from scipy import stats\n",
        "iris_df = sns.load_dataset('iris')\n",
        "print(iris_df.columns)\n",
        "setosa_petal_length = iris_df[iris_df['species'] == 'setosa']['petal_length']\n",
        "versicolor_petal_length = iris_df[iris_df['species'] == 'versicolor']['petal_length']\n",
        "\n",
        "# Perform T-test\n",
        "t_stat, p_val = ttest_ind(setosa_petal_length, versicolor_petal_length)\n",
        "\n",
        "# Output the T-statistic and P-value\n",
        "print(\"Iris Petal Length Comparison: T-statistic =\", t_stat, \"P-value =\", p_val)"
      ]
    },
    {
      "cell_type": "markdown",
      "id": "968adcc1",
      "metadata": {
        "id": "968adcc1"
      },
      "source": [
        "\n",
        "\n",
        "## Understanding the T-Table\n",
        "\n",
        "The T-table, or T-distribution table, is a crucial tool in statistics, especially when conducting T-tests. It helps determine the critical value needed to assess the significance of the test results.\n",
        "\n",
        "**What is the T-Table?**\n",
        "- The T-table lists critical values for the T-distribution, a probability distribution that is used when the sample size is small, and the population standard deviation is unknown.\n",
        "- It includes critical values for various levels of significance (alpha) and degrees of freedom (df), which are related to the sample size.\n",
        "\n",
        "**How to Use a T-Table:**\n",
        "1. **Degrees of Freedom (df)**: Calculated based on the type of T-test and sample size. For example, in an independent samples T-test with sample sizes n1 and n2, df = n1 + n2 - 2.\n",
        "2. **Level of Significance (alpha)**: Common levels are 0.05 (5%) for a 95% confidence level, and 0.01 (1%) for a 99% confidence level. This is the probability of rejecting the null hypothesis when it is true.\n",
        "3. **Locate df and Alpha in T-Table**: Find the row for your df and the column for your alpha to locate the critical value.\n",
        "\n",
        "**Visual Example of a T-Table:**\n",
        "- A T-table typically looks like this:\n",
        "\n",
        "| df\\alpha | 0.10  | 0.05  | 0.025 | 0.01  |\n",
        "|----------|-------|-------|-------|-------|\n",
        "| 1        | value | value | value | value |\n",
        "| 2        | value | value | value | value |\n",
        "| ...      | ...   | ...   | ...   | ...   |\n",
        "| 20       | value | value | value | value |\n",
        "\n",
        "- Each cell in the table contains the critical value for a specific df and alpha.\n",
        "\n",
        "**Using Python to Find Critical Values:**\n",
        "- While the T-table is useful, Python can also calculate critical values, eliminating the need for manual table lookups.\n",
        "  "
      ]
    },
    {
      "cell_type": "code",
      "execution_count": null,
      "id": "673a6056",
      "metadata": {
        "id": "673a6056"
      },
      "outputs": [],
      "source": [
        "from scipy.stats import t\n",
        "\n",
        "# Example: finding critical value for df = 20 and alpha = 0.05\n",
        "df = 20\n",
        "alpha = 0.05\n",
        "critical_value = t.ppf(1 - alpha/2, df)\n",
        "\n",
        "# Output the critical value\n",
        "print(\"Critical Value:\", critical_value)"
      ]
    },
    {
      "cell_type": "markdown",
      "id": "25e37b85",
      "metadata": {
        "id": "25e37b85"
      },
      "source": [
        "\n",
        "\n",
        "This code uses the `scipy.stats.t.ppf` function, which finds the t-score at a given quantile and degree of freedom. It's a powerful tool that simplifies the process of finding critical values for hypothesis testing.\n",
        "\n",
        "### Exercise: Understanding the T-Table and Critical Values\n",
        "\n",
        "#### Objective\n",
        "This exercise is designed to help you understand how to use a T-table and interpret critical values in the context of T-tests.\n",
        "\n",
        "#### Scenario: Academic Performance Study\n",
        "- **Data**: Scores from two different teaching methods.\n",
        "- **Task**: Determine if there is a significant difference in the academic performance between the two teaching methods.\n",
        "\n",
        "#### Steps for the Exercise\n",
        "1. **Generate Data**: Create two sets of scores representing two teaching methods.\n",
        "2. **Compute the T-Statistic**: Use Python to perform a T-test on these scores.\n",
        "3. **Use the T-Table**: Find the critical value for your calculated degrees of freedom (df) and alpha level.\n",
        "4. **Interpret the Critical Value**: Determine if the T-statistic exceeds the critical value, indicating significance.\n",
        "5. **Draw Conclusions**: Based on your findings, conclude whether the teaching methods have a significantly different impact on scores.\n",
        "\n",
        "#### Python Code for Data Generation and T-test\n"
      ]
    },
    {
      "cell_type": "code",
      "execution_count": null,
      "id": "554466c2",
      "metadata": {
        "id": "554466c2"
      },
      "outputs": [],
      "source": [
        "import numpy as np\n",
        "from scipy.stats import ttest_ind, t\n",
        "\n",
        "# Generating sample data\n",
        "np.random.seed(0)\n",
        "method_1_scores = np.random.normal(70, 10, 30)\n",
        "method_2_scores = np.random.normal(75, 10, 30)\n",
        "\n",
        "# Perform T-test\n",
        "t_stat, _ = ttest_ind(method_1_scores, method_2_scores)\n",
        "\n",
        "# Calculate degrees of freedom\n",
        "df = len(method_1_scores) + len(method_2_scores) - 2\n",
        "\n",
        "# Assuming a 95% confidence level (alpha = 0.05)\n",
        "alpha = 0.05\n",
        "critical_value = t.ppf(1 - alpha/2, df)\n",
        "\n",
        "print(\"T-statistic:\", t_stat)\n",
        "print(\"Degrees of Freedom:\", df)\n",
        "print(\"Critical Value (95% confidence):\", critical_value)"
      ]
    },
    {
      "cell_type": "markdown",
      "id": "adc92df2",
      "metadata": {
        "id": "adc92df2"
      },
      "source": [
        "\n",
        "\n",
        "#### Your Task\n",
        "- Run the provided Python code to calculate the T-statistic, degrees of freedom, and critical value.\n",
        "- Compare the T-statistic to the critical value:\n",
        "  - If the T-statistic is greater than the critical value, the difference in teaching methods is significant.\n",
        "- Discuss the implications: What does this mean for the effectiveness of the two teaching methods?\n",
        "\n",
        "#### Reflective Questions\n",
        "- How does changing the alpha level affect the critical value?\n",
        "- What would be the impact on your conclusion if the standard deviations of the scores were larger?\n",
        "\n",
        "This exercise will enhance your understanding of using T-tables and critical values in statistical analysis, helping you make informed decisions based on T-test results.\n",
        "\n"
      ]
    }
  ],
  "metadata": {
    "kernelspec": {
      "display_name": "Python 3",
      "language": "python",
      "name": "python3"
    },
    "language_info": {
      "codemirror_mode": {
        "name": "ipython",
        "version": 3
      },
      "file_extension": ".py",
      "mimetype": "text/x-python",
      "name": "python",
      "nbconvert_exporter": "python",
      "pygments_lexer": "ipython3",
      "version": "3.12.1"
    },
    "colab": {
      "provenance": []
    }
  },
  "nbformat": 4,
  "nbformat_minor": 5
}