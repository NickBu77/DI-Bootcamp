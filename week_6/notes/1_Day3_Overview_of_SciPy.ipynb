{
 "cells": [
  {
   "cell_type": "markdown",
   "id": "6ac955b9",
   "metadata": {},
   "source": [
    "\n",
    "# Introduction to SciPy\n",
    "\n",
    "![Alt text](../media/scipy.png)\n",
    "\n",
    "## Overview\n",
    "SciPy is an open-source Python library crucial for scientific and technical computing. It was developed to extend the capabilities of NumPy, another fundamental library for numerical computations in Python. SciPy builds on NumPy by adding a collection of algorithms and high-level commands for manipulating and visualizing data.\n",
    "\n",
    "### Brief History and Importance\n",
    "SciPy, first released in 2001, has grown into a robust library that is widely used in academic and professional settings. It's essential for researchers, engineers, and data scientists due to its efficiency and ability to work with NumPy arrays.\n",
    "\n",
    "### Relationship with NumPy\n",
    "While NumPy provides the foundational array data structure and basic operations, SciPy comes with a vast array of mathematical algorithms and convenience functions. SciPy uses NumPy arrays as the basic data structure and extends its capabilities.\n",
    "\n",
    "## Installation and Basic Usage\n"
   ]
  },
  {
   "cell_type": "code",
   "execution_count": null,
   "id": "b6945705",
   "metadata": {},
   "outputs": [],
   "source": [
    "pip install scipy"
   ]
  },
  {
   "cell_type": "markdown",
   "id": "82c0d90e",
   "metadata": {},
   "source": [
    "---\n",
    "\n"
   ]
  },
  {
   "cell_type": "code",
   "execution_count": 4,
   "id": "c9cc53d0",
   "metadata": {},
   "outputs": [
    {
     "name": "stdout",
     "output_type": "stream",
     "text": [
      "Integral of x^2 from 0 to 3: 9.000000000000002\n",
      "Integral of x^2 from 0 to 4: 16.0\n"
     ]
    }
   ],
   "source": [
    "import numpy as np\n",
    "from scipy import integrate\n",
    "\n",
    "# Define a simple function\n",
    "def integrand(x):\n",
    "    return x**2\n",
    "\n",
    "def intg(x):\n",
    "    return 4\n",
    "\n",
    "# Compute the integral of the function\n",
    "result, _ = integrate.quad(integrand, 0, 3)\n",
    "print(\"Integral of x^2 from 0 to 3:\", result)\n",
    "\n",
    "# Compute the integral of the function\n",
    "result, _ = integrate.quad(intg, 0, 4)\n",
    "print(\"Integral of x^2 from 0 to 4:\", result)\n"
   ]
  },
  {
   "cell_type": "markdown",
   "id": "8e9943dd",
   "metadata": {},
   "source": [
    "\n",
    "\n",
    "## Exercise: Compare NumPy and SciPy\n",
    "1. Use NumPy to create a large random array of floating-point numbers. (10,000 numbers)\n",
    "2. Compute the mean using both NumPy and SciPy.\n",
    "3. Compare the results and execution time to understand the efficiency or additional features provided by SciPy. You can use the time library to calculate run times. (time.time() gives you the current time in seconds since the year 2000)\n"
   ]
  },
  {
   "cell_type": "code",
   "execution_count": 6,
   "id": "da830a56",
   "metadata": {},
   "outputs": [
    {
     "name": "stdout",
     "output_type": "stream",
     "text": [
      "Numpy: 0.005402088165283203, Scipy: 0.0013184547424316406\n"
     ]
    }
   ],
   "source": [
    "import time\n",
    "from scipy import stats\n",
    "import numpy as np\n",
    "\n",
    "data = np.random.rand(10000)\n",
    "\n",
    "s = time.time()\n",
    "npmean = data.mean()\n",
    "npstd = data.std(ddof=1)\n",
    "nptim = (time.time()-s)\n",
    "\n",
    "s = time.time()\n",
    "spmean = stats.tmean(data)\n",
    "spstd = stats.tstd(data)\n",
    "sptime = (time.time() - s)\n",
    "\n",
    "print(f\"Numpy: {nptim}, Scipy: {sptime}\")"
   ]
  },
  {
   "cell_type": "code",
   "execution_count": null,
   "id": "d0e1f67a",
   "metadata": {},
   "outputs": [],
   "source": []
  }
 ],
 "metadata": {
  "kernelspec": {
   "display_name": "Python 3",
   "language": "python",
   "name": "python3"
  },
  "language_info": {
   "codemirror_mode": {
    "name": "ipython",
    "version": 3
   },
   "file_extension": ".py",
   "mimetype": "text/x-python",
   "name": "python",
   "nbconvert_exporter": "python",
   "pygments_lexer": "ipython3",
   "version": "3.12.1"
  }
 },
 "nbformat": 4,
 "nbformat_minor": 5
}
