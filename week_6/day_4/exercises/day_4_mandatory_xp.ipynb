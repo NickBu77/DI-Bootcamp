{
 "cells": [
  {
   "cell_type": "markdown",
   "metadata": {},
   "source": [
    "🌟 Exercise 1 : Linear Regression Analysis\n",
    "Instructions\n",
    "Objective: Apply linear regression to a dataset and interpret the results.\n",
    "\n",
    "Task: Given a dataset of housing prices (house_prices) and their corresponding sizes (house_sizes), use linear regression to predict the price of a house given its size.\n",
    "\n",
    "Dataset:\n",
    "\n",
    "house_sizes: [50, 70, 80, 100, 120] (in square meters)\n",
    "house_prices: [150,000, 200,000, 210,000, 250,000, 280,000] (in currency units)\n",
    "Questions:\n",
    "\n",
    "What is the slope and intercept of the regression line?\n",
    "Predict the price of a house that is 90 square meters.\n",
    "Interpret the meaning of the slope in the context of housing prices.\n",
    "\n",
    "\n",
    "🌟 Exercise 2 : Understanding ANOVA\n",
    "Instructions\n",
    "Objective: Test understanding of ANOVA and its application.\n",
    "\n",
    "Task: Three different fertilizers are applied to three separate groups of plants to test their effectiveness. The growth in centimeters is recorded.\n",
    "\n",
    "Dataset:\n",
    "\n",
    "fertilizer_1: [5, 6, 7, 6, 5]\n",
    "fertilizer_2: [7, 8, 7, 9, 8]\n",
    "fertilizer_3: [4, 5, 4, 3, 4]\n",
    "Questions:\n",
    "\n",
    "Perform an ANOVA test on the given data. What are the F-value and P-value?\n",
    "Based on the P-value, do the fertilizers have significantly different effects on plant growth?\n",
    "Explain what would happen if the P-value were greater than 0.05.\n",
    "\n",
    "\n",
    "🌟 Exercise 3 : Probability Distributions\n",
    "Instructions\n",
    "Work with a binomial distribution: calculate probabilities for different numbers of successes.\n",
    "Example: Calculating the probability of getting exactly 5 heads in 10 coin flips.\n",
    "\n",
    "\n",
    "🌟 Exercise 4 : Correlation Coefficients\n",
    "Instructions\n",
    "Calculate the Pearson and Spearman correlation coefficients between two variables in a dataset.\n",
    "Example in code: data = pd.DataFrame({'age': [23, 25, 30, 35, 40], 'income': [35000, 40000, 50000, 60000, 70000]})\n",
    "\n",
    "\n",
    "🌟 Exercise 5 : Linear Relationships\n",
    "Instructions\n",
    "Create a scatter plot of two variables (age and income) and visually assess the linear relationship. Use the dataset from Exercise 7."
   ]
  },
  {
   "cell_type": "markdown",
   "metadata": {},
   "source": [
    "🌟 Exercise 1 : Linear Regression Analysis\n",
    "Instructions\n",
    "Objective: Apply linear regression to a dataset and interpret the results.\n",
    "\n",
    "Task: Given a dataset of housing prices (house_prices) and their corresponding sizes (house_sizes), use linear regression to predict the price of a house given its size.\n",
    "\n",
    "Dataset:\n",
    "\n",
    "house_sizes: [50, 70, 80, 100, 120] (in square meters)\n",
    "house_prices: [150,000, 200,000, 210,000, 250,000, 280,000] (in currency units)\n",
    "Questions:\n",
    "\n",
    "What is the slope and intercept of the regression line?\n",
    "Predict the price of a house that is 90 square meters.\n",
    "Interpret the meaning of the slope in the context of housing prices."
   ]
  },
  {
   "cell_type": "code",
   "execution_count": 21,
   "metadata": {},
   "outputs": [
    {
     "name": "stdout",
     "output_type": "stream",
     "text": [
      "Slope: 1828.7671232876712\n",
      "Intercept: 64383.56164383562\n",
      "r value: 0.9941945063380758\n",
      "p value: 0.0005305349938203051\n",
      "std_err: 114.26934937207407\n"
     ]
    }
   ],
   "source": [
    "import scipy.stats as stats\n",
    "import pandas as pd\n",
    "import matplotlib.pyplot as plt\n",
    "import numpy as np\n",
    "\n",
    "house_sizes = [50, 70, 80, 100, 120] \n",
    "house_prices= ['150,000', '200,000', '210,000', '250,000', '280,000']\n",
    "prices = []\n",
    "\n",
    "for price in house_prices:\n",
    "    prices.append(int(price.replace(',','')))\n",
    "\n",
    "slope, intercept, r_value, p_value, std_err = stats.linregress(house_sizes, prices)\n",
    "\n",
    "xint = range(10,200,1)\n",
    "yint = slope*xint + intercept\n",
    "\n",
    "print(\"Slope:\", slope)\n",
    "print(\"Intercept:\", intercept)\n",
    "print(\"r value:\", r_value)\n",
    "print(\"p value:\", p_value)\n",
    "print(\"std_err:\", std_err)"
   ]
  },
  {
   "cell_type": "code",
   "execution_count": 22,
   "metadata": {},
   "outputs": [
    {
     "data": {
      "text/plain": [
       "[<matplotlib.lines.Line2D at 0x22a43a4ba60>]"
      ]
     },
     "execution_count": 22,
     "metadata": {},
     "output_type": "execute_result"
    },
    {
     "data": {
      "image/png": "[encoded data removed]",
      "text/plain": [
       "<Figure size 432x288 with 1 Axes>"
      ]
     },
     "metadata": {
      "needs_background": "light"
     },
     "output_type": "display_data"
    }
   ],
   "source": [
    "plt.plot(xint, yint)"
   ]
  },
  {
   "cell_type": "code",
   "execution_count": 23,
   "metadata": {},
   "outputs": [
    {
     "name": "stdout",
     "output_type": "stream",
     "text": [
      "228972.60273972602\n"
     ]
    }
   ],
   "source": [
    "y = slope*90 + intercept\n",
    "\n",
    "print(y)"
   ]
  },
  {
   "cell_type": "markdown",
   "metadata": {},
   "source": [
    "Answer:\n",
    "What is the slope and intercept of the regression line? The slope is 1,828 sq meters and intercept is $64,383\n",
    "Predict the price of a house that is 90 square meters. It is $228,973\n",
    "Interpret the meaning of the slope in the context of housing prices. For every 1 increase in square meters, the price goes up by $64,383"
   ]
  },
  {
   "cell_type": "markdown",
   "metadata": {},
   "source": [
    "🌟 Exercise 2 : Understanding ANOVA\n",
    "Instructions\n",
    "Objective: Test understanding of ANOVA and its application.\n",
    "\n",
    "Task: Three different fertilizers are applied to three separate groups of plants to test their effectiveness. The growth in centimeters is recorded.\n",
    "\n",
    "Dataset:\n",
    "fertilizer_1: [5, 6, 7, 6, 5]\n",
    "fertilizer_2: [7, 8, 7, 9, 8]\n",
    "fertilizer_3: [4, 5, 4, 3, 4]\n",
    "\n",
    "Questions:\n",
    "Perform an ANOVA test on the given data. What are the F-value and P-value?\n",
    "Based on the P-value, do the fertilizers have significantly different effects on plant growth?\n",
    "Explain what would happen if the P-value were greater than 0.05."
   ]
  },
  {
   "cell_type": "code",
   "execution_count": 35,
   "metadata": {},
   "outputs": [
    {
     "name": "stdout",
     "output_type": "stream",
     "text": [
      "r-value: 0.9941945063380758\n",
      "f-value: 28.52631578947368\n",
      "p-value: 2.7542672098048448e-05\n"
     ]
    }
   ],
   "source": [
    "fertilizer_1= [5, 6, 7, 6, 5]\n",
    "fertilizer_2= [7, 8, 7, 9, 8]\n",
    "fertilizer_3= [4, 5, 4, 3, 4]\n",
    "\n",
    "f_value, p_value = stats.f_oneway(fertilizer_1, fertilizer_2, fertilizer_3)\n",
    "\n",
    "print('r-value:', r_value)\n",
    "print(\"f-value:\", f_value)\n",
    "print(\"p-value:\", p_value)"
   ]
  },
  {
   "cell_type": "markdown",
   "metadata": {},
   "source": [
    "Answers:\n",
    "Perform an ANOVA test on the given data. What are the F-value and P-value? F-value is 28.53 and p-value is .0000275\n",
    "Based on the P-value, do the fertilizers have significantly different effects on plant growth? Yes, according to the p-value, which is way below 0.05, this is significant convergence unlikely to be due to pure chance.\n",
    "Explain what would happen if the P-value were greater than 0.05. That would mean that there is no identifiable trend between the different data sets and therefore the fertilizer used doesn't make an impact."
   ]
  },
  {
   "cell_type": "markdown",
   "metadata": {},
   "source": [
    "🌟 Exercise 3 : Probability Distributions\n",
    "Instructions\n",
    "Work with a binomial distribution: calculate probabilities for different numbers of successes.\n",
    "Example: Calculating the probability of getting exactly 5 heads in 10 coin flips."
   ]
  },
  {
   "cell_type": "code",
   "execution_count": 42,
   "metadata": {},
   "outputs": [
    {
     "name": "stdout",
     "output_type": "stream",
     "text": [
      "PMF at 5 successes: 0.24609375000000025\n"
     ]
    }
   ],
   "source": [
    "n, p = 10, 0.5  # number of trials, probability of each trial\n",
    "binom_dist = stats.binom(n, p)\n",
    "print(\"PMF at 5 successes:\", binom_dist.pmf(5))"
   ]
  },
  {
   "cell_type": "markdown",
   "metadata": {},
   "source": [
    "🌟 Exercise 4 : Correlation Coefficients\n",
    "Instructions\n",
    "Calculate the Pearson and Spearman correlation coefficients between two variables in a dataset.\n",
    "Example in code: data = pd.DataFrame({'age': [23, 25, 30, 35, 40], 'income': [35000, 40000, 50000, 60000, 70000]})"
   ]
  },
  {
   "cell_type": "code",
   "execution_count": 57,
   "metadata": {},
   "outputs": [
    {
     "name": "stdout",
     "output_type": "stream",
     "text": [
      "Spearman Rank Correlation: 1.00\n",
      "Pearson Correlation Coefficient: 1.00\n"
     ]
    }
   ],
   "source": [
    "from scipy.stats import pearsonr\n",
    "from scipy.stats import spearmanr\n",
    "\n",
    "data = pd.DataFrame({'age': [23, 25, 30, 35, 40], 'income': [35000, 40000, 50000, 60000, 70000]})\n",
    "\n",
    "# Calculate Spearman Rank Correlation between Age and Hours Spent on Social Media\n",
    "corr, _ = spearmanr(data['age'], data['income'])\n",
    "print(f'Spearman Rank Correlation: {corr:.2f}')\n",
    "\n",
    "# Calculate Pearson Correlation between Monthly Income and Online Purchase Frequency\n",
    "corr, _ = pearsonr(data['age'], data['income'])\n",
    "print(f'Pearson Correlation Coefficient: {corr:.2f}')\n",
    "\n"
   ]
  },
  {
   "cell_type": "markdown",
   "metadata": {},
   "source": [
    "Answer: The results seem to show both a perfect positive correlation, which is indicated by the Spearman rank correlation, meaning for each increase in age, the income goes up too. \n",
    "The pearson correlation coefficient shows a perfect linear relationship, meaning that income goes up exactly the same amount for each yearly increase in age."
   ]
  },
  {
   "cell_type": "markdown",
   "metadata": {},
   "source": [
    "🌟 Exercise 5 : Linear Relationships\n",
    "Instructions\n",
    "Create a scatter plot of two variables (age and income) and visually assess the linear relationship. Use the dataset from Exercise 7."
   ]
  },
  {
   "cell_type": "code",
   "execution_count": 67,
   "metadata": {},
   "outputs": [
    {
     "data": {
      "text/plain": [
       "Text(0.5, 1.0, 'Age vs annual income')"
      ]
     },
     "execution_count": 67,
     "metadata": {},
     "output_type": "execute_result"
    },
    {
     "data": {
      "image/png": "[encoded data removed]",
      "text/plain": [
       "<Figure size 432x288 with 1 Axes>"
      ]
     },
     "metadata": {
      "needs_background": "light"
     },
     "output_type": "display_data"
    }
   ],
   "source": [
    "import seaborn as sns\n",
    "\n",
    "sns.regplot(x='age',y='income',data=data, line_kws = {\"color\": \"red\", \"alpha\": 0.2})\n",
    "plt.title('Age vs annual income')"
   ]
  }
 ],
 "metadata": {
  "kernelspec": {
   "display_name": "base",
   "language": "python",
   "name": "python3"
  },
  "language_info": {
   "codemirror_mode": {
    "name": "ipython",
    "version": 3
   },
   "file_extension": ".py",
   "mimetype": "text/x-python",
   "name": "python",
   "nbconvert_exporter": "python",
   "pygments_lexer": "ipython3",
   "version": "3.8.8"
  }
 },
 "nbformat": 4,
 "nbformat_minor": 2
}
