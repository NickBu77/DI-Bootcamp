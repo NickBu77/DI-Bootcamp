{
 "cells": [
  {
   "cell_type": "markdown",
   "id": "a620c100",
   "metadata": {},
   "source": [
    "# Matrices in NumPy\n",
    "\n",
    "### Introduction to Matrices\n",
    "\n",
    "**What is a Matrix?**\n",
    "- A matrix is an array of numbers or symbols arranged in rows and columns. It's a key element in various disciplines, including data analysis, where it helps in organizing and processing data.\n",
    "\n",
    "![Alt text](../media/1_matrices_types.jpg)\n",
    "\n",
    "**Creating and Manipulating Matrices in NumPy**\n",
    "- NumPy is a powerful Python library used for numerical computing. Here's how to create and manipulate matrices:\n"
   ]
  },
  {
   "cell_type": "code",
   "execution_count": null,
   "id": "b4256992",
   "metadata": {},
   "outputs": [],
   "source": [
    "import numpy as np\n",
    "\n",
    "# Creating a matrix\n",
    "matrix_A = np.array([[1, 2], [3, 4]])\n",
    "print(\"Matrix A:\\n\", matrix_A)\n",
    "\n",
    "# Reshaping a matrix\n",
    "reshaped_matrix = np.reshape(matrix_A, (4, 1))\n",
    "print(\"Reshaped Matrix:\\n\", reshaped_matrix)\n",
    "\n",
    "# Changing values in a matrix\n",
    "matrix_A[0, 0] = 5\n",
    "print(\"Updated Matrix A:\\n\", matrix_A)"
   ]
  },
  {
   "cell_type": "markdown",
   "id": "64c08eef",
   "metadata": {},
   "source": [
    "\n",
    "### Matrix Operations in Data Analysis\n",
    "\n",
    "**Why Use Matrices in Data Analysis?**\n",
    "- Matrices are widely used in data analysis for structuring and manipulating data, making complex calculations more manageable.\n",
    "\n",
    "**Example: Data Analysis with Matrices**\n",
    "- Consider a dataset where each row represents an individual's responses to a survey and each column a different question. Matrices help in organizing this data for analysis.\n",
    "\n",
    "Here's an example of a matrix representing a survey dataset:\n",
    "\n"
   ]
  },
  {
   "cell_type": "code",
   "execution_count": null,
   "id": "0f52e930",
   "metadata": {},
   "outputs": [],
   "source": [
    "Survey Responses | Q1 | Q2 | Q3 | Q4\n",
    "-----------------|----|----|----|---\n",
    "Respondent 1     |  5 |  1 |  4 |  4\n",
    "Respondent 2     |  4 |  2 |  4 |  3\n",
    "Respondent 3     |  5 |  1 |  1 |  5\n",
    "Respondent 4     |  3 |  2 |  1 |  2\n",
    "Respondent 5     |  2 |  1 |  2 |  5\n"
   ]
  },
  {
   "cell_type": "markdown",
   "id": "8879fdb1",
   "metadata": {},
   "source": [
    "\n",
    "- **Columns (Q1, Q2, Q3, Q4)** represent different questions in the survey.\n",
    "- **Rows** represent individual respondents.\n",
    "\n",
    "Here's a concise example of how to use NumPy for analyzing a survey dataset:\n",
    "\n"
   ]
  },
  {
   "cell_type": "code",
   "execution_count": null,
   "id": "a841f22a",
   "metadata": {},
   "outputs": [],
   "source": [
    "import numpy as np\n",
    "\n",
    "# Example survey data matrix (5 respondents, 4 questions)\n",
    "survey_data = np.array([[5, 1, 4, 4],\n",
    "                        [4, 2, 4, 3],\n",
    "                        [5, 1, 1, 5],\n",
    "                        [3, 2, 1, 2],\n",
    "                        [2, 1, 2, 5]])\n",
    "\n",
    "# Calculating various statistics\n",
    "average_responses = np.mean(survey_data, axis=0)\n",
    "total_responses = np.sum(survey_data, axis=0)\n",
    "max_responses = np.max(survey_data, axis=0)\n",
    "min_responses = np.min(survey_data, axis=0)\n",
    "\n",
    "print(\"Average Responses:\", average_responses)\n",
    "print(\"Total Responses:\", total_responses)\n",
    "print(\"Maximum Responses:\", max_responses)\n",
    "print(\"Minimum Responses:\", min_responses)\n"
   ]
  },
  {
   "cell_type": "markdown",
   "id": "e4a50910",
   "metadata": {},
   "source": [
    "\n",
    "Output:\n",
    "- **Average Responses**: [3.8, 1.4, 2.4, 3.8]\n",
    "- **Total Responses**: [19, 7, 12, 19]\n",
    "- **Maximum Responses**: [5, 2, 4, 5]\n",
    "- **Minimum Responses**: [2, 1, 1, 2]\n",
    "\n",
    "### Analysis Insights:\n",
    "- **Averages**: Show the general trend or satisfaction level for each question.\n",
    "- **Totals**: Indicate the overall engagement or interest in each question.\n",
    "- **Max/Min**: Highlight the range of responses, indicating areas of strong opinions.\n",
    "\n",
    "This approach using NumPy is efficient for quickly deriving meaningful insights from survey data, illustrating the power and simplicity of NumPy in data analysis.\n",
    "\n",
    "---\n",
    "\n",
    "### Exercise: Movie Ratings Analysis\n",
    "\n",
    "#### Scenario:\n",
    "Analyze movie ratings given by different viewers.\n",
    "\n",
    "#### Data Set:\n",
    "The movie ratings for 3 movies (Movie 1 to Movie 3) by 5 viewers (Viewer 1 to Viewer 5) are represented in the following matrix:\n",
    "\n"
   ]
  },
  {
   "cell_type": "code",
   "execution_count": null,
   "id": "ac954b27",
   "metadata": {},
   "outputs": [],
   "source": [
    "| Viewer 1 | Viewer 2 | Viewer 3 | Viewer 4 | Viewer 5 |\n",
    "|----------|----------|----------|----------|----------|\n",
    "|    5     |    4     |    4     |    1     |    3     |  # Movie 1\n",
    "|    1     |    4     |    3     |    1     |    2     |  # Movie 2\n",
    "|    4     |    2     |    5     |    5     |    1     |  # Movie 3\n"
   ]
  },
  {
   "cell_type": "markdown",
   "id": "d605a6f6",
   "metadata": {},
   "source": [
    "\n",
    "#### Exercise Tasks:\n",
    "1. **Average Rating Calculation**: Compute the average rating for each movie.\n",
    "2. **Viewer Preference Analysis**: Determine which movie each viewer rated the highest.\n",
    "\n"
   ]
  },
  {
   "cell_type": "code",
   "execution_count": null,
   "id": "0004534a",
   "metadata": {},
   "outputs": [],
   "source": [
    "import numpy as np\n",
    "\n",
    "# Movie ratings matrix (5 viewers, 3 movies)\n",
    "movie_ratings = np.array([\n",
    "    [5, 1, 4],\n",
    "    [4, 4, 2],\n",
    "    [4, 3, 5],\n",
    "    [1, 1, 5],\n",
    "    [3, 2, 1]\n",
    "])\n",
    "\n",
    "# Tasks: Calculate average ratings for each movie and analyze viewer preferences\n"
   ]
  },
  {
   "cell_type": "markdown",
   "id": "bc8f1e57",
   "metadata": {},
   "source": [
    "\n",
    "#### Expected Outputs:\n",
    "- **Average Rating**: The average rating for each movie.\n",
    "- **Viewer Preference**: The highest-rated movie by each viewer.\n",
    "\n",
    "---\n",
    "\n",
    "### Basic Matrix Operations\n",
    "\n",
    "**Addition, Subtraction, and Multiplication**\n",
    "- These are fundamental operations in matrix algebra, crucial in various computational tasks.\n",
    "\n",
    "#### Example: Matrix Addition and Subtraction\n"
   ]
  },
  {
   "cell_type": "code",
   "execution_count": null,
   "id": "d7384e04",
   "metadata": {},
   "outputs": [],
   "source": [
    "# Define two matrices\n",
    "matrix_B = np.array([[2, 3], [4, 5]])\n",
    "matrix_C = np.array([[1, 1], [1, 1]])\n",
    "\n",
    "# Adding and subtracting matrices\n",
    "sum_matrix = np.add(matrix_B, matrix_C)\n",
    "diff_matrix = np.subtract(matrix_B, matrix_C)\n",
    "\n",
    "print(\"Sum of Matrices:\\n\", sum_matrix)\n",
    "print(\"Difference of Matrices:\\n\", diff_matrix)"
   ]
  },
  {
   "cell_type": "markdown",
   "id": "e276222c",
   "metadata": {},
   "source": [
    "\n",
    "---\n",
    "\n",
    "\n",
    "### Exercises and Practice\n",
    "\n",
    "**Basic Matrix Operations Exercise**\n",
    "   - Create two 3x3 matrices in NumPy.\n",
    "   - Perform addition, subtraction on them.\n",
    "   - **Expected Output**: Display the results of these operations.\n",
    "\n",
    "\n",
    "---\n",
    "\n",
    "#### Example: Matrix Multiplication\n"
   ]
  },
  {
   "cell_type": "code",
   "execution_count": null,
   "id": "a08f01ce",
   "metadata": {},
   "outputs": [],
   "source": [
    "# Multiplication of two matrices\n",
    "prod_matrix = np.dot(matrix_B, matrix_C)\n",
    "print(\"Product of Matrices:\\n\", prod_matrix)\n"
   ]
  },
  {
   "cell_type": "markdown",
   "id": "b2108b11",
   "metadata": {},
   "source": [
    "\n",
    "**Real-World Application: Economic Analysis**\n",
    "- Matrices are used in economics for operations like calculating total costs, where a price matrix is multiplied by a quantity matrix.\n",
    "\n",
    "Here's an example of using matrix multiplication in NumPy for economic analysis, particularly for calculating total sales:\n",
    "\n",
    "### Price and Quantity Matrices:\n",
    "\n",
    "**Price Matrix** (Cost of Products in Different Shops):\n"
   ]
  },
  {
   "cell_type": "code",
   "execution_count": null,
   "id": "5a60e263",
   "metadata": {},
   "outputs": [],
   "source": [
    "| Product 1 | Product 2 |\n",
    "|-----------|-----------|\n",
    "|    10     |    15     |  # Prices in Shop 1\n",
    "|    12     |    18     |  # Prices in Shop 2\n"
   ]
  },
  {
   "cell_type": "markdown",
   "id": "6bbb53b9",
   "metadata": {},
   "source": [
    "- Rows represent different shops.\n",
    "- Columns represent prices of different products.\n",
    "\n",
    "**Quantity Matrix** (Products Sold in a Month):\n"
   ]
  },
  {
   "cell_type": "code",
   "execution_count": null,
   "id": "ef0c87cd",
   "metadata": {},
   "outputs": [],
   "source": [
    "| Product 1 | Product 2 |\n",
    "|-----------|-----------|\n",
    "|    30     |    40     |  # Quantities sold in Shop 1\n",
    "|    25     |    35     |  # Quantities sold in Shop 2\n"
   ]
  },
  {
   "cell_type": "markdown",
   "id": "3f596134",
   "metadata": {},
   "source": [
    "- Rows represent different shops.\n",
    "- Columns represent quantities of products sold.\n",
    "\n",
    "### Calculating Total Sales:\n",
    "\n"
   ]
  },
  {
   "cell_type": "code",
   "execution_count": null,
   "id": "0eaa892e",
   "metadata": {},
   "outputs": [],
   "source": [
    "import numpy as np\n",
    "\n",
    "# Defining matrices\n",
    "price_matrix = np.array([[10, 15],\n",
    "                        [12, 18]])\n",
    "quantity_matrix = np.array([[30, 40],\n",
    "                        [25, 35]])\n",
    "\n",
    "# Multiplying matrices to get total sales\n",
    "total_sales_matrix = np.dot(price_matrix, quantity_matrix.T)\n",
    "\n",
    "print(\"Total Sales Matrix:\\n\", total_sales_matrix)\n"
   ]
  },
  {
   "cell_type": "markdown",
   "id": "3b679434",
   "metadata": {},
   "source": [
    "\n",
    "**Total Sales Matrix**:\n"
   ]
  },
  {
   "cell_type": "code",
   "execution_count": null,
   "id": "e01c3bdb",
   "metadata": {},
   "outputs": [],
   "source": [
    "| Shop 1| Shop 2|\n",
    "|-------|-------|\n",
    "|  900  |  775  |\n",
    "| 1080  |  930  |\n"
   ]
  },
  {
   "cell_type": "markdown",
   "id": "18e54795",
   "metadata": {},
   "source": [
    "\n",
    "- Each element represents the total sales value for each product in each shop.\n",
    "- For example, the first element (900) is the total sales for Shop 1 for Product 1.\n",
    "\n",
    "This matrix multiplication example demonstrates how NumPy can efficiently handle complex calculations like total sales analysis in an economic context, providing clear and actionable insights.\n",
    "\n",
    "---\n",
    "\n",
    "### Exercise: Weather Data Analysis\n",
    "\n",
    "#### Scenario:\n",
    "Analyze temperature data across four cities over a week.\n",
    "\n",
    "#### Data Set:\n",
    "The temperature data for 4 cities (City 1 to City 4) over 7 days (Day 1 to Day 7) is represented in the following matrix:\n",
    "\n"
   ]
  },
  {
   "cell_type": "code",
   "execution_count": null,
   "id": "c446692e",
   "metadata": {},
   "outputs": [],
   "source": [
    "| City 1 | City 2 | City 3 | City 4 |\n",
    "|--------|--------|--------|--------|\n",
    "|   27   |   24   |   23   |   22   |  # Day 1\n",
    "|   20   |   18   |   23   |   29   |  # Day 2\n",
    "|   15   |   20   |   27   |   23   |  # Day 3\n",
    "|   18   |   17   |   25   |   16   |  # Day 4\n",
    "|   26   |   19   |   16   |   20   |  # Day 5\n",
    "|   18   |   22   |   21   |   24   |  # Day 6\n",
    "|   22   |   21   |   22   |   28   |  # Day 7\n"
   ]
  },
  {
   "cell_type": "markdown",
   "id": "835d64e1",
   "metadata": {},
   "source": [
    "\n",
    "#### Exercise Tasks:\n",
    "1. **Average Temperature Calculation**: Compute the average temperature for each city over the week.\n",
    "2. **Maximum and Minimum Temperature Analysis**: Find the highest and lowest temperatures recorded in each city.\n",
    "3. **Day Comparison**: Compare the temperature across the cities on the first and last day of the week.\n",
    "\n"
   ]
  },
  {
   "cell_type": "code",
   "execution_count": null,
   "id": "3b3ec154",
   "metadata": {},
   "outputs": [],
   "source": [
    "import numpy as np\n",
    "\n",
    "# Temperature data matrix (4 cities, 7 days)\n",
    "temperature_data = np.array([\n",
    "    [27, 20, 15, 18, 26, 18, 22],\n",
    "    [24, 18, 20, 17, 19, 22, 21],\n",
    "    [23, 23, 27, 25, 16, 21, 22],\n",
    "    [22, 29, 23, 16, 20, 24, 28]\n",
    "])\n",
    "\n",
    "# Tasks: Calculate average, max, min temperatures and make day comparisons\n"
   ]
  },
  {
   "cell_type": "markdown",
   "id": "fe3419de",
   "metadata": {},
   "source": [
    "\n",
    "#### Expected Outputs:\n",
    "- **Average Temperature**: The average temperature for each city.\n",
    "- **Max/Min Temperature**: The highest and lowest temperatures in each city.\n",
    "- **Day Comparison**: Temperature differences between Day 1 and Day 7 in each city.\n",
    "\n",
    "---\n"
   ]
  }
 ],
 "metadata": {
  "language_info": {
   "name": "python"
  }
 },
 "nbformat": 4,
 "nbformat_minor": 5
}
