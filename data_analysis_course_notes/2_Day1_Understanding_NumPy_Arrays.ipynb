{
  "cells": [
    {
      "cell_type": "markdown",
      "id": "d6285546",
      "metadata": {
        "id": "d6285546"
      },
      "source": [
        "\n",
        "## 2. Understanding NumPy Arrays\n",
        "\n",
        "### Creating NumPy Arrays\n",
        "\n",
        "NumPy arrays are the core of the NumPy library. They are similar to lists in Python but can have any number of dimensions. Additionally, they provide fast mathematical operations, which is crucial for data analysis.\n",
        "\n",
        "## Example : What is a common use of numpy in data analysis that requires speed?\n",
        "\n",
        "NumPy's speed and efficiency are particularly beneficial in data analysis scenarios involving large datasets or complex mathematical operations. One common use case is Image Processing and Analysis. This task often requires handling large arrays of pixel data and performing rapid computations on them.\n",
        "\n",
        "Suppose you have a collection of digital images, and you need to process these images for tasks such as filtering, color transformation, or feature extraction. NumPy arrays can be used to represent these images, with each pixel value stored in an array element. Due to NumPy's optimized performance, operations on these large arrays can be carried out quickly, which is essential for image processing tasks.\n",
        "\n",
        "- Loading an Image as a NumPy Array: Convert an image file into a NumPy array. Each pixel's color data is represented as numbers in the array.\n",
        "- Color Transformation: Apply transformations to the image, such as converting it to grayscale, by manipulating the array values.\n",
        "- Filtering: Use mathematical operations to apply filters like blurring or edge detection.\n"
      ]
    },
    {
      "cell_type": "code",
      "execution_count": null,
      "id": "716d162c",
      "metadata": {
        "colab": {
          "base_uri": "https://localhost:8080/"
        },
        "id": "716d162c",
        "outputId": "668f7b97-b154-486a-ebb7-13d37534743f"
      },
      "outputs": [
        {
          "output_type": "stream",
          "name": "stdout",
          "text": [
            "1D Array: [1 2 3 4]\n",
            "[1, 2, 3, 4]\n"
          ]
        }
      ],
      "source": [
        "import numpy as np\n",
        "\n",
        "# Creating a 1D NumPy array\n",
        "array_1d = np.array([1, 2, 3, 4])\n",
        "print(\"1D Array:\", array_1d)  # Expected Output: 1D Array: [1 2 3 4]\n",
        "print([1, 2, 3, 4])\n"
      ]
    },
    {
      "cell_type": "code",
      "source": [
        "\n",
        "# Creating a 2D NumPy array\n",
        "array_2d = np.array([[1, 2, 3], [4, 5, 6]])\n",
        "print(\"2D Array:\\n\", array_2d)\n",
        "# Expected Output:\n",
        "# 2D Array:\n",
        "# [[1 2 3]\n",
        "#  [4 5 6]]"
      ],
      "metadata": {
        "colab": {
          "base_uri": "https://localhost:8080/"
        },
        "id": "c5CoCei34mvf",
        "outputId": "cac50571-7029-4441-ecc0-725b116e31e4"
      },
      "id": "c5CoCei34mvf",
      "execution_count": null,
      "outputs": [
        {
          "output_type": "stream",
          "name": "stdout",
          "text": [
            "2D Array:\n",
            " [[1 2 3]\n",
            " [4 5 6]]\n"
          ]
        }
      ]
    },
    {
      "cell_type": "markdown",
      "id": "9e21a96b",
      "metadata": {
        "id": "9e21a96b"
      },
      "source": [
        "\n",
        "\n",
        "![Numpy arrays 1d 2d 3d](https://drive.google.com/uc?id=1Hjmqzzh2RgnaugCOm6a1L1RpLgqTOW9f)\n",
        "\n",
        "### Array Attributes: Shape, Size, and Data Type\n",
        "\n",
        "Understanding the structure of NumPy arrays is essential. The shape, size, and data type of an array tell you about its layout and the nature of its elements.\n",
        "\n"
      ]
    },
    {
      "cell_type": "code",
      "execution_count": null,
      "id": "d6872eb6",
      "metadata": {
        "id": "d6872eb6"
      },
      "outputs": [],
      "source": [
        "# Array attributes\n",
        "print(\"Shape:\", array_2d.shape)  # Expected Output: Shape: (2, 3) - 2 rows and 3 columns\n",
        "print(\"Size:\", array_2d.size)   # Expected Output: Size: 6 - Total 6 elements\n",
        "print(\"Data Type:\", array_2d.dtype)  # Expected Output: Data Type: int64 (or similar, depending on system)"
      ]
    },
    {
      "cell_type": "markdown",
      "id": "67540ed8",
      "metadata": {
        "id": "67540ed8"
      },
      "source": [
        "\n",
        "\n",
        "**Expected Output**:\n",
        "- Shape of the array, which indicates the number of elements in each dimension.\n",
        "- Total number of elements in the array.\n",
        "- Data type of the array elements.\n",
        "\n",
        "### Important Concepts\n",
        "\n",
        "- **Shape**: This attribute represents the dimensions of the array. For a 2D array, it will give you the number of rows and columns.\n",
        "- **Size**: This is the total number of elements in the array.\n",
        "\n",
        "Here are examples demonstrating different shapes and sizes of NumPy arrays:\n",
        "\n",
        "1. **1D Array Example:**\n",
        "   "
      ]
    },
    {
      "cell_type": "code",
      "execution_count": null,
      "id": "ebb6deae",
      "metadata": {
        "colab": {
          "base_uri": "https://localhost:8080/"
        },
        "id": "ebb6deae",
        "outputId": "972e5a51-9e44-4e3a-d643-ca937d9131cc"
      },
      "outputs": [
        {
          "output_type": "stream",
          "name": "stdout",
          "text": [
            "[1 2 3 4]\n"
          ]
        }
      ],
      "source": [
        "array_1d = np.array([1, 2, 3, 4])\n",
        "   # Output: 1D Array: [1 2 3 4], Shape: (4,), Size: 4\n",
        "print(array_1d)"
      ]
    },
    {
      "cell_type": "markdown",
      "id": "35163394",
      "metadata": {
        "id": "35163394"
      },
      "source": [
        "\n",
        "\n",
        "2. **2D Array Example:**\n",
        "\n",
        "Example : What is an example of when a 2D array is used?\n",
        "\n",
        "Financial Data Analysis\n",
        "\n",
        "Imagine you have a dataset of stock prices for different companies over several days. Each row in your dataset represents a different day, and each column represents a different company. You can use a 2D NumPy array to store and analyze this data.\n",
        "For data representation, each row in the 2D array would represent stock prices for a day, and each column would represent a different company."
      ]
    },
    {
      "cell_type": "code",
      "execution_count": null,
      "id": "39659309",
      "metadata": {
        "colab": {
          "base_uri": "https://localhost:8080/"
        },
        "id": "39659309",
        "outputId": "a31f3f61-db4b-4ebd-b2df-08c6cd4489ed"
      },
      "outputs": [
        {
          "output_type": "stream",
          "name": "stdout",
          "text": [
            "[[1 2 3 4]\n",
            " [5 6 7 8]]\n"
          ]
        }
      ],
      "source": [
        "array_2d = np.array([[1, 2, 3, 4], [5, 6, 7, 8]])\n",
        "   # Output:\n",
        "   # 2D Array:\n",
        "   # [[1 2 3]\n",
        "   #  [4 5 6]]\n",
        "   # Shape: (2, 3), Size: 6\n",
        "print(array_2d)"
      ]
    },
    {
      "cell_type": "markdown",
      "id": "1e05a7a7",
      "metadata": {
        "id": "1e05a7a7"
      },
      "source": [
        "\n",
        "\n",
        "3. **3D Array Example:**\n",
        "   "
      ]
    },
    {
      "cell_type": "code",
      "execution_count": null,
      "id": "4b86b93c",
      "metadata": {
        "colab": {
          "base_uri": "https://localhost:8080/"
        },
        "id": "4b86b93c",
        "outputId": "904ed7b0-7002-457f-ef41-335894de3800"
      },
      "outputs": [
        {
          "output_type": "stream",
          "name": "stdout",
          "text": [
            "[[[1 2]\n",
            "  [3 4]]\n",
            "\n",
            " [[5 6]\n",
            "  [7 8]]]\n"
          ]
        }
      ],
      "source": [
        "array_3d = np.array([[[1, 2], [3, 4]], [[5, 6], [7, 8]]])\n",
        "   # Output:\n",
        "   # 3D Array:\n",
        "   # [[[1 2]\n",
        "   #   [3 4]]\n",
        "   #\n",
        "   #  [[5 6]\n",
        "   #   [7 8]]]\n",
        "   # Shape: (2, 2, 2), Size: 8\n",
        "print(array_3d)"
      ]
    },
    {
      "cell_type": "markdown",
      "id": "8ffc44cf",
      "metadata": {
        "id": "8ffc44cf"
      },
      "source": [
        "\n",
        "\n",
        "4. **Larger 2D Array Example:**\n",
        "   "
      ]
    },
    {
      "cell_type": "code",
      "execution_count": null,
      "id": "83c74f38",
      "metadata": {
        "id": "83c74f38"
      },
      "outputs": [],
      "source": [
        "array_2d_large = np.array([[1, 2, 3, 4], [5, 6, 7, 8], [9, 10, 11, 12]])\n",
        "   # Output:\n",
        "   # Larger 2D Array:\n",
        "   # [[ 1  2  3  4]\n",
        "   #  [ 5  6  7  8]\n",
        "   #  [ 9 10 11 12]]\n",
        "   # Shape: (3, 4), Size: 12"
      ]
    },
    {
      "cell_type": "markdown",
      "id": "aacfebf6",
      "metadata": {
        "id": "aacfebf6"
      },
      "source": [
        "\n",
        "\n",
        "- **Data Type**: NumPy arrays have elements of the same data type. The `dtype` attribute tells you the type of these elements, such as `int`, `float`, etc.\n",
        "\n",
        "| Data Type | Description |\n",
        "|-----------|-------------|\n",
        "| `int`     | Integer (e.g., `int16`, `int32`, `int64`) |\n",
        "| `float`   | Floating-point number (e.g., `float16`, `float32`, `float64`) |\n",
        "| `bool`    | Boolean (True or False) |\n",
        "| `complex` | Complex number (e.g., `complex64`, `complex128`) |\n",
        "| `str`     | String |\n",
        "| `object`  | Python object type |\n",
        "\n",
        "## Exercise: Exploring NumPy Arrays\n",
        "\n",
        "1. **Inspect Attributes**: For each array you created, print its shape, size, and data type.\n",
        "2. **Play with Data Types**: Create a new array with numbers from 1 to 3, but specify the data type as `float`. Check and print its data type.\n",
        "\n",
        "**Expected Output**:\n",
        "- Prints of the created arrays with their respective shapes, sizes, and data types.\n",
        "- An array with a specified data type different from the default.\n"
      ]
    },
    {
      "cell_type": "markdown",
      "source": [
        "Exercise: Create the following arrays:\n",
        "\n",
        "* A one dimensional array with the temperatures from this week.\n",
        "* A two dimensional array of shape 2,5 with random values (choose them yourself) from 1 to 10.\n",
        "* A 3D array with valid pixel values for a picture with 9 pixels.\n"
      ],
      "metadata": {
        "id": "VVyNAKkZ6xis"
      },
      "id": "VVyNAKkZ6xis"
    },
    {
      "cell_type": "code",
      "source": [
        "temps = np.array([21, 21, 20, 20, 21, 21, 21])"
      ],
      "metadata": {
        "id": "5glPNdsF7GVP"
      },
      "id": "5glPNdsF7GVP",
      "execution_count": null,
      "outputs": []
    },
    {
      "cell_type": "code",
      "source": [
        "vals = np.array([[1,2,3,4,5],[6,7,8,9,10]])\n",
        "print(vals)"
      ],
      "metadata": {
        "colab": {
          "base_uri": "https://localhost:8080/"
        },
        "id": "FC4BmIMq9qCC",
        "outputId": "c220804d-2a7a-4fc4-f234-b799b25b6a1f"
      },
      "id": "FC4BmIMq9qCC",
      "execution_count": null,
      "outputs": [
        {
          "output_type": "stream",
          "name": "stdout",
          "text": [
            "[[ 1  2  3  4  5]\n",
            " [ 6  7  8  9 10]]\n"
          ]
        }
      ]
    },
    {
      "cell_type": "code",
      "source": [
        "img = [[[100, 123, 456],\n",
        "        [100, 123, 456],\n",
        "        [100, 123, 456]],\n",
        "         [[100, 123, 456],\n",
        "         [100, 123, 456],\n",
        "         [100, 123, 456]],\n",
        "          [[100, 123, 456],\n",
        "          [100, 123, 456],\n",
        "          [100, 123, 456]]]\n",
        "\n",
        "print(img)"
      ],
      "metadata": {
        "colab": {
          "base_uri": "https://localhost:8080/"
        },
        "id": "wfUSygW59xaM",
        "outputId": "4bf37015-370f-4b55-85cc-0b1403ac7655"
      },
      "id": "wfUSygW59xaM",
      "execution_count": null,
      "outputs": [
        {
          "output_type": "stream",
          "name": "stdout",
          "text": [
            "[[[100, 123, 456], [100, 123, 456], [100, 123, 456]], [[100, 123, 456], [100, 123, 456], [100, 123, 456]], [[100, 123, 456], [100, 123, 456], [100, 123, 456]]]\n"
          ]
        }
      ]
    },
    {
      "cell_type": "code",
      "source": [],
      "metadata": {
        "id": "agnk6Vur-VKn"
      },
      "id": "agnk6Vur-VKn",
      "execution_count": null,
      "outputs": []
    }
  ],
  "metadata": {
    "colab": {
      "provenance": []
    },
    "language_info": {
      "name": "python"
    },
    "kernelspec": {
      "name": "python3",
      "display_name": "Python 3"
    }
  },
  "nbformat": 4,
  "nbformat_minor": 5
}