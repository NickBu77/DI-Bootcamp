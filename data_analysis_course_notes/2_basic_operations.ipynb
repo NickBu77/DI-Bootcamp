{
  "cells": [
    {
      "cell_type": "markdown",
      "id": "cad07fb9",
      "metadata": {
        "id": "cad07fb9"
      },
      "source": [
        "## Basic Operations on DataFrames and Series\n",
        "\n",
        "### Viewing and Inspecting Data\n",
        "\n",
        "Pandas provides several functions to quickly and easily inspect your data."
      ]
    },
    {
      "cell_type": "code",
      "execution_count": null,
      "id": "07e2eb6c",
      "metadata": {
        "id": "07e2eb6c"
      },
      "outputs": [],
      "source": [
        "import pandas as pd"
      ]
    },
    {
      "cell_type": "code",
      "execution_count": null,
      "id": "af7ddd7d",
      "metadata": {
        "id": "af7ddd7d"
      },
      "outputs": [],
      "source": [
        "# Sample DataFrame\n",
        "df = pd.DataFrame({\n",
        "    \"Name\": [\"Alice\", \"Bob\", \"Charlie\", \"David\", \"Eve\"],\n",
        "    \"Age\": [25, 32, 22, 35, 47],\n",
        "    \"Score\": [85, 63, 77, 96, 54]\n",
        "})\n",
        "\n",
        "# Head\n",
        "print(df.head(20))  # Returns the first 3 rows of the DataFrame"
      ]
    },
    {
      "cell_type": "code",
      "execution_count": null,
      "id": "888ec112",
      "metadata": {
        "id": "888ec112"
      },
      "outputs": [],
      "source": [
        "# Tail\n",
        "print(df.tail(3))  # Returns the last 3 rows of the DataFrame"
      ]
    },
    {
      "cell_type": "code",
      "execution_count": null,
      "id": "7f961ed8",
      "metadata": {
        "id": "7f961ed8"
      },
      "outputs": [],
      "source": [
        "# Info\n",
        "print(df.info())  # Provides a summary of the DataFrame including the number of non-null entries in each column"
      ]
    },
    {
      "cell_type": "code",
      "execution_count": null,
      "id": "aa0e2e88",
      "metadata": {
        "id": "aa0e2e88"
      },
      "outputs": [],
      "source": [
        "# Describe\n",
        "print(df.describe())  # Provides descriptive statistics of the DataFrame"
      ]
    },
    {
      "cell_type": "markdown",
      "id": "5857f0ed",
      "metadata": {
        "id": "5857f0ed"
      },
      "source": [
        "### Indexing and Selection\n",
        "\n",
        "Pandas provides several methods for indexing and selecting data including label-based indexing using `.loc` and integer-based indexing using `.iloc`."
      ]
    },
    {
      "cell_type": "code",
      "source": [
        "# iloc\n",
        "print(df.iloc[3])  # Selects row by integer location"
      ],
      "metadata": {
        "id": "3cONPxP2OwTv"
      },
      "id": "3cONPxP2OwTv",
      "execution_count": null,
      "outputs": []
    },
    {
      "cell_type": "code",
      "execution_count": null,
      "id": "a20f3aa6",
      "metadata": {
        "id": "a20f3aa6"
      },
      "outputs": [],
      "source": [
        "# loc\n",
        "print(df.loc[3])  # Selects row by index label"
      ]
    },
    {
      "cell_type": "code",
      "execution_count": null,
      "id": "eaf9b7f7",
      "metadata": {
        "id": "eaf9b7f7"
      },
      "outputs": [],
      "source": [
        "df2 = pd.DataFrame({\n",
        "    \"Name\": [\"Alice\", \"Bob\", \"Charlie\", \"David\", \"Eve\"],\n",
        "    \"Age\": [25, 32, 22, 35, 47],\n",
        "    \"Score\": [85, 63, 77, 96, 54]\n",
        "},\n",
        "index=['first', 'second', 'third', 'fourth', 'fifth'])\n",
        "print(df2)\n"
      ]
    },
    {
      "cell_type": "code",
      "execution_count": null,
      "id": "64c4b2de",
      "metadata": {
        "id": "64c4b2de"
      },
      "outputs": [],
      "source": [
        "df2.loc['third']"
      ]
    },
    {
      "cell_type": "markdown",
      "id": "bebb9916",
      "metadata": {
        "id": "bebb9916"
      },
      "source": [
        "### Adding, Renaming, and Removing Columns\n",
        "\n",
        "In pandas, it's easy to add, rename, and remove columns."
      ]
    },
    {
      "cell_type": "code",
      "execution_count": null,
      "id": "8a8ea598",
      "metadata": {
        "id": "8a8ea598"
      },
      "outputs": [],
      "source": [
        "# Adding a new column\n",
        "df['Grade'] = ['A', 'C', 'B', 'A', 'F']"
      ]
    },
    {
      "cell_type": "markdown",
      "source": [
        "Adding a single value to all rows of a new column"
      ],
      "metadata": {
        "id": "8WcaEly4cqR8"
      },
      "id": "8WcaEly4cqR8"
    },
    {
      "cell_type": "code",
      "source": [
        "df['IsActive'] = True"
      ],
      "metadata": {
        "id": "y0xhSZugcqeJ"
      },
      "id": "y0xhSZugcqeJ",
      "execution_count": null,
      "outputs": []
    },
    {
      "cell_type": "code",
      "source": [
        "df"
      ],
      "metadata": {
        "id": "gMi4-bwlc1Ce"
      },
      "id": "gMi4-bwlc1Ce",
      "execution_count": null,
      "outputs": []
    },
    {
      "cell_type": "markdown",
      "source": [
        "Using list comprehension"
      ],
      "metadata": {
        "id": "KPPYohkmcqnq"
      },
      "id": "KPPYohkmcqnq"
    },
    {
      "cell_type": "code",
      "source": [
        "values = [i for i in range(1,11,2)]\n",
        "df['randomNum'] = values\n",
        "df"
      ],
      "metadata": {
        "id": "8ODB3Cq7cqys"
      },
      "id": "8ODB3Cq7cqys",
      "execution_count": null,
      "outputs": []
    },
    {
      "cell_type": "markdown",
      "source": [
        "Using other columns"
      ],
      "metadata": {
        "id": "TSSN-Rz3dZuG"
      },
      "id": "TSSN-Rz3dZuG"
    },
    {
      "cell_type": "code",
      "source": [
        "df['Double_Age'] = df['Age'] * 2"
      ],
      "metadata": {
        "id": "vsp9XUbmdalt"
      },
      "id": "vsp9XUbmdalt",
      "execution_count": null,
      "outputs": []
    },
    {
      "cell_type": "code",
      "source": [
        "df"
      ],
      "metadata": {
        "id": "2NkT2GitVtwT"
      },
      "id": "2NkT2GitVtwT",
      "execution_count": null,
      "outputs": []
    },
    {
      "cell_type": "code",
      "execution_count": null,
      "id": "89c2a0d5",
      "metadata": {
        "id": "89c2a0d5"
      },
      "outputs": [],
      "source": [
        "# Renaming columns\n",
        "df = df.rename(columns={'StudentName': 'SName'}, inplace=False)"
      ]
    },
    {
      "cell_type": "code",
      "source": [
        "df"
      ],
      "metadata": {
        "id": "CXs73o_SWLJE"
      },
      "id": "CXs73o_SWLJE",
      "execution_count": null,
      "outputs": []
    },
    {
      "cell_type": "code",
      "execution_count": null,
      "id": "6e62d6bc",
      "metadata": {
        "id": "6e62d6bc"
      },
      "outputs": [],
      "source": [
        "# Removing columns\n",
        "df.drop('Grade', axis=1, inplace=True)"
      ]
    },
    {
      "cell_type": "code",
      "source": [
        "df"
      ],
      "metadata": {
        "id": "KqJRlvheXrF7"
      },
      "id": "KqJRlvheXrF7",
      "execution_count": null,
      "outputs": []
    },
    {
      "cell_type": "markdown",
      "id": "e49a95cf",
      "metadata": {
        "id": "e49a95cf"
      },
      "source": [
        "### Performing operations on Columns\n",
        "\n",
        "We can directly interact with the columns to change their values or create additional columns which are a product of other columns after performing a certain operation on them."
      ]
    },
    {
      "cell_type": "code",
      "execution_count": null,
      "id": "a121e592",
      "metadata": {
        "id": "a121e592"
      },
      "outputs": [],
      "source": [
        "df['Double_Age'] = df['Age'] * 2 # Creates a new column 'Double_Age' with the original age multiplied by 2"
      ]
    },
    {
      "cell_type": "code",
      "execution_count": null,
      "id": "311d1d75",
      "metadata": {
        "id": "311d1d75"
      },
      "outputs": [],
      "source": [
        "df['Age'] = df['Age'] * 2 # Overwrites the 'Age' column with the original values multiplied by 2"
      ]
    },
    {
      "cell_type": "markdown",
      "id": "915ee659",
      "metadata": {
        "id": "915ee659"
      },
      "source": [
        "### Handling Missing Values\n",
        "\n",
        "Pandas provides several methods for detecting, removing, and replacing null values in dataframes."
      ]
    },
    {
      "cell_type": "code",
      "execution_count": null,
      "id": "180ae451",
      "metadata": {
        "id": "180ae451"
      },
      "outputs": [],
      "source": [
        "# Checking for missing values\n",
        "print(df.isna())  # Returns a DataFrame where each cell is either True or False depending on that cell's null status."
      ]
    },
    {
      "cell_type": "code",
      "source": [
        "df['Age'].iloc[0] = pd.NA"
      ],
      "metadata": {
        "id": "aNL7xf-pgYtB"
      },
      "id": "aNL7xf-pgYtB",
      "execution_count": null,
      "outputs": []
    },
    {
      "cell_type": "code",
      "source": [
        "df"
      ],
      "metadata": {
        "id": "-4N4bxAAgmja"
      },
      "id": "-4N4bxAAgmja",
      "execution_count": null,
      "outputs": []
    },
    {
      "cell_type": "code",
      "execution_count": null,
      "id": "868ee0cf",
      "metadata": {
        "id": "868ee0cf"
      },
      "outputs": [],
      "source": [
        "# Filling missing values\n",
        "df.fillna(value=25, inplace=True)  # Fills NA/NaN values with the specified value (in this case, with 'NA' string)."
      ]
    },
    {
      "cell_type": "code",
      "source": [
        "df"
      ],
      "metadata": {
        "id": "3f1cVXm-gz-t"
      },
      "id": "3f1cVXm-gz-t",
      "execution_count": null,
      "outputs": []
    },
    {
      "cell_type": "code",
      "execution_count": null,
      "id": "733551de",
      "metadata": {
        "id": "733551de"
      },
      "outputs": [],
      "source": [
        "# Dropping rows with missing values\n",
        "df.dropna(inplace=True)  # Removes rows where at least one element is missing."
      ]
    },
    {
      "cell_type": "markdown",
      "source": [
        "### Replacing (missing) values\n",
        "We can use the dataframe's replace function to replace any number of values that we choose, with other values. This can be used to fill in missing values, or to change problematic values with new ones.\n",
        "There are many ways to specify which value to replace and with what. The simplest is using two single values:"
      ],
      "metadata": {
        "id": "zDC28VL-KZa6"
      },
      "id": "zDC28VL-KZa6"
    },
    {
      "cell_type": "code",
      "source": [
        "df"
      ],
      "metadata": {
        "id": "Bq7LfPWwPlfG"
      },
      "id": "Bq7LfPWwPlfG",
      "execution_count": null,
      "outputs": []
    },
    {
      "cell_type": "code",
      "source": [
        "df.replace(to_replace=96, value=98)"
      ],
      "metadata": {
        "id": "xUOC2zldKZpu"
      },
      "id": "xUOC2zldKZpu",
      "execution_count": null,
      "outputs": []
    },
    {
      "cell_type": "markdown",
      "source": [
        "We can also use lists to replace multiple values at once."
      ],
      "metadata": {
        "id": "VmY6O6DqKZ1s"
      },
      "id": "VmY6O6DqKZ1s"
    },
    {
      "cell_type": "code",
      "source": [
        "df.replace(to_replace=[25,32], value=24)"
      ],
      "metadata": {
        "id": "6OMXl5x-KaCx"
      },
      "id": "6OMXl5x-KaCx",
      "execution_count": null,
      "outputs": []
    },
    {
      "cell_type": "markdown",
      "source": [
        "Or we can use two lists, which must be the same length, to give a replacement value for each value in the first list:"
      ],
      "metadata": {
        "id": "AdfheknaP77C"
      },
      "id": "AdfheknaP77C"
    },
    {
      "cell_type": "code",
      "source": [
        "df.replace(to_replace=[24,47], value=[25,50])"
      ],
      "metadata": {
        "id": "M2aAijVtQERr"
      },
      "id": "M2aAijVtQERr",
      "execution_count": null,
      "outputs": []
    },
    {
      "cell_type": "markdown",
      "source": [
        "### Removing Duplicates\n",
        "We can use the dataframe duplicated function to check which rows contain duplicates. We'll get a series with boolean values, in which a row is True if all of the columns in the original dataframe for that row, occur in a previous row:"
      ],
      "metadata": {
        "id": "yQhwuXM1QYyX"
      },
      "id": "yQhwuXM1QYyX"
    },
    {
      "cell_type": "code",
      "source": [
        "df = pd.DataFrame({\n",
        "    \"Name\": [\"Alice\", \"Bob\", \"Charlie\", \"David\", \"Eve\", \"Alice\", \"Alice\"],\n",
        "    \"Age\": [25, 32, 22, 35, 47, 25, 25],\n",
        "    \"Score\": [85, 63, 77, 96, 54, 97, 85]\n",
        "})\n",
        "df\n"
      ],
      "metadata": {
        "colab": {
          "base_uri": "https://localhost:8080/",
          "height": 269
        },
        "id": "Vfn9r3jqQY-M",
        "outputId": "484ab256-1543-4b5e-a83e-90bdf54ce125"
      },
      "id": "Vfn9r3jqQY-M",
      "execution_count": null,
      "outputs": [
        {
          "output_type": "execute_result",
          "data": {
            "text/plain": [
              "      Name  Age  Score\n",
              "0    Alice   25     85\n",
              "1      Bob   32     63\n",
              "2  Charlie   22     77\n",
              "3    David   35     96\n",
              "4      Eve   47     54\n",
              "5    Alice   25     97\n",
              "6    Alice   25     85"
            ],
            "text/html": [
              "\n",
              "  <div id=\"df-04bb37b9-600b-43cc-94ae-e316581650ce\" class=\"colab-df-container\">\n",
              "    <div>\n",
              "<style scoped>\n",
              "    .dataframe tbody tr th:only-of-type {\n",
              "        vertical-align: middle;\n",
              "    }\n",
              "\n",
              "    .dataframe tbody tr th {\n",
              "        vertical-align: top;\n",
              "    }\n",
              "\n",
              "    .dataframe thead th {\n",
              "        text-align: right;\n",
              "    }\n",
              "</style>\n",
              "<table border=\"1\" class=\"dataframe\">\n",
              "  <thead>\n",
              "    <tr style=\"text-align: right;\">\n",
              "      <th></th>\n",
              "      <th>Name</th>\n",
              "      <th>Age</th>\n",
              "      <th>Score</th>\n",
              "    </tr>\n",
              "  </thead>\n",
              "  <tbody>\n",
              "    <tr>\n",
              "      <th>0</th>\n",
              "      <td>Alice</td>\n",
              "      <td>25</td>\n",
              "      <td>85</td>\n",
              "    </tr>\n",
              "    <tr>\n",
              "      <th>1</th>\n",
              "      <td>Bob</td>\n",
              "      <td>32</td>\n",
              "      <td>63</td>\n",
              "    </tr>\n",
              "    <tr>\n",
              "      <th>2</th>\n",
              "      <td>Charlie</td>\n",
              "      <td>22</td>\n",
              "      <td>77</td>\n",
              "    </tr>\n",
              "    <tr>\n",
              "      <th>3</th>\n",
              "      <td>David</td>\n",
              "      <td>35</td>\n",
              "      <td>96</td>\n",
              "    </tr>\n",
              "    <tr>\n",
              "      <th>4</th>\n",
              "      <td>Eve</td>\n",
              "      <td>47</td>\n",
              "      <td>54</td>\n",
              "    </tr>\n",
              "    <tr>\n",
              "      <th>5</th>\n",
              "      <td>Alice</td>\n",
              "      <td>25</td>\n",
              "      <td>97</td>\n",
              "    </tr>\n",
              "    <tr>\n",
              "      <th>6</th>\n",
              "      <td>Alice</td>\n",
              "      <td>25</td>\n",
              "      <td>85</td>\n",
              "    </tr>\n",
              "  </tbody>\n",
              "</table>\n",
              "</div>\n",
              "    <div class=\"colab-df-buttons\">\n",
              "\n",
              "  <div class=\"colab-df-container\">\n",
              "    <button class=\"colab-df-convert\" onclick=\"convertToInteractive('df-04bb37b9-600b-43cc-94ae-e316581650ce')\"\n",
              "            title=\"Convert this dataframe to an interactive table.\"\n",
              "            style=\"display:none;\">\n",
              "\n",
              "  <svg xmlns=\"http://www.w3.org/2000/svg\" height=\"24px\" viewBox=\"0 -960 960 960\">\n",
              "    <path d=\"M120-120v-720h720v720H120Zm60-500h600v-160H180v160Zm220 220h160v-160H400v160Zm0 220h160v-160H400v160ZM180-400h160v-160H180v160Zm440 0h160v-160H620v160ZM180-180h160v-160H180v160Zm440 0h160v-160H620v160Z\"/>\n",
              "  </svg>\n",
              "    </button>\n",
              "\n",
              "  <style>\n",
              "    .colab-df-container {\n",
              "      display:flex;\n",
              "      gap: 12px;\n",
              "    }\n",
              "\n",
              "    .colab-df-convert {\n",
              "      background-color: #E8F0FE;\n",
              "      border: none;\n",
              "      border-radius: 50%;\n",
              "      cursor: pointer;\n",
              "      display: none;\n",
              "      fill: #1967D2;\n",
              "      height: 32px;\n",
              "      padding: 0 0 0 0;\n",
              "      width: 32px;\n",
              "    }\n",
              "\n",
              "    .colab-df-convert:hover {\n",
              "      background-color: #E2EBFA;\n",
              "      box-shadow: 0px 1px 2px rgba(60, 64, 67, 0.3), 0px 1px 3px 1px rgba(60, 64, 67, 0.15);\n",
              "      fill: #174EA6;\n",
              "    }\n",
              "\n",
              "    .colab-df-buttons div {\n",
              "      margin-bottom: 4px;\n",
              "    }\n",
              "\n",
              "    [theme=dark] .colab-df-convert {\n",
              "      background-color: #3B4455;\n",
              "      fill: #D2E3FC;\n",
              "    }\n",
              "\n",
              "    [theme=dark] .colab-df-convert:hover {\n",
              "      background-color: #434B5C;\n",
              "      box-shadow: 0px 1px 3px 1px rgba(0, 0, 0, 0.15);\n",
              "      filter: drop-shadow(0px 1px 2px rgba(0, 0, 0, 0.3));\n",
              "      fill: #FFFFFF;\n",
              "    }\n",
              "  </style>\n",
              "\n",
              "    <script>\n",
              "      const buttonEl =\n",
              "        document.querySelector('#df-04bb37b9-600b-43cc-94ae-e316581650ce button.colab-df-convert');\n",
              "      buttonEl.style.display =\n",
              "        google.colab.kernel.accessAllowed ? 'block' : 'none';\n",
              "\n",
              "      async function convertToInteractive(key) {\n",
              "        const element = document.querySelector('#df-04bb37b9-600b-43cc-94ae-e316581650ce');\n",
              "        const dataTable =\n",
              "          await google.colab.kernel.invokeFunction('convertToInteractive',\n",
              "                                                    [key], {});\n",
              "        if (!dataTable) return;\n",
              "\n",
              "        const docLinkHtml = 'Like what you see? Visit the ' +\n",
              "          '<a target=\"_blank\" href=https://colab.research.google.com/notebooks/data_table.ipynb>data table notebook</a>'\n",
              "          + ' to learn more about interactive tables.';\n",
              "        element.innerHTML = '';\n",
              "        dataTable['output_type'] = 'display_data';\n",
              "        await google.colab.output.renderOutput(dataTable, element);\n",
              "        const docLink = document.createElement('div');\n",
              "        docLink.innerHTML = docLinkHtml;\n",
              "        element.appendChild(docLink);\n",
              "      }\n",
              "    </script>\n",
              "  </div>\n",
              "\n",
              "\n",
              "<div id=\"df-5a5e724c-4316-4ebe-98bc-ecf9e5382d26\">\n",
              "  <button class=\"colab-df-quickchart\" onclick=\"quickchart('df-5a5e724c-4316-4ebe-98bc-ecf9e5382d26')\"\n",
              "            title=\"Suggest charts\"\n",
              "            style=\"display:none;\">\n",
              "\n",
              "<svg xmlns=\"http://www.w3.org/2000/svg\" height=\"24px\"viewBox=\"0 0 24 24\"\n",
              "     width=\"24px\">\n",
              "    <g>\n",
              "        <path d=\"M19 3H5c-1.1 0-2 .9-2 2v14c0 1.1.9 2 2 2h14c1.1 0 2-.9 2-2V5c0-1.1-.9-2-2-2zM9 17H7v-7h2v7zm4 0h-2V7h2v10zm4 0h-2v-4h2v4z\"/>\n",
              "    </g>\n",
              "</svg>\n",
              "  </button>\n",
              "\n",
              "<style>\n",
              "  .colab-df-quickchart {\n",
              "      --bg-color: #E8F0FE;\n",
              "      --fill-color: #1967D2;\n",
              "      --hover-bg-color: #E2EBFA;\n",
              "      --hover-fill-color: #174EA6;\n",
              "      --disabled-fill-color: #AAA;\n",
              "      --disabled-bg-color: #DDD;\n",
              "  }\n",
              "\n",
              "  [theme=dark] .colab-df-quickchart {\n",
              "      --bg-color: #3B4455;\n",
              "      --fill-color: #D2E3FC;\n",
              "      --hover-bg-color: #434B5C;\n",
              "      --hover-fill-color: #FFFFFF;\n",
              "      --disabled-bg-color: #3B4455;\n",
              "      --disabled-fill-color: #666;\n",
              "  }\n",
              "\n",
              "  .colab-df-quickchart {\n",
              "    background-color: var(--bg-color);\n",
              "    border: none;\n",
              "    border-radius: 50%;\n",
              "    cursor: pointer;\n",
              "    display: none;\n",
              "    fill: var(--fill-color);\n",
              "    height: 32px;\n",
              "    padding: 0;\n",
              "    width: 32px;\n",
              "  }\n",
              "\n",
              "  .colab-df-quickchart:hover {\n",
              "    background-color: var(--hover-bg-color);\n",
              "    box-shadow: 0 1px 2px rgba(60, 64, 67, 0.3), 0 1px 3px 1px rgba(60, 64, 67, 0.15);\n",
              "    fill: var(--button-hover-fill-color);\n",
              "  }\n",
              "\n",
              "  .colab-df-quickchart-complete:disabled,\n",
              "  .colab-df-quickchart-complete:disabled:hover {\n",
              "    background-color: var(--disabled-bg-color);\n",
              "    fill: var(--disabled-fill-color);\n",
              "    box-shadow: none;\n",
              "  }\n",
              "\n",
              "  .colab-df-spinner {\n",
              "    border: 2px solid var(--fill-color);\n",
              "    border-color: transparent;\n",
              "    border-bottom-color: var(--fill-color);\n",
              "    animation:\n",
              "      spin 1s steps(1) infinite;\n",
              "  }\n",
              "\n",
              "  @keyframes spin {\n",
              "    0% {\n",
              "      border-color: transparent;\n",
              "      border-bottom-color: var(--fill-color);\n",
              "      border-left-color: var(--fill-color);\n",
              "    }\n",
              "    20% {\n",
              "      border-color: transparent;\n",
              "      border-left-color: var(--fill-color);\n",
              "      border-top-color: var(--fill-color);\n",
              "    }\n",
              "    30% {\n",
              "      border-color: transparent;\n",
              "      border-left-color: var(--fill-color);\n",
              "      border-top-color: var(--fill-color);\n",
              "      border-right-color: var(--fill-color);\n",
              "    }\n",
              "    40% {\n",
              "      border-color: transparent;\n",
              "      border-right-color: var(--fill-color);\n",
              "      border-top-color: var(--fill-color);\n",
              "    }\n",
              "    60% {\n",
              "      border-color: transparent;\n",
              "      border-right-color: var(--fill-color);\n",
              "    }\n",
              "    80% {\n",
              "      border-color: transparent;\n",
              "      border-right-color: var(--fill-color);\n",
              "      border-bottom-color: var(--fill-color);\n",
              "    }\n",
              "    90% {\n",
              "      border-color: transparent;\n",
              "      border-bottom-color: var(--fill-color);\n",
              "    }\n",
              "  }\n",
              "</style>\n",
              "\n",
              "  <script>\n",
              "    async function quickchart(key) {\n",
              "      const quickchartButtonEl =\n",
              "        document.querySelector('#' + key + ' button');\n",
              "      quickchartButtonEl.disabled = true;  // To prevent multiple clicks.\n",
              "      quickchartButtonEl.classList.add('colab-df-spinner');\n",
              "      try {\n",
              "        const charts = await google.colab.kernel.invokeFunction(\n",
              "            'suggestCharts', [key], {});\n",
              "      } catch (error) {\n",
              "        console.error('Error during call to suggestCharts:', error);\n",
              "      }\n",
              "      quickchartButtonEl.classList.remove('colab-df-spinner');\n",
              "      quickchartButtonEl.classList.add('colab-df-quickchart-complete');\n",
              "    }\n",
              "    (() => {\n",
              "      let quickchartButtonEl =\n",
              "        document.querySelector('#df-5a5e724c-4316-4ebe-98bc-ecf9e5382d26 button');\n",
              "      quickchartButtonEl.style.display =\n",
              "        google.colab.kernel.accessAllowed ? 'block' : 'none';\n",
              "    })();\n",
              "  </script>\n",
              "</div>\n",
              "    </div>\n",
              "  </div>\n"
            ]
          },
          "metadata": {},
          "execution_count": 22
        }
      ]
    },
    {
      "cell_type": "code",
      "source": [
        "df.duplicated(keep=\"last\")"
      ],
      "metadata": {
        "colab": {
          "base_uri": "https://localhost:8080/"
        },
        "id": "6NPlRCtFrJh8",
        "outputId": "780de080-eb9c-4644-9fca-2e3ba7edd354"
      },
      "id": "6NPlRCtFrJh8",
      "execution_count": null,
      "outputs": [
        {
          "output_type": "execute_result",
          "data": {
            "text/plain": [
              "0     True\n",
              "1    False\n",
              "2    False\n",
              "3    False\n",
              "4    False\n",
              "5     True\n",
              "6    False\n",
              "dtype: bool"
            ]
          },
          "metadata": {},
          "execution_count": 17
        }
      ]
    },
    {
      "cell_type": "markdown",
      "source": [
        "Once we've seen which rows are duplicated, we can remove them with the dataframe drop_duplicates function:"
      ],
      "metadata": {
        "id": "qjRSsiwdQZKk"
      },
      "id": "qjRSsiwdQZKk"
    },
    {
      "cell_type": "code",
      "source": [
        "df.drop_duplicates(keep='last',subset=['Name', 'Age'])"
      ],
      "metadata": {
        "colab": {
          "base_uri": "https://localhost:8080/",
          "height": 206
        },
        "id": "6UKsPFJuQZX9",
        "outputId": "28090460-805f-450e-b3db-32438677c4e2"
      },
      "id": "6UKsPFJuQZX9",
      "execution_count": null,
      "outputs": [
        {
          "output_type": "execute_result",
          "data": {
            "text/plain": [
              "      Name  Age  Score\n",
              "1      Bob   32     63\n",
              "2  Charlie   22     77\n",
              "3    David   35     96\n",
              "4      Eve   47     54\n",
              "6    Alice   25     85"
            ],
            "text/html": [
              "\n",
              "  <div id=\"df-c088cc77-2f88-46a3-aa31-db69b7d221d6\" class=\"colab-df-container\">\n",
              "    <div>\n",
              "<style scoped>\n",
              "    .dataframe tbody tr th:only-of-type {\n",
              "        vertical-align: middle;\n",
              "    }\n",
              "\n",
              "    .dataframe tbody tr th {\n",
              "        vertical-align: top;\n",
              "    }\n",
              "\n",
              "    .dataframe thead th {\n",
              "        text-align: right;\n",
              "    }\n",
              "</style>\n",
              "<table border=\"1\" class=\"dataframe\">\n",
              "  <thead>\n",
              "    <tr style=\"text-align: right;\">\n",
              "      <th></th>\n",
              "      <th>Name</th>\n",
              "      <th>Age</th>\n",
              "      <th>Score</th>\n",
              "    </tr>\n",
              "  </thead>\n",
              "  <tbody>\n",
              "    <tr>\n",
              "      <th>1</th>\n",
              "      <td>Bob</td>\n",
              "      <td>32</td>\n",
              "      <td>63</td>\n",
              "    </tr>\n",
              "    <tr>\n",
              "      <th>2</th>\n",
              "      <td>Charlie</td>\n",
              "      <td>22</td>\n",
              "      <td>77</td>\n",
              "    </tr>\n",
              "    <tr>\n",
              "      <th>3</th>\n",
              "      <td>David</td>\n",
              "      <td>35</td>\n",
              "      <td>96</td>\n",
              "    </tr>\n",
              "    <tr>\n",
              "      <th>4</th>\n",
              "      <td>Eve</td>\n",
              "      <td>47</td>\n",
              "      <td>54</td>\n",
              "    </tr>\n",
              "    <tr>\n",
              "      <th>6</th>\n",
              "      <td>Alice</td>\n",
              "      <td>25</td>\n",
              "      <td>85</td>\n",
              "    </tr>\n",
              "  </tbody>\n",
              "</table>\n",
              "</div>\n",
              "    <div class=\"colab-df-buttons\">\n",
              "\n",
              "  <div class=\"colab-df-container\">\n",
              "    <button class=\"colab-df-convert\" onclick=\"convertToInteractive('df-c088cc77-2f88-46a3-aa31-db69b7d221d6')\"\n",
              "            title=\"Convert this dataframe to an interactive table.\"\n",
              "            style=\"display:none;\">\n",
              "\n",
              "  <svg xmlns=\"http://www.w3.org/2000/svg\" height=\"24px\" viewBox=\"0 -960 960 960\">\n",
              "    <path d=\"M120-120v-720h720v720H120Zm60-500h600v-160H180v160Zm220 220h160v-160H400v160Zm0 220h160v-160H400v160ZM180-400h160v-160H180v160Zm440 0h160v-160H620v160ZM180-180h160v-160H180v160Zm440 0h160v-160H620v160Z\"/>\n",
              "  </svg>\n",
              "    </button>\n",
              "\n",
              "  <style>\n",
              "    .colab-df-container {\n",
              "      display:flex;\n",
              "      gap: 12px;\n",
              "    }\n",
              "\n",
              "    .colab-df-convert {\n",
              "      background-color: #E8F0FE;\n",
              "      border: none;\n",
              "      border-radius: 50%;\n",
              "      cursor: pointer;\n",
              "      display: none;\n",
              "      fill: #1967D2;\n",
              "      height: 32px;\n",
              "      padding: 0 0 0 0;\n",
              "      width: 32px;\n",
              "    }\n",
              "\n",
              "    .colab-df-convert:hover {\n",
              "      background-color: #E2EBFA;\n",
              "      box-shadow: 0px 1px 2px rgba(60, 64, 67, 0.3), 0px 1px 3px 1px rgba(60, 64, 67, 0.15);\n",
              "      fill: #174EA6;\n",
              "    }\n",
              "\n",
              "    .colab-df-buttons div {\n",
              "      margin-bottom: 4px;\n",
              "    }\n",
              "\n",
              "    [theme=dark] .colab-df-convert {\n",
              "      background-color: #3B4455;\n",
              "      fill: #D2E3FC;\n",
              "    }\n",
              "\n",
              "    [theme=dark] .colab-df-convert:hover {\n",
              "      background-color: #434B5C;\n",
              "      box-shadow: 0px 1px 3px 1px rgba(0, 0, 0, 0.15);\n",
              "      filter: drop-shadow(0px 1px 2px rgba(0, 0, 0, 0.3));\n",
              "      fill: #FFFFFF;\n",
              "    }\n",
              "  </style>\n",
              "\n",
              "    <script>\n",
              "      const buttonEl =\n",
              "        document.querySelector('#df-c088cc77-2f88-46a3-aa31-db69b7d221d6 button.colab-df-convert');\n",
              "      buttonEl.style.display =\n",
              "        google.colab.kernel.accessAllowed ? 'block' : 'none';\n",
              "\n",
              "      async function convertToInteractive(key) {\n",
              "        const element = document.querySelector('#df-c088cc77-2f88-46a3-aa31-db69b7d221d6');\n",
              "        const dataTable =\n",
              "          await google.colab.kernel.invokeFunction('convertToInteractive',\n",
              "                                                    [key], {});\n",
              "        if (!dataTable) return;\n",
              "\n",
              "        const docLinkHtml = 'Like what you see? Visit the ' +\n",
              "          '<a target=\"_blank\" href=https://colab.research.google.com/notebooks/data_table.ipynb>data table notebook</a>'\n",
              "          + ' to learn more about interactive tables.';\n",
              "        element.innerHTML = '';\n",
              "        dataTable['output_type'] = 'display_data';\n",
              "        await google.colab.output.renderOutput(dataTable, element);\n",
              "        const docLink = document.createElement('div');\n",
              "        docLink.innerHTML = docLinkHtml;\n",
              "        element.appendChild(docLink);\n",
              "      }\n",
              "    </script>\n",
              "  </div>\n",
              "\n",
              "\n",
              "<div id=\"df-e135d6dc-bf89-4855-a4e8-ae1a81e85634\">\n",
              "  <button class=\"colab-df-quickchart\" onclick=\"quickchart('df-e135d6dc-bf89-4855-a4e8-ae1a81e85634')\"\n",
              "            title=\"Suggest charts\"\n",
              "            style=\"display:none;\">\n",
              "\n",
              "<svg xmlns=\"http://www.w3.org/2000/svg\" height=\"24px\"viewBox=\"0 0 24 24\"\n",
              "     width=\"24px\">\n",
              "    <g>\n",
              "        <path d=\"M19 3H5c-1.1 0-2 .9-2 2v14c0 1.1.9 2 2 2h14c1.1 0 2-.9 2-2V5c0-1.1-.9-2-2-2zM9 17H7v-7h2v7zm4 0h-2V7h2v10zm4 0h-2v-4h2v4z\"/>\n",
              "    </g>\n",
              "</svg>\n",
              "  </button>\n",
              "\n",
              "<style>\n",
              "  .colab-df-quickchart {\n",
              "      --bg-color: #E8F0FE;\n",
              "      --fill-color: #1967D2;\n",
              "      --hover-bg-color: #E2EBFA;\n",
              "      --hover-fill-color: #174EA6;\n",
              "      --disabled-fill-color: #AAA;\n",
              "      --disabled-bg-color: #DDD;\n",
              "  }\n",
              "\n",
              "  [theme=dark] .colab-df-quickchart {\n",
              "      --bg-color: #3B4455;\n",
              "      --fill-color: #D2E3FC;\n",
              "      --hover-bg-color: #434B5C;\n",
              "      --hover-fill-color: #FFFFFF;\n",
              "      --disabled-bg-color: #3B4455;\n",
              "      --disabled-fill-color: #666;\n",
              "  }\n",
              "\n",
              "  .colab-df-quickchart {\n",
              "    background-color: var(--bg-color);\n",
              "    border: none;\n",
              "    border-radius: 50%;\n",
              "    cursor: pointer;\n",
              "    display: none;\n",
              "    fill: var(--fill-color);\n",
              "    height: 32px;\n",
              "    padding: 0;\n",
              "    width: 32px;\n",
              "  }\n",
              "\n",
              "  .colab-df-quickchart:hover {\n",
              "    background-color: var(--hover-bg-color);\n",
              "    box-shadow: 0 1px 2px rgba(60, 64, 67, 0.3), 0 1px 3px 1px rgba(60, 64, 67, 0.15);\n",
              "    fill: var(--button-hover-fill-color);\n",
              "  }\n",
              "\n",
              "  .colab-df-quickchart-complete:disabled,\n",
              "  .colab-df-quickchart-complete:disabled:hover {\n",
              "    background-color: var(--disabled-bg-color);\n",
              "    fill: var(--disabled-fill-color);\n",
              "    box-shadow: none;\n",
              "  }\n",
              "\n",
              "  .colab-df-spinner {\n",
              "    border: 2px solid var(--fill-color);\n",
              "    border-color: transparent;\n",
              "    border-bottom-color: var(--fill-color);\n",
              "    animation:\n",
              "      spin 1s steps(1) infinite;\n",
              "  }\n",
              "\n",
              "  @keyframes spin {\n",
              "    0% {\n",
              "      border-color: transparent;\n",
              "      border-bottom-color: var(--fill-color);\n",
              "      border-left-color: var(--fill-color);\n",
              "    }\n",
              "    20% {\n",
              "      border-color: transparent;\n",
              "      border-left-color: var(--fill-color);\n",
              "      border-top-color: var(--fill-color);\n",
              "    }\n",
              "    30% {\n",
              "      border-color: transparent;\n",
              "      border-left-color: var(--fill-color);\n",
              "      border-top-color: var(--fill-color);\n",
              "      border-right-color: var(--fill-color);\n",
              "    }\n",
              "    40% {\n",
              "      border-color: transparent;\n",
              "      border-right-color: var(--fill-color);\n",
              "      border-top-color: var(--fill-color);\n",
              "    }\n",
              "    60% {\n",
              "      border-color: transparent;\n",
              "      border-right-color: var(--fill-color);\n",
              "    }\n",
              "    80% {\n",
              "      border-color: transparent;\n",
              "      border-right-color: var(--fill-color);\n",
              "      border-bottom-color: var(--fill-color);\n",
              "    }\n",
              "    90% {\n",
              "      border-color: transparent;\n",
              "      border-bottom-color: var(--fill-color);\n",
              "    }\n",
              "  }\n",
              "</style>\n",
              "\n",
              "  <script>\n",
              "    async function quickchart(key) {\n",
              "      const quickchartButtonEl =\n",
              "        document.querySelector('#' + key + ' button');\n",
              "      quickchartButtonEl.disabled = true;  // To prevent multiple clicks.\n",
              "      quickchartButtonEl.classList.add('colab-df-spinner');\n",
              "      try {\n",
              "        const charts = await google.colab.kernel.invokeFunction(\n",
              "            'suggestCharts', [key], {});\n",
              "      } catch (error) {\n",
              "        console.error('Error during call to suggestCharts:', error);\n",
              "      }\n",
              "      quickchartButtonEl.classList.remove('colab-df-spinner');\n",
              "      quickchartButtonEl.classList.add('colab-df-quickchart-complete');\n",
              "    }\n",
              "    (() => {\n",
              "      let quickchartButtonEl =\n",
              "        document.querySelector('#df-e135d6dc-bf89-4855-a4e8-ae1a81e85634 button');\n",
              "      quickchartButtonEl.style.display =\n",
              "        google.colab.kernel.accessAllowed ? 'block' : 'none';\n",
              "    })();\n",
              "  </script>\n",
              "</div>\n",
              "    </div>\n",
              "  </div>\n"
            ]
          },
          "metadata": {},
          "execution_count": 23
        }
      ]
    },
    {
      "cell_type": "code",
      "source": [
        "df"
      ],
      "metadata": {
        "colab": {
          "base_uri": "https://localhost:8080/",
          "height": 269
        },
        "id": "5yMPMP1kRkkB",
        "outputId": "d899045f-594a-4a01-c773-69799e353e67"
      },
      "id": "5yMPMP1kRkkB",
      "execution_count": null,
      "outputs": [
        {
          "output_type": "execute_result",
          "data": {
            "text/plain": [
              "      Name  Age  Score\n",
              "0    Alice   25     85\n",
              "1      Bob   32     63\n",
              "2  Charlie   22     77\n",
              "3    David   35     96\n",
              "4      Eve   47     54\n",
              "5    Alice   25     85\n",
              "6    Alice   25     85"
            ],
            "text/html": [
              "\n",
              "  <div id=\"df-1d1731a4-bf7a-4a6e-b30d-a6ed5d9bda2b\" class=\"colab-df-container\">\n",
              "    <div>\n",
              "<style scoped>\n",
              "    .dataframe tbody tr th:only-of-type {\n",
              "        vertical-align: middle;\n",
              "    }\n",
              "\n",
              "    .dataframe tbody tr th {\n",
              "        vertical-align: top;\n",
              "    }\n",
              "\n",
              "    .dataframe thead th {\n",
              "        text-align: right;\n",
              "    }\n",
              "</style>\n",
              "<table border=\"1\" class=\"dataframe\">\n",
              "  <thead>\n",
              "    <tr style=\"text-align: right;\">\n",
              "      <th></th>\n",
              "      <th>Name</th>\n",
              "      <th>Age</th>\n",
              "      <th>Score</th>\n",
              "    </tr>\n",
              "  </thead>\n",
              "  <tbody>\n",
              "    <tr>\n",
              "      <th>0</th>\n",
              "      <td>Alice</td>\n",
              "      <td>25</td>\n",
              "      <td>85</td>\n",
              "    </tr>\n",
              "    <tr>\n",
              "      <th>1</th>\n",
              "      <td>Bob</td>\n",
              "      <td>32</td>\n",
              "      <td>63</td>\n",
              "    </tr>\n",
              "    <tr>\n",
              "      <th>2</th>\n",
              "      <td>Charlie</td>\n",
              "      <td>22</td>\n",
              "      <td>77</td>\n",
              "    </tr>\n",
              "    <tr>\n",
              "      <th>3</th>\n",
              "      <td>David</td>\n",
              "      <td>35</td>\n",
              "      <td>96</td>\n",
              "    </tr>\n",
              "    <tr>\n",
              "      <th>4</th>\n",
              "      <td>Eve</td>\n",
              "      <td>47</td>\n",
              "      <td>54</td>\n",
              "    </tr>\n",
              "    <tr>\n",
              "      <th>5</th>\n",
              "      <td>Alice</td>\n",
              "      <td>25</td>\n",
              "      <td>85</td>\n",
              "    </tr>\n",
              "    <tr>\n",
              "      <th>6</th>\n",
              "      <td>Alice</td>\n",
              "      <td>25</td>\n",
              "      <td>85</td>\n",
              "    </tr>\n",
              "  </tbody>\n",
              "</table>\n",
              "</div>\n",
              "    <div class=\"colab-df-buttons\">\n",
              "\n",
              "  <div class=\"colab-df-container\">\n",
              "    <button class=\"colab-df-convert\" onclick=\"convertToInteractive('df-1d1731a4-bf7a-4a6e-b30d-a6ed5d9bda2b')\"\n",
              "            title=\"Convert this dataframe to an interactive table.\"\n",
              "            style=\"display:none;\">\n",
              "\n",
              "  <svg xmlns=\"http://www.w3.org/2000/svg\" height=\"24px\" viewBox=\"0 -960 960 960\">\n",
              "    <path d=\"M120-120v-720h720v720H120Zm60-500h600v-160H180v160Zm220 220h160v-160H400v160Zm0 220h160v-160H400v160ZM180-400h160v-160H180v160Zm440 0h160v-160H620v160ZM180-180h160v-160H180v160Zm440 0h160v-160H620v160Z\"/>\n",
              "  </svg>\n",
              "    </button>\n",
              "\n",
              "  <style>\n",
              "    .colab-df-container {\n",
              "      display:flex;\n",
              "      gap: 12px;\n",
              "    }\n",
              "\n",
              "    .colab-df-convert {\n",
              "      background-color: #E8F0FE;\n",
              "      border: none;\n",
              "      border-radius: 50%;\n",
              "      cursor: pointer;\n",
              "      display: none;\n",
              "      fill: #1967D2;\n",
              "      height: 32px;\n",
              "      padding: 0 0 0 0;\n",
              "      width: 32px;\n",
              "    }\n",
              "\n",
              "    .colab-df-convert:hover {\n",
              "      background-color: #E2EBFA;\n",
              "      box-shadow: 0px 1px 2px rgba(60, 64, 67, 0.3), 0px 1px 3px 1px rgba(60, 64, 67, 0.15);\n",
              "      fill: #174EA6;\n",
              "    }\n",
              "\n",
              "    .colab-df-buttons div {\n",
              "      margin-bottom: 4px;\n",
              "    }\n",
              "\n",
              "    [theme=dark] .colab-df-convert {\n",
              "      background-color: #3B4455;\n",
              "      fill: #D2E3FC;\n",
              "    }\n",
              "\n",
              "    [theme=dark] .colab-df-convert:hover {\n",
              "      background-color: #434B5C;\n",
              "      box-shadow: 0px 1px 3px 1px rgba(0, 0, 0, 0.15);\n",
              "      filter: drop-shadow(0px 1px 2px rgba(0, 0, 0, 0.3));\n",
              "      fill: #FFFFFF;\n",
              "    }\n",
              "  </style>\n",
              "\n",
              "    <script>\n",
              "      const buttonEl =\n",
              "        document.querySelector('#df-1d1731a4-bf7a-4a6e-b30d-a6ed5d9bda2b button.colab-df-convert');\n",
              "      buttonEl.style.display =\n",
              "        google.colab.kernel.accessAllowed ? 'block' : 'none';\n",
              "\n",
              "      async function convertToInteractive(key) {\n",
              "        const element = document.querySelector('#df-1d1731a4-bf7a-4a6e-b30d-a6ed5d9bda2b');\n",
              "        const dataTable =\n",
              "          await google.colab.kernel.invokeFunction('convertToInteractive',\n",
              "                                                    [key], {});\n",
              "        if (!dataTable) return;\n",
              "\n",
              "        const docLinkHtml = 'Like what you see? Visit the ' +\n",
              "          '<a target=\"_blank\" href=https://colab.research.google.com/notebooks/data_table.ipynb>data table notebook</a>'\n",
              "          + ' to learn more about interactive tables.';\n",
              "        element.innerHTML = '';\n",
              "        dataTable['output_type'] = 'display_data';\n",
              "        await google.colab.output.renderOutput(dataTable, element);\n",
              "        const docLink = document.createElement('div');\n",
              "        docLink.innerHTML = docLinkHtml;\n",
              "        element.appendChild(docLink);\n",
              "      }\n",
              "    </script>\n",
              "  </div>\n",
              "\n",
              "\n",
              "<div id=\"df-aca72b89-28a5-4eea-9c05-875688afeb26\">\n",
              "  <button class=\"colab-df-quickchart\" onclick=\"quickchart('df-aca72b89-28a5-4eea-9c05-875688afeb26')\"\n",
              "            title=\"Suggest charts\"\n",
              "            style=\"display:none;\">\n",
              "\n",
              "<svg xmlns=\"http://www.w3.org/2000/svg\" height=\"24px\"viewBox=\"0 0 24 24\"\n",
              "     width=\"24px\">\n",
              "    <g>\n",
              "        <path d=\"M19 3H5c-1.1 0-2 .9-2 2v14c0 1.1.9 2 2 2h14c1.1 0 2-.9 2-2V5c0-1.1-.9-2-2-2zM9 17H7v-7h2v7zm4 0h-2V7h2v10zm4 0h-2v-4h2v4z\"/>\n",
              "    </g>\n",
              "</svg>\n",
              "  </button>\n",
              "\n",
              "<style>\n",
              "  .colab-df-quickchart {\n",
              "      --bg-color: #E8F0FE;\n",
              "      --fill-color: #1967D2;\n",
              "      --hover-bg-color: #E2EBFA;\n",
              "      --hover-fill-color: #174EA6;\n",
              "      --disabled-fill-color: #AAA;\n",
              "      --disabled-bg-color: #DDD;\n",
              "  }\n",
              "\n",
              "  [theme=dark] .colab-df-quickchart {\n",
              "      --bg-color: #3B4455;\n",
              "      --fill-color: #D2E3FC;\n",
              "      --hover-bg-color: #434B5C;\n",
              "      --hover-fill-color: #FFFFFF;\n",
              "      --disabled-bg-color: #3B4455;\n",
              "      --disabled-fill-color: #666;\n",
              "  }\n",
              "\n",
              "  .colab-df-quickchart {\n",
              "    background-color: var(--bg-color);\n",
              "    border: none;\n",
              "    border-radius: 50%;\n",
              "    cursor: pointer;\n",
              "    display: none;\n",
              "    fill: var(--fill-color);\n",
              "    height: 32px;\n",
              "    padding: 0;\n",
              "    width: 32px;\n",
              "  }\n",
              "\n",
              "  .colab-df-quickchart:hover {\n",
              "    background-color: var(--hover-bg-color);\n",
              "    box-shadow: 0 1px 2px rgba(60, 64, 67, 0.3), 0 1px 3px 1px rgba(60, 64, 67, 0.15);\n",
              "    fill: var(--button-hover-fill-color);\n",
              "  }\n",
              "\n",
              "  .colab-df-quickchart-complete:disabled,\n",
              "  .colab-df-quickchart-complete:disabled:hover {\n",
              "    background-color: var(--disabled-bg-color);\n",
              "    fill: var(--disabled-fill-color);\n",
              "    box-shadow: none;\n",
              "  }\n",
              "\n",
              "  .colab-df-spinner {\n",
              "    border: 2px solid var(--fill-color);\n",
              "    border-color: transparent;\n",
              "    border-bottom-color: var(--fill-color);\n",
              "    animation:\n",
              "      spin 1s steps(1) infinite;\n",
              "  }\n",
              "\n",
              "  @keyframes spin {\n",
              "    0% {\n",
              "      border-color: transparent;\n",
              "      border-bottom-color: var(--fill-color);\n",
              "      border-left-color: var(--fill-color);\n",
              "    }\n",
              "    20% {\n",
              "      border-color: transparent;\n",
              "      border-left-color: var(--fill-color);\n",
              "      border-top-color: var(--fill-color);\n",
              "    }\n",
              "    30% {\n",
              "      border-color: transparent;\n",
              "      border-left-color: var(--fill-color);\n",
              "      border-top-color: var(--fill-color);\n",
              "      border-right-color: var(--fill-color);\n",
              "    }\n",
              "    40% {\n",
              "      border-color: transparent;\n",
              "      border-right-color: var(--fill-color);\n",
              "      border-top-color: var(--fill-color);\n",
              "    }\n",
              "    60% {\n",
              "      border-color: transparent;\n",
              "      border-right-color: var(--fill-color);\n",
              "    }\n",
              "    80% {\n",
              "      border-color: transparent;\n",
              "      border-right-color: var(--fill-color);\n",
              "      border-bottom-color: var(--fill-color);\n",
              "    }\n",
              "    90% {\n",
              "      border-color: transparent;\n",
              "      border-bottom-color: var(--fill-color);\n",
              "    }\n",
              "  }\n",
              "</style>\n",
              "\n",
              "  <script>\n",
              "    async function quickchart(key) {\n",
              "      const quickchartButtonEl =\n",
              "        document.querySelector('#' + key + ' button');\n",
              "      quickchartButtonEl.disabled = true;  // To prevent multiple clicks.\n",
              "      quickchartButtonEl.classList.add('colab-df-spinner');\n",
              "      try {\n",
              "        const charts = await google.colab.kernel.invokeFunction(\n",
              "            'suggestCharts', [key], {});\n",
              "      } catch (error) {\n",
              "        console.error('Error during call to suggestCharts:', error);\n",
              "      }\n",
              "      quickchartButtonEl.classList.remove('colab-df-spinner');\n",
              "      quickchartButtonEl.classList.add('colab-df-quickchart-complete');\n",
              "    }\n",
              "    (() => {\n",
              "      let quickchartButtonEl =\n",
              "        document.querySelector('#df-aca72b89-28a5-4eea-9c05-875688afeb26 button');\n",
              "      quickchartButtonEl.style.display =\n",
              "        google.colab.kernel.accessAllowed ? 'block' : 'none';\n",
              "    })();\n",
              "  </script>\n",
              "</div>\n",
              "    </div>\n",
              "  </div>\n"
            ]
          },
          "metadata": {},
          "execution_count": 21
        }
      ]
    },
    {
      "cell_type": "markdown",
      "id": "bbaf1a0d",
      "metadata": {
        "id": "bbaf1a0d"
      },
      "source": [
        "### Data Type Conversion\n",
        "\n",
        "The `astype()` function enables you to convert data from one type to another."
      ]
    },
    {
      "cell_type": "code",
      "source": [
        "df = pd.DataFrame({\n",
        "    \"Name\": [\"Alice\", \"Bob\", \"Charlie\", \"David\", \"Eve\"],\n",
        "    \"Age\": [25, 32, 22, 35, 47],\n",
        "    \"Score\": [85, 63, 77, 96, 54]\n",
        "})\n",
        "df.info()"
      ],
      "metadata": {
        "id": "fvXtqaI3nEoj"
      },
      "id": "fvXtqaI3nEoj",
      "execution_count": null,
      "outputs": []
    },
    {
      "cell_type": "code",
      "execution_count": null,
      "id": "47a3d2bf",
      "metadata": {
        "id": "47a3d2bf"
      },
      "outputs": [],
      "source": [
        "# Converting a column data type\n",
        "df['Age'] = df['Age'].astype('float')"
      ]
    },
    {
      "cell_type": "code",
      "source": [
        "df"
      ],
      "metadata": {
        "id": "ScUvGuJlmsh_"
      },
      "id": "ScUvGuJlmsh_",
      "execution_count": null,
      "outputs": []
    },
    {
      "cell_type": "code",
      "source": [
        "df['Namee'] = ['a','b','c','d','e']"
      ],
      "metadata": {
        "id": "bkSLw_Gsmsxq"
      },
      "id": "bkSLw_Gsmsxq",
      "execution_count": null,
      "outputs": []
    },
    {
      "cell_type": "code",
      "source": [
        "df"
      ],
      "metadata": {
        "id": "YshfQdhvnzrY"
      },
      "id": "YshfQdhvnzrY",
      "execution_count": null,
      "outputs": []
    },
    {
      "cell_type": "markdown",
      "id": "c9c8187a",
      "metadata": {
        "id": "c9c8187a"
      },
      "source": [
        "### Simple DataFrame Operations\n",
        "\n",
        "Pandas provides a wealth of functions and methods for general data manipulation and analysis."
      ]
    },
    {
      "cell_type": "code",
      "execution_count": null,
      "id": "be00d906",
      "metadata": {
        "id": "be00d906"
      },
      "outputs": [],
      "source": [
        "# Mean of numeric columns\n",
        "print(df.mean())"
      ]
    },
    {
      "cell_type": "code",
      "execution_count": null,
      "id": "593f66e7",
      "metadata": {
        "id": "593f66e7"
      },
      "outputs": [],
      "source": [
        "# Minimum of numeric columns\n",
        "print(df.min())"
      ]
    },
    {
      "cell_type": "code",
      "execution_count": null,
      "id": "7cbd9a8f",
      "metadata": {
        "id": "7cbd9a8f"
      },
      "outputs": [],
      "source": [
        "# Maximum of numeric columns\n",
        "print(df.max())"
      ]
    },
    {
      "cell_type": "code",
      "execution_count": null,
      "id": "0d1682b7",
      "metadata": {
        "id": "0d1682b7"
      },
      "outputs": [],
      "source": [
        "# Standard deviation of numeric columns\n",
        "print(df.std())"
      ]
    },
    {
      "cell_type": "markdown",
      "source": [
        "Filtering dataframes by rows/conditions. You can get a specific set of rows from a dataframe using a number of methods. One example is using square brackets:"
      ],
      "metadata": {
        "id": "hW_fhpRiqMLZ"
      },
      "id": "hW_fhpRiqMLZ"
    },
    {
      "cell_type": "code",
      "source": [
        "df['Score'] > 55"
      ],
      "metadata": {
        "id": "3wTwaFEMqwyu"
      },
      "id": "3wTwaFEMqwyu",
      "execution_count": null,
      "outputs": []
    },
    {
      "cell_type": "code",
      "source": [
        "df[df['Score'] > 65]"
      ],
      "metadata": {
        "id": "XOyDyXs8qLCT"
      },
      "id": "XOyDyXs8qLCT",
      "execution_count": null,
      "outputs": []
    },
    {
      "cell_type": "code",
      "source": [
        "# age < 30 & (and) score > 55\n",
        "df[(df['Age'] < 30) & (df['Score'] > 55)]"
      ],
      "metadata": {
        "id": "Mb48cDfOrJf3"
      },
      "id": "Mb48cDfOrJf3",
      "execution_count": null,
      "outputs": []
    },
    {
      "cell_type": "markdown",
      "id": "78efb12b",
      "metadata": {
        "id": "78efb12b"
      },
      "source": [
        "### Uses of Standard Deviation\n",
        "* In manufacturing and process control, standard deviation can indicate the consistency of product or process performance.\n",
        "* It helps in understanding the variability or volatility in a dataset. For instance, in finance, a higher standard deviation of stock returns signifies higher risk, as the price of the stock is more volatile."
      ]
    },
    {
      "cell_type": "markdown",
      "source": [
        "### Grouping Data with Pandas\n",
        "\n",
        "The `groupby()` function is a powerful tool that allows you to group your data based on the values of specific columns, then apply a function to the results.\n",
        "\n",
        "**Code Example:**"
      ],
      "metadata": {
        "id": "-W71pBqtgony"
      },
      "id": "-W71pBqtgony"
    },
    {
      "cell_type": "code",
      "source": [
        "df = pd.DataFrame({\n",
        "    'Animal': ['Falcon', 'Falcon', 'Parrot', 'Parrot'],\n",
        "    'Max Speed': [380., 370., 24., 26.],\n",
        "    'Weight': [1, 1.5, 0.3, 0.5]\n",
        "})\n",
        "\n",
        "# Grouping the data by animal and finding the average for each group\n",
        "df_grouped = df.groupby('Animal').mean()\n",
        "\n",
        "print(df_grouped)"
      ],
      "metadata": {
        "colab": {
          "base_uri": "https://localhost:8080/"
        },
        "id": "XOXmsqLqgo8H",
        "outputId": "a2c0b70d-0baf-44a7-e3ec-d25893deb458"
      },
      "id": "XOXmsqLqgo8H",
      "execution_count": null,
      "outputs": [
        {
          "output_type": "stream",
          "name": "stdout",
          "text": [
            "        Max Speed  Weight\n",
            "Animal                   \n",
            "Falcon      375.0    1.25\n",
            "Parrot       25.0    0.40\n"
          ]
        }
      ]
    },
    {
      "cell_type": "markdown",
      "id": "d91bc7ca",
      "metadata": {
        "id": "d91bc7ca"
      },
      "source": [
        "Remember, pandas is a powerful tool that can make data analysis tasks easier, efficient, and more flexible. These are just the basics, and as you get comfortable with pandas, you can start exploring more complex data manipulations and analysis.\n",
        "\n",
        "## Exercise: Basic Operations with Pandas\n",
        "\n",
        "Let's continue to work with the fruit vendor data. We will use the DataFrame that you created in the previous exercise. If you haven't done so, load the `store_1_stock.csv` file into a DataFrame.\n",
        "\n",
        "### Exercise 4: Viewing and Inspecting Data\n",
        "\n",
        "Inspect your DataFrame using the head(), tail(), info(), and describe() methods. What is the total quantity of fruits in the store? What are the top three fruits in the store by quantity?<small>\n",
        "\n",
        "Hint: To get the total quantity use `df['Quantity'].sum()`. And for the top three fruits, use the `nlargest()` method. Here's an example on how to use it:"
      ]
    },
    {
      "cell_type": "code",
      "execution_count": null,
      "id": "5b3bf81a",
      "metadata": {
        "id": "5b3bf81a"
      },
      "outputs": [],
      "source": [
        "# This will return the 3 largest values in the 'Score' column\n",
        "print(df.nlargest(3, 'Score'))"
      ]
    },
    {
      "cell_type": "markdown",
      "id": "637a41be",
      "metadata": {
        "id": "637a41be"
      },
      "source": [
        "</small>\n",
        "\n",
        "### Exercise 5: Indexing and Selection\n",
        "\n",
        "Try to select the quantity of 'Bananas' from the DataFrame using both loc and iloc methods.\n",
        "<small>\n",
        "Hint: Assume that 'Fruit' is the index of the DataFrame. You can set it using df.set_index('Fruit', inplace=True). Then, you can use loc like this: df.loc['Bananas', 'Quantity'].\n",
        "</small>\n",
        "\n",
        "### Exercise 6: Adding, Renaming, and Removing Columns\n",
        "\n",
        "Let's suppose the store is running a sale, and all fruits are sold at 90% of their original price.\n",
        "\n",
        "- Add a new column named 'Sale_Price' to the DataFrame that is 90% of the original price.\n",
        "- Rename the 'Price' column to 'Original_Price'.\n",
        "- Remove the 'Color' column from the DataFrame.\n",
        "\n",
        "### Exercise 7: Handling Missing Values\n",
        "\n",
        "Let's say you found that the quantity of 'Grapes' is missing in your DataFrame.\n",
        "\n",
        "- Add a new row for 'Grapes' with a missing quantity. You can add this row by creating a new DataFrame with the details of 'Grapes' and then appending it to the existing DataFrame.\n",
        "<small>\n",
        "To add a new row you can use the following example:"
      ]
    },
    {
      "cell_type": "code",
      "execution_count": null,
      "id": "0f03309a",
      "metadata": {
        "id": "0f03309a"
      },
      "outputs": [],
      "source": [
        "import numpy as np\n",
        "\n",
        "new_data = pd.DataFrame({\"Fruit\": [\"Grapes\"], \"Quantity\": [np.nan], \"Price\": [3.5]})\n",
        "df = pd.concat([df, new_data], ignore_index=True) # pd.concat adds a new row"
      ]
    },
    {
      "cell_type": "markdown",
      "id": "36273440",
      "metadata": {
        "id": "36273440"
      },
      "source": [
        "</small>\n",
        "- Check if there are any missing values in the 'Quantity' column.\n",
        "\n",
        "### Exercise 8: Data Type Conversion\n",
        "\n",
        "Check the data type of the 'Quantity' column using `df['Quantity'].dtype`. If it is not integer, convert it using `astype()`.\n",
        "\n",
        "### Exercise 9: Simple DataFrame Operations\n",
        "\n",
        "Calculate the following:\n",
        "\n",
        "- The total quantity of all fruits.\n",
        "- The name and quantity of the fruit with the highest quantity.\n",
        "- The name and quantity of the fruit with the lowest quantity.\n",
        "- The average original price per kg of fruits.\n",
        "\n",
        "<small>\n",
        "Hint: For the second and third bullet points, consider using the `idxmax()` or `idxmin()` functions, or boolean indexing.\n",
        "</small>"
      ]
    }
  ],
  "metadata": {
    "kernelspec": {
      "display_name": "Python 3",
      "language": "python",
      "name": "python3"
    },
    "language_info": {
      "codemirror_mode": {
        "name": "ipython",
        "version": 3
      },
      "file_extension": ".py",
      "mimetype": "text/x-python",
      "name": "python",
      "nbconvert_exporter": "python",
      "pygments_lexer": "ipython3",
      "version": "3.12.1"
    },
    "colab": {
      "provenance": []
    }
  },
  "nbformat": 4,
  "nbformat_minor": 5
}