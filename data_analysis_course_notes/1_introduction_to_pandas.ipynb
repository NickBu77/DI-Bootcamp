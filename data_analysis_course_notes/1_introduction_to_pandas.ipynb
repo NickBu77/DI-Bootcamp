{
  "cells": [
    {
      "cell_type": "markdown",
      "id": "dbc36a74",
      "metadata": {
        "id": "dbc36a74"
      },
      "source": [
        "## Introduction to Pandas\n",
        "\n",
        "\n",
        "### Brief Introduction to Pandas\n",
        "\n",
        "Pandas is a Python library widely used for data manipulation and analysis. It provides powerful, expressive, and flexible data structures that make it easy to work with structured (tabular, multidimensional, potentially heterogeneous) and time-series data. Pandas is built on top of the Numerical Python (NumPy) package, which means Pandas utilizes many structures from NumPy or builds upon them."
      ]
    },
    {
      "cell_type": "code",
      "execution_count": null,
      "id": "72241838",
      "metadata": {
        "id": "72241838"
      },
      "outputs": [],
      "source": [
        "# Importing pandas library\n",
        "import pandas as pd"
      ]
    },
    {
      "cell_type": "markdown",
      "id": "ec5acb51",
      "metadata": {
        "id": "ec5acb51"
      },
      "source": [
        "### How to Install Pandas\n",
        "\n",
        "If you're using a distribution like Anaconda, chances are Pandas is already installed. If not, you can install it using pip or conda.\n",
        "\n",
        "```shell\n",
        "# Using pip\n",
        "pip install pandas\n",
        "\n",
        "# Using conda\n",
        "conda install pandas\n",
        "```\n",
        "\n",
        "### Basics of Pandas: Series & DataFrames\n",
        "\n",
        "Pandas has two main data structures:\n",
        "\n",
        "**`Series`**: It's a one-dimensional labeled array capable of holding any data type (integers, strings, floating point numbers, Python objects, etc.). It's essentially a single column of data."
      ]
    },
    {
      "cell_type": "code",
      "execution_count": null,
      "id": "d37596fd",
      "metadata": {
        "colab": {
          "base_uri": "https://localhost:8080/"
        },
        "id": "d37596fd",
        "outputId": "4830e059-a2a7-4b9c-905a-775bffae44fd"
      },
      "outputs": [
        {
          "output_type": "stream",
          "name": "stdout",
          "text": [
            "0    1\n",
            "1    2\n",
            "2    3\n",
            "3    4\n",
            "dtype: int64\n"
          ]
        }
      ],
      "source": [
        "# Creating a series\n",
        "series = pd.Series([1, 2, 3, 4])\n",
        "print(series)"
      ]
    },
    {
      "cell_type": "markdown",
      "id": "e62de55b",
      "metadata": {
        "id": "e62de55b"
      },
      "source": [
        "```\n",
        "Output:\n",
        "\n",
        "0    1\n",
        "1    2\n",
        "2    3\n",
        "3    4\n",
        "dtype: int64\n",
        "```\n",
        "\n",
        "**`DataFrame`**: It's a 2-dimensional labeled data structure with columns of potentially different types. You can think of it like a spreadsheet or SQL table, or a dictionary of Series objects. It is generally the most commonly used pandas object."
      ]
    },
    {
      "cell_type": "code",
      "execution_count": null,
      "id": "2718f392",
      "metadata": {
        "colab": {
          "base_uri": "https://localhost:8080/"
        },
        "id": "2718f392",
        "outputId": "cf62307c-b48a-4a75-bfb2-85224ea69cd4"
      },
      "outputs": [
        {
          "output_type": "stream",
          "name": "stdout",
          "text": [
            "      Name  Age\n",
            "0    Alice   25\n",
            "1      Bob   32\n",
            "2  Charlie   22\n"
          ]
        }
      ],
      "source": [
        "# Creating a DataFrame\n",
        "df = pd.DataFrame({\n",
        "   \"Name\": [\"Alice\", \"Bob\", \"Charlie\"],\n",
        "   \"Age\": [25, 32, 22]\n",
        "})\n",
        "print(df)"
      ]
    },
    {
      "cell_type": "markdown",
      "id": "b3561d0c",
      "metadata": {
        "id": "b3561d0c"
      },
      "source": [
        "```\n",
        "Output:\n",
        "\n",
        "      Name  Age\n",
        "0    Alice   25\n",
        "1      Bob   32\n",
        "2  Charlie   22\n",
        "```\n",
        "\n",
        "### Creating DataFrames from scratch\n",
        "\n",
        "There are many ways to create a DataFrame from scratch, but a great option is to just use a simple dictionary."
      ]
    },
    {
      "cell_type": "code",
      "execution_count": null,
      "id": "abbe665b",
      "metadata": {
        "colab": {
          "base_uri": "https://localhost:8080/"
        },
        "id": "abbe665b",
        "outputId": "56dd00fc-99b4-4a69-a525-2b9692aef084"
      },
      "outputs": [
        {
          "output_type": "stream",
          "name": "stdout",
          "text": [
            "   fruits  count\n",
            "0   apple     10\n",
            "1  banana     20\n",
            "2  cherry     15\n"
          ]
        }
      ],
      "source": [
        "# Creating a DataFrame from a dictionary\n",
        "data = {\n",
        "   \"fruits\": [\"apple\", \"banana\", \"cherry\"],\n",
        "   \"count\": [10, 20, 15]\n",
        "}\n",
        "df = pd.DataFrame(data)\n",
        "print(df)"
      ]
    },
    {
      "cell_type": "markdown",
      "id": "b0322c63",
      "metadata": {
        "id": "b0322c63"
      },
      "source": [
        "```\n",
        "Output:\n",
        "\n",
        "   fruits  count\n",
        "0   apple     10\n",
        "1  banana     20\n",
        "2  cherry     15\n",
        "```\n",
        "\n",
        "## Exercise: Getting Started with Pandas\n",
        "\n",
        "Now that you've learned the basics of Pandas, let's practice what you've learned using a set of exercises with a common context.\n",
        "\n",
        "For these exercises, let's imagine you are a data scientist working for a fruit vendor. You have data about the types of fruit you sell, their colors, and the quantity of each fruit you have in stock.\n",
        "\n",
        "### Exercise 1: Create a DataFrame\n",
        "\n",
        "First, let's create a Series object that represents the quantity of each fruit in stock. The fruit names will be the index, and their quantities will be the values. Here are the fruit names and their quantities:\n",
        "\n",
        "- Apples: 20\n",
        "- Bananas: 30\n",
        "- Cherries: 15\n",
        "- Dates: 10\n",
        "\n",
        "The expected print of the DataFrame:\n",
        "```\n",
        "fruits  count\n",
        "0   Apples     20\n",
        "1  Bananas     30\n",
        "2  Cherries     15\n",
        "3  Dates        10\n",
        "```"
      ]
    },
    {
      "cell_type": "code",
      "source": [
        "data = {\"Fruits\": [ \"Apples\", \"Bananas\", \"Cherries\", \"Dates\"], \"Counts\": [ 20, 30, 15, 10]}\n",
        "result = pd.DataFrame(data)\n",
        "print(result)"
      ],
      "metadata": {
        "colab": {
          "base_uri": "https://localhost:8080/"
        },
        "id": "aJSo2bQZjTos",
        "outputId": "ebf64c09-d096-4417-b31e-f61678170eed"
      },
      "id": "aJSo2bQZjTos",
      "execution_count": null,
      "outputs": [
        {
          "output_type": "stream",
          "name": "stdout",
          "text": [
            "     Fruits  Counts\n",
            "0    Apples      20\n",
            "1   Bananas      30\n",
            "2  Cherries      15\n",
            "3     Dates      10\n"
          ]
        }
      ]
    },
    {
      "cell_type": "markdown",
      "source": [
        "\n",
        "## Understanding Index in Pandas\n",
        "\n",
        "In both the Series and DataFrame structures in Pandas, the Index plays a crucial role. The index is essentially the \"name\" of each row or item. For instance, in a Series object, the index is the leftmost column, and in a DataFrame, it is the first column on the left.\n",
        "\n",
        "By default, when we create a new Series or DataFrame without specifying an index, Pandas will automatically create a numeric index that starts from zero. Here is an example:"
      ],
      "metadata": {
        "id": "lb4X_SmV-AL9"
      },
      "id": "lb4X_SmV-AL9"
    },
    {
      "cell_type": "code",
      "execution_count": null,
      "id": "69d2375b",
      "metadata": {
        "id": "69d2375b"
      },
      "outputs": [],
      "source": [
        "# Without explicit index\n",
        "series = pd.Series([1, 2, 3, 4])\n",
        "print(series)"
      ]
    },
    {
      "cell_type": "markdown",
      "id": "e7500a85",
      "metadata": {
        "id": "e7500a85"
      },
      "source": [
        "```\n",
        "Output:\n",
        "\n",
        "0    1\n",
        "1    2\n",
        "2    3\n",
        "3    4\n",
        "dtype: int64\n",
        "```\n",
        "\n",
        "However, we can define our own index, which can be of any immutable data type, such as strings, numbers, or dates:"
      ]
    },
    {
      "cell_type": "code",
      "execution_count": null,
      "id": "5dcee74a",
      "metadata": {
        "id": "5dcee74a"
      },
      "outputs": [],
      "source": [
        "# With explicit index\n",
        "series = pd.Series([1, 2, 3, 4], index=['a', 'b', 'c', 'd'])\n",
        "print(series)"
      ]
    },
    {
      "cell_type": "markdown",
      "id": "0975d910",
      "metadata": {
        "id": "0975d910"
      },
      "source": [
        "```\n",
        "Output:\n",
        "\n",
        "a    1\n",
        "b    2\n",
        "c    3\n",
        "d    4\n",
        "dtype: int64\n",
        "```\n",
        "\n",
        "We can think of the Pandas index as an immutable array or an ordered set (technically a multi-set, as Index objects may contain repeated values).\n",
        "\n",
        "For DataFrame, indexes work in a similar way:"
      ]
    },
    {
      "cell_type": "code",
      "execution_count": null,
      "id": "6fc51a5f",
      "metadata": {
        "id": "6fc51a5f"
      },
      "outputs": [],
      "source": [
        "df = pd.DataFrame({\n",
        "   \"Name\": [\"Alice\", \"Bob\", \"Charlie\"],\n",
        "   \"Age\": [25, 32, 22]\n",
        "}, index=[\"a\", \"b\", \"c\"])\n",
        "print(df)"
      ]
    },
    {
      "cell_type": "markdown",
      "id": "33ad6b82",
      "metadata": {
        "id": "33ad6b82"
      },
      "source": [
        "```\n",
        "Output:\n",
        "\n",
        "    Name     Age\n",
        "a   Alice    25\n",
        "b   Bob      32\n",
        "c   Charlie  22\n",
        "```\n",
        "\n",
        "We can access, modify, and apply various operations on the index, which we will cover in the later sections of this course.\n",
        "\n",
        "## Saving DataFrame to CSV\n",
        "\n",
        "Pandas provide a simple and efficient way to save your DataFrame to a CSV file using the `to_csv()` function. Here is how you can use it:"
      ]
    },
    {
      "cell_type": "code",
      "execution_count": null,
      "id": "554ee667",
      "metadata": {
        "id": "554ee667"
      },
      "outputs": [],
      "source": [
        "# Save the DataFrame to a CSV file\n",
        "df.to_csv('my_data.csv', index=False)"
      ]
    },
    {
      "cell_type": "markdown",
      "id": "29a2e0d3",
      "metadata": {
        "id": "29a2e0d3"
      },
      "source": [
        "Remember to replace `'my_data.csv'` with your desired filename.\n",
        "\n",
        "The `index=False` argument is used to prevent pandas from writing row names. If you want to include the index, you can omit this argument.\n",
        "\n",
        "\n",
        "### Reading from CSV/Excel/SQL databases\n",
        "\n",
        "Pandas provides handy functions to read data from various sources. Some commonly used functions are:\n",
        "\n",
        "- `pd.read_csv(filename)`: Reads a comma-separated values (csv) file and returns DataFrame.\n",
        "- `pd.read_excel(filename)`: Reads an Excel file and returns DataFrame.\n",
        "- `pd.read_sql(query, connection_object)`: Reads a SQL query and returns DataFrame."
      ]
    },
    {
      "cell_type": "code",
      "execution_count": null,
      "id": "38fd625d",
      "metadata": {
        "id": "38fd625d"
      },
      "outputs": [],
      "source": [
        "# Reading data from a CSV file\n",
        "df = pd.read_csv('file.csv')\n",
        "\n",
        "# Reading data from an Excel file\n",
        "df = pd.read_excel('file.xlsx')\n",
        "\n",
        "# Reading data from a SQL database\n",
        "from sqlalchemy import create_engine\n",
        "\n",
        "engine = create_engine('sqlite:///:memory:')  # Creates a temporary SQLite database\n",
        "df = pd.read_sql('SELECT * FROM my_table', engine)"
      ]
    },
    {
      "cell_type": "markdown",
      "id": "4436d4f9",
      "metadata": {
        "id": "4436d4f9"
      },
      "source": [
        "Please remember to replace the filenames and database queries with the ones you'll be using.\n",
        "\n",
        "These basics should give you a good start to use pandas effectively. We'll cover more advanced pandas features in future lessons.\n",
        "\n",
        "\n",
        "\n",
        "### Exercise 2: Create a DataFrame\n",
        "\n",
        "Now, let's add some more information about each fruit. In addition to the fruit names and their quantities, you also have the following data:\n",
        "\n",
        "- Colors: Apples are red, bananas are yellow, cherries are red, dates are brown.\n",
        "- Price per kg: Apples cost $3 per kg, bananas cost $2 per kg, cherries cost $4 per kg, dates cost $5 per kg.\n",
        "\n",
        "Create a DataFrame that includes all of this data.\n",
        "- Once the DataFrame is created and its contents are verified as correct, save the DataFrame to a .csv file named store_1_stock.csv.csv`\n",
        "\n",
        "The expected print of the DataFrame:\n",
        "```\n",
        "          Quantity   Color  Price per kg\n",
        "Apples          20     Red             3\n",
        "Bananas         30  Yellow             2\n",
        "Cherries        15     Red             4\n",
        "Dates           10   Brown             5\n",
        "```\n",
        "### Exercise 3: Read Data from a CSV File\n",
        "\n",
        "Assume you have a file named `store_1_stock.csv` in your current directory. Read this file into a DataFrame. You will notice an additional column 'Unnamed: 0', which is the index of your DataFrame saved as a separate column in the CSV file."
      ]
    },
    {
      "cell_type": "code",
      "execution_count": null,
      "id": "05ff015c",
      "metadata": {
        "id": "05ff015c"
      },
      "outputs": [],
      "source": [
        "store_1_stock = pd.read_csv('store_1_stock.csv')\n",
        "print(store_1_stock)"
      ]
    },
    {
      "cell_type": "markdown",
      "id": "ff3d2e5a",
      "metadata": {
        "id": "ff3d2e5a"
      },
      "source": [
        "The expected print of the DataFrame:\n",
        "```\n",
        "  Unnamed: 0  Quantity   Color  Price per kg\n",
        "0     Apples        20     Red             3\n",
        "1    Bananas        30  Yellow             2\n",
        "2   Cherries        15     Red             4\n",
        "3      Dates        10   Brown             5\n",
        "```"
      ]
    }
  ],
  "metadata": {
    "colab": {
      "provenance": []
    },
    "language_info": {
      "name": "python"
    },
    "kernelspec": {
      "name": "python3",
      "display_name": "Python 3"
    }
  },
  "nbformat": 4,
  "nbformat_minor": 5
}