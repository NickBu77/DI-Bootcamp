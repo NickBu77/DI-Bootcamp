{
  "nbformat": 4,
  "nbformat_minor": 0,
  "metadata": {
    "colab": {
      "provenance": []
    },
    "kernelspec": {
      "name": "python3",
      "display_name": "Python 3"
    },
    "language_info": {
      "name": "python"
    }
  },
  "cells": [
    {
      "cell_type": "code",
      "execution_count": null,
      "metadata": {
        "id": "W2YPuSI3b-KC"
      },
      "outputs": [],
      "source": [
        "import pandas as pd\n",
        "import requests"
      ]
    },
    {
      "cell_type": "code",
      "source": [
        "url = \"http://www.7timer.info/bin/api.pl?lon=79.3832&lat=43.6532&product=meteo&output=json&unit=Metric\""
      ],
      "metadata": {
        "id": "wvumlAB6db1L"
      },
      "execution_count": null,
      "outputs": []
    },
    {
      "cell_type": "code",
      "source": [
        "response = requests.get(url)"
      ],
      "metadata": {
        "id": "-TvzIhAudb5Y"
      },
      "execution_count": null,
      "outputs": []
    },
    {
      "cell_type": "code",
      "source": [
        "response"
      ],
      "metadata": {
        "colab": {
          "base_uri": "https://localhost:8080/"
        },
        "id": "pkNQ7yTwdb7c",
        "outputId": "ac521bc3-6f39-40ff-d3c3-19682613b2e6"
      },
      "execution_count": null,
      "outputs": [
        {
          "output_type": "execute_result",
          "data": {
            "text/plain": [
              "<Response [200]>"
            ]
          },
          "metadata": {},
          "execution_count": 10
        }
      ]
    },
    {
      "cell_type": "code",
      "source": [
        "response.json()"
      ],
      "metadata": {
        "id": "P-ZjA60xdb9y"
      },
      "execution_count": null,
      "outputs": []
    },
    {
      "cell_type": "code",
      "source": [
        "df = pd.read_json('data.json')"
      ],
      "metadata": {
        "id": "ZteAG2B-dcAC"
      },
      "execution_count": null,
      "outputs": []
    },
    {
      "cell_type": "code",
      "source": [
        "import json"
      ],
      "metadata": {
        "id": "VOCfa-iydcDP"
      },
      "execution_count": null,
      "outputs": []
    },
    {
      "cell_type": "code",
      "source": [
        "json.dump(response.json(), open('data.json', 'w+'))"
      ],
      "metadata": {
        "id": "euaPCTrtcyBT"
      },
      "execution_count": null,
      "outputs": []
    },
    {
      "cell_type": "code",
      "source": [
        "len(df)"
      ],
      "metadata": {
        "colab": {
          "base_uri": "https://localhost:8080/"
        },
        "id": "SIgJcmosiTqx",
        "outputId": "1c058474-a612-4a9b-dde4-60702b4254a6"
      },
      "execution_count": null,
      "outputs": [
        {
          "output_type": "execute_result",
          "data": {
            "text/plain": [
              "64"
            ]
          },
          "metadata": {},
          "execution_count": 18
        }
      ]
    },
    {
      "cell_type": "code",
      "source": [
        "df.iloc[2]['dataseries']"
      ],
      "metadata": {
        "id": "9EE2xc-xictw"
      },
      "execution_count": null,
      "outputs": []
    },
    {
      "cell_type": "code",
      "source": [
        "url = \"https://reqres.in/api/users\""
      ],
      "metadata": {
        "id": "Jy0S2vdRivml"
      },
      "execution_count": null,
      "outputs": []
    },
    {
      "cell_type": "code",
      "source": [
        "data = {\n",
        "    \"name\": \"Jeremy\",\n",
        "    \"job\": \"Teacher\"\n",
        "}"
      ],
      "metadata": {
        "id": "wdBlIqAnkJrQ"
      },
      "execution_count": null,
      "outputs": []
    },
    {
      "cell_type": "code",
      "source": [
        "response = requests.post(url=url, data=data)"
      ],
      "metadata": {
        "id": "YFlOW2I3kWl7"
      },
      "execution_count": null,
      "outputs": []
    },
    {
      "cell_type": "code",
      "source": [
        "response"
      ],
      "metadata": {
        "colab": {
          "base_uri": "https://localhost:8080/"
        },
        "id": "Py7qhfZEkmdo",
        "outputId": "716074a9-8656-4870-d585-351cb8ff39b6"
      },
      "execution_count": null,
      "outputs": [
        {
          "output_type": "execute_result",
          "data": {
            "text/plain": [
              "<Response [201]>"
            ]
          },
          "metadata": {},
          "execution_count": 28
        }
      ]
    },
    {
      "cell_type": "code",
      "source": [
        "response.json()"
      ],
      "metadata": {
        "colab": {
          "base_uri": "https://localhost:8080/"
        },
        "id": "YjVNUIOykxPJ",
        "outputId": "1cc73cec-8fac-4a55-ee10-8a8c08615da3"
      },
      "execution_count": null,
      "outputs": [
        {
          "output_type": "execute_result",
          "data": {
            "text/plain": [
              "{'name': 'Jeremy',\n",
              " 'job': 'Teacher',\n",
              " 'id': '764',\n",
              " 'createdAt': '2023-12-27T09:19:38.186Z'}"
            ]
          },
          "metadata": {},
          "execution_count": 29
        }
      ]
    },
    {
      "cell_type": "code",
      "source": [
        "response = requests.post(url, data, headers={\"Authorization\": \"akjsdqu2n3oi3fnewsdifiwlef\" })"
      ],
      "metadata": {
        "id": "9Sl7MMh5k3hb"
      },
      "execution_count": null,
      "outputs": []
    }
  ]
}