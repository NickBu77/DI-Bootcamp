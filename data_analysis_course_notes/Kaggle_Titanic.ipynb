{
  "cells": [
    {
      "cell_type": "markdown",
      "id": "8dbd7525",
      "metadata": {
        "id": "8dbd7525",
        "papermill": {
          "duration": 0.025278,
          "end_time": "2023-03-19T18:44:03.876485",
          "exception": false,
          "start_time": "2023-03-19T18:44:03.851207",
          "status": "completed"
        },
        "tags": []
      },
      "source": [
        "<a href=\"https://colab.research.google.com/github/lucasbens/ML_projects/blob/main/titanic_top_4.ipynb\" target=\"_parent\"><img src=\"https://colab.research.google.com/assets/colab-badge.svg\" alt=\"Open In Colab\"/></a>"
      ]
    },
    {
      "cell_type": "markdown",
      "id": "dd5df994",
      "metadata": {
        "id": "dd5df994",
        "papermill": {
          "duration": 0.023206,
          "end_time": "2023-03-19T18:44:03.925286",
          "exception": false,
          "start_time": "2023-03-19T18:44:03.902080",
          "status": "completed"
        },
        "tags": []
      },
      "source": [
        "# Titanic Project\n",
        "\n",
        "- The goal of the project is to correctly predict if someone survived the Titanic shipwreck on April 15, 1912.\n",
        "\n",
        "- In this notebook, I follow a step-by-step workflow to show how I am working through the problem with deep details and visualizations.\n",
        "\n",
        "<br>\n",
        "\n",
        "<br>\n",
        "\n",
        "### Workflow stages:\n",
        "\n",
        "\n",
        "##### 1) Dataset overview\n",
        "\n",
        "##### 2) Nan values\n",
        "\n",
        "##### 3) Data types\n",
        "\n",
        "##### 4) Data Distribution\n",
        "\n",
        "##### 5) Numerical features distribution / Target\n",
        "\n",
        "##### 6) Nominal feature\n",
        "\n",
        "##### 7) Ordinal features distribution\n",
        "\n",
        "##### 8) Correlation Matrix\n",
        "\n"
      ]
    },
    {
      "cell_type": "code",
      "execution_count": null,
      "id": "d01764f9",
      "metadata": {
        "execution": {
          "iopub.execute_input": "2023-03-19T18:44:04.021561Z",
          "iopub.status.busy": "2023-03-19T18:44:04.020726Z",
          "iopub.status.idle": "2023-03-19T18:44:21.067002Z",
          "shell.execute_reply": "2023-03-19T18:44:21.065553Z"
        },
        "id": "d01764f9",
        "papermill": {
          "duration": 17.075155,
          "end_time": "2023-03-19T18:44:21.070279",
          "exception": false,
          "start_time": "2023-03-19T18:44:03.995124",
          "status": "completed"
        },
        "tags": []
      },
      "outputs": [],
      "source": [
        "import pandas as pd\n",
        "import matplotlib.pyplot as plt\n",
        "import numpy as np\n",
        "import seaborn as sns\n",
        "from IPython.display import Image\n",
        "\n",
        "\n",
        "# Setting up max columns & rows displayed to 100\n",
        "pd.options.display.max_columns = 100\n",
        "pd.options.display.max_rows = 250"
      ]
    },
    {
      "cell_type": "code",
      "execution_count": null,
      "id": "df876fca",
      "metadata": {
        "execution": {
          "iopub.execute_input": "2023-03-19T18:44:21.120444Z",
          "iopub.status.busy": "2023-03-19T18:44:21.119962Z",
          "iopub.status.idle": "2023-03-19T18:44:21.161857Z",
          "shell.execute_reply": "2023-03-19T18:44:21.160468Z"
        },
        "id": "df876fca",
        "papermill": {
          "duration": 0.070719,
          "end_time": "2023-03-19T18:44:21.164757",
          "exception": false,
          "start_time": "2023-03-19T18:44:21.094038",
          "status": "completed"
        },
        "tags": []
      },
      "outputs": [],
      "source": [
        "# Our dataset\n",
        "df = pd.read_csv('titanic-train.csv')"
      ]
    },
    {
      "cell_type": "markdown",
      "id": "0a11a9ab",
      "metadata": {
        "id": "0a11a9ab",
        "papermill": {
          "duration": 0.022922,
          "end_time": "2023-03-19T18:44:21.370883",
          "exception": false,
          "start_time": "2023-03-19T18:44:21.347961",
          "status": "completed"
        },
        "tags": []
      },
      "source": [
        "## 1) Datasets overview\n",
        "\n",
        "We check our data types & null counts\n",
        "\n",
        "\n"
      ]
    },
    {
      "cell_type": "code",
      "execution_count": null,
      "id": "434461b6",
      "metadata": {
        "execution": {
          "iopub.execute_input": "2023-03-19T18:44:21.419893Z",
          "iopub.status.busy": "2023-03-19T18:44:21.419109Z",
          "iopub.status.idle": "2023-03-19T18:44:21.445475Z",
          "shell.execute_reply": "2023-03-19T18:44:21.444269Z"
        },
        "id": "434461b6",
        "papermill": {
          "duration": 0.054086,
          "end_time": "2023-03-19T18:44:21.448250",
          "exception": false,
          "start_time": "2023-03-19T18:44:21.394164",
          "status": "completed"
        },
        "tags": [],
        "colab": {
          "base_uri": "https://localhost:8080/",
          "height": 258
        },
        "outputId": "d0c46af6-7403-4552-b373-fa217f62442d"
      },
      "outputs": [
        {
          "output_type": "execute_result",
          "data": {
            "text/plain": [
              "   PassengerId  Survived  Pclass  \\\n",
              "0            1         0       3   \n",
              "1            2         1       1   \n",
              "2            3         1       3   \n",
              "3            4         1       1   \n",
              "4            5         0       3   \n",
              "\n",
              "                                                Name     Sex   Age  SibSp  \\\n",
              "0                            Braund, Mr. Owen Harris    male  22.0      1   \n",
              "1  Cumings, Mrs. John Bradley (Florence Briggs Th...  female  38.0      1   \n",
              "2                             Heikkinen, Miss. Laina  female  26.0      0   \n",
              "3       Futrelle, Mrs. Jacques Heath (Lily May Peel)  female  35.0      1   \n",
              "4                           Allen, Mr. William Henry    male  35.0      0   \n",
              "\n",
              "   Parch            Ticket     Fare Cabin Embarked  \n",
              "0      0         A/5 21171   7.2500   NaN        S  \n",
              "1      0          PC 17599  71.2833   C85        C  \n",
              "2      0  STON/O2. 3101282   7.9250   NaN        S  \n",
              "3      0            113803  53.1000  C123        S  \n",
              "4      0            373450   8.0500   NaN        S  "
            ],
            "text/html": [
              "\n",
              "  <div id=\"df-e478b93e-5e87-4bad-a6e9-f426a2035adc\" class=\"colab-df-container\">\n",
              "    <div>\n",
              "<style scoped>\n",
              "    .dataframe tbody tr th:only-of-type {\n",
              "        vertical-align: middle;\n",
              "    }\n",
              "\n",
              "    .dataframe tbody tr th {\n",
              "        vertical-align: top;\n",
              "    }\n",
              "\n",
              "    .dataframe thead th {\n",
              "        text-align: right;\n",
              "    }\n",
              "</style>\n",
              "<table border=\"1\" class=\"dataframe\">\n",
              "  <thead>\n",
              "    <tr style=\"text-align: right;\">\n",
              "      <th></th>\n",
              "      <th>PassengerId</th>\n",
              "      <th>Survived</th>\n",
              "      <th>Pclass</th>\n",
              "      <th>Name</th>\n",
              "      <th>Sex</th>\n",
              "      <th>Age</th>\n",
              "      <th>SibSp</th>\n",
              "      <th>Parch</th>\n",
              "      <th>Ticket</th>\n",
              "      <th>Fare</th>\n",
              "      <th>Cabin</th>\n",
              "      <th>Embarked</th>\n",
              "    </tr>\n",
              "  </thead>\n",
              "  <tbody>\n",
              "    <tr>\n",
              "      <th>0</th>\n",
              "      <td>1</td>\n",
              "      <td>0</td>\n",
              "      <td>3</td>\n",
              "      <td>Braund, Mr. Owen Harris</td>\n",
              "      <td>male</td>\n",
              "      <td>22.0</td>\n",
              "      <td>1</td>\n",
              "      <td>0</td>\n",
              "      <td>A/5 21171</td>\n",
              "      <td>7.2500</td>\n",
              "      <td>NaN</td>\n",
              "      <td>S</td>\n",
              "    </tr>\n",
              "    <tr>\n",
              "      <th>1</th>\n",
              "      <td>2</td>\n",
              "      <td>1</td>\n",
              "      <td>1</td>\n",
              "      <td>Cumings, Mrs. John Bradley (Florence Briggs Th...</td>\n",
              "      <td>female</td>\n",
              "      <td>38.0</td>\n",
              "      <td>1</td>\n",
              "      <td>0</td>\n",
              "      <td>PC 17599</td>\n",
              "      <td>71.2833</td>\n",
              "      <td>C85</td>\n",
              "      <td>C</td>\n",
              "    </tr>\n",
              "    <tr>\n",
              "      <th>2</th>\n",
              "      <td>3</td>\n",
              "      <td>1</td>\n",
              "      <td>3</td>\n",
              "      <td>Heikkinen, Miss. Laina</td>\n",
              "      <td>female</td>\n",
              "      <td>26.0</td>\n",
              "      <td>0</td>\n",
              "      <td>0</td>\n",
              "      <td>STON/O2. 3101282</td>\n",
              "      <td>7.9250</td>\n",
              "      <td>NaN</td>\n",
              "      <td>S</td>\n",
              "    </tr>\n",
              "    <tr>\n",
              "      <th>3</th>\n",
              "      <td>4</td>\n",
              "      <td>1</td>\n",
              "      <td>1</td>\n",
              "      <td>Futrelle, Mrs. Jacques Heath (Lily May Peel)</td>\n",
              "      <td>female</td>\n",
              "      <td>35.0</td>\n",
              "      <td>1</td>\n",
              "      <td>0</td>\n",
              "      <td>113803</td>\n",
              "      <td>53.1000</td>\n",
              "      <td>C123</td>\n",
              "      <td>S</td>\n",
              "    </tr>\n",
              "    <tr>\n",
              "      <th>4</th>\n",
              "      <td>5</td>\n",
              "      <td>0</td>\n",
              "      <td>3</td>\n",
              "      <td>Allen, Mr. William Henry</td>\n",
              "      <td>male</td>\n",
              "      <td>35.0</td>\n",
              "      <td>0</td>\n",
              "      <td>0</td>\n",
              "      <td>373450</td>\n",
              "      <td>8.0500</td>\n",
              "      <td>NaN</td>\n",
              "      <td>S</td>\n",
              "    </tr>\n",
              "  </tbody>\n",
              "</table>\n",
              "</div>\n",
              "    <div class=\"colab-df-buttons\">\n",
              "\n",
              "  <div class=\"colab-df-container\">\n",
              "    <button class=\"colab-df-convert\" onclick=\"convertToInteractive('df-e478b93e-5e87-4bad-a6e9-f426a2035adc')\"\n",
              "            title=\"Convert this dataframe to an interactive table.\"\n",
              "            style=\"display:none;\">\n",
              "\n",
              "  <svg xmlns=\"http://www.w3.org/2000/svg\" height=\"24px\" viewBox=\"0 -960 960 960\">\n",
              "    <path d=\"M120-120v-720h720v720H120Zm60-500h600v-160H180v160Zm220 220h160v-160H400v160Zm0 220h160v-160H400v160ZM180-400h160v-160H180v160Zm440 0h160v-160H620v160ZM180-180h160v-160H180v160Zm440 0h160v-160H620v160Z\"/>\n",
              "  </svg>\n",
              "    </button>\n",
              "\n",
              "  <style>\n",
              "    .colab-df-container {\n",
              "      display:flex;\n",
              "      gap: 12px;\n",
              "    }\n",
              "\n",
              "    .colab-df-convert {\n",
              "      background-color: #E8F0FE;\n",
              "      border: none;\n",
              "      border-radius: 50%;\n",
              "      cursor: pointer;\n",
              "      display: none;\n",
              "      fill: #1967D2;\n",
              "      height: 32px;\n",
              "      padding: 0 0 0 0;\n",
              "      width: 32px;\n",
              "    }\n",
              "\n",
              "    .colab-df-convert:hover {\n",
              "      background-color: #E2EBFA;\n",
              "      box-shadow: 0px 1px 2px rgba(60, 64, 67, 0.3), 0px 1px 3px 1px rgba(60, 64, 67, 0.15);\n",
              "      fill: #174EA6;\n",
              "    }\n",
              "\n",
              "    .colab-df-buttons div {\n",
              "      margin-bottom: 4px;\n",
              "    }\n",
              "\n",
              "    [theme=dark] .colab-df-convert {\n",
              "      background-color: #3B4455;\n",
              "      fill: #D2E3FC;\n",
              "    }\n",
              "\n",
              "    [theme=dark] .colab-df-convert:hover {\n",
              "      background-color: #434B5C;\n",
              "      box-shadow: 0px 1px 3px 1px rgba(0, 0, 0, 0.15);\n",
              "      filter: drop-shadow(0px 1px 2px rgba(0, 0, 0, 0.3));\n",
              "      fill: #FFFFFF;\n",
              "    }\n",
              "  </style>\n",
              "\n",
              "    <script>\n",
              "      const buttonEl =\n",
              "        document.querySelector('#df-e478b93e-5e87-4bad-a6e9-f426a2035adc button.colab-df-convert');\n",
              "      buttonEl.style.display =\n",
              "        google.colab.kernel.accessAllowed ? 'block' : 'none';\n",
              "\n",
              "      async function convertToInteractive(key) {\n",
              "        const element = document.querySelector('#df-e478b93e-5e87-4bad-a6e9-f426a2035adc');\n",
              "        const dataTable =\n",
              "          await google.colab.kernel.invokeFunction('convertToInteractive',\n",
              "                                                    [key], {});\n",
              "        if (!dataTable) return;\n",
              "\n",
              "        const docLinkHtml = 'Like what you see? Visit the ' +\n",
              "          '<a target=\"_blank\" href=https://colab.research.google.com/notebooks/data_table.ipynb>data table notebook</a>'\n",
              "          + ' to learn more about interactive tables.';\n",
              "        element.innerHTML = '';\n",
              "        dataTable['output_type'] = 'display_data';\n",
              "        await google.colab.output.renderOutput(dataTable, element);\n",
              "        const docLink = document.createElement('div');\n",
              "        docLink.innerHTML = docLinkHtml;\n",
              "        element.appendChild(docLink);\n",
              "      }\n",
              "    </script>\n",
              "  </div>\n",
              "\n",
              "\n",
              "<div id=\"df-7dd22529-9a95-446f-9433-e37fd77ae584\">\n",
              "  <button class=\"colab-df-quickchart\" onclick=\"quickchart('df-7dd22529-9a95-446f-9433-e37fd77ae584')\"\n",
              "            title=\"Suggest charts\"\n",
              "            style=\"display:none;\">\n",
              "\n",
              "<svg xmlns=\"http://www.w3.org/2000/svg\" height=\"24px\"viewBox=\"0 0 24 24\"\n",
              "     width=\"24px\">\n",
              "    <g>\n",
              "        <path d=\"M19 3H5c-1.1 0-2 .9-2 2v14c0 1.1.9 2 2 2h14c1.1 0 2-.9 2-2V5c0-1.1-.9-2-2-2zM9 17H7v-7h2v7zm4 0h-2V7h2v10zm4 0h-2v-4h2v4z\"/>\n",
              "    </g>\n",
              "</svg>\n",
              "  </button>\n",
              "\n",
              "<style>\n",
              "  .colab-df-quickchart {\n",
              "      --bg-color: #E8F0FE;\n",
              "      --fill-color: #1967D2;\n",
              "      --hover-bg-color: #E2EBFA;\n",
              "      --hover-fill-color: #174EA6;\n",
              "      --disabled-fill-color: #AAA;\n",
              "      --disabled-bg-color: #DDD;\n",
              "  }\n",
              "\n",
              "  [theme=dark] .colab-df-quickchart {\n",
              "      --bg-color: #3B4455;\n",
              "      --fill-color: #D2E3FC;\n",
              "      --hover-bg-color: #434B5C;\n",
              "      --hover-fill-color: #FFFFFF;\n",
              "      --disabled-bg-color: #3B4455;\n",
              "      --disabled-fill-color: #666;\n",
              "  }\n",
              "\n",
              "  .colab-df-quickchart {\n",
              "    background-color: var(--bg-color);\n",
              "    border: none;\n",
              "    border-radius: 50%;\n",
              "    cursor: pointer;\n",
              "    display: none;\n",
              "    fill: var(--fill-color);\n",
              "    height: 32px;\n",
              "    padding: 0;\n",
              "    width: 32px;\n",
              "  }\n",
              "\n",
              "  .colab-df-quickchart:hover {\n",
              "    background-color: var(--hover-bg-color);\n",
              "    box-shadow: 0 1px 2px rgba(60, 64, 67, 0.3), 0 1px 3px 1px rgba(60, 64, 67, 0.15);\n",
              "    fill: var(--button-hover-fill-color);\n",
              "  }\n",
              "\n",
              "  .colab-df-quickchart-complete:disabled,\n",
              "  .colab-df-quickchart-complete:disabled:hover {\n",
              "    background-color: var(--disabled-bg-color);\n",
              "    fill: var(--disabled-fill-color);\n",
              "    box-shadow: none;\n",
              "  }\n",
              "\n",
              "  .colab-df-spinner {\n",
              "    border: 2px solid var(--fill-color);\n",
              "    border-color: transparent;\n",
              "    border-bottom-color: var(--fill-color);\n",
              "    animation:\n",
              "      spin 1s steps(1) infinite;\n",
              "  }\n",
              "\n",
              "  @keyframes spin {\n",
              "    0% {\n",
              "      border-color: transparent;\n",
              "      border-bottom-color: var(--fill-color);\n",
              "      border-left-color: var(--fill-color);\n",
              "    }\n",
              "    20% {\n",
              "      border-color: transparent;\n",
              "      border-left-color: var(--fill-color);\n",
              "      border-top-color: var(--fill-color);\n",
              "    }\n",
              "    30% {\n",
              "      border-color: transparent;\n",
              "      border-left-color: var(--fill-color);\n",
              "      border-top-color: var(--fill-color);\n",
              "      border-right-color: var(--fill-color);\n",
              "    }\n",
              "    40% {\n",
              "      border-color: transparent;\n",
              "      border-right-color: var(--fill-color);\n",
              "      border-top-color: var(--fill-color);\n",
              "    }\n",
              "    60% {\n",
              "      border-color: transparent;\n",
              "      border-right-color: var(--fill-color);\n",
              "    }\n",
              "    80% {\n",
              "      border-color: transparent;\n",
              "      border-right-color: var(--fill-color);\n",
              "      border-bottom-color: var(--fill-color);\n",
              "    }\n",
              "    90% {\n",
              "      border-color: transparent;\n",
              "      border-bottom-color: var(--fill-color);\n",
              "    }\n",
              "  }\n",
              "</style>\n",
              "\n",
              "  <script>\n",
              "    async function quickchart(key) {\n",
              "      const quickchartButtonEl =\n",
              "        document.querySelector('#' + key + ' button');\n",
              "      quickchartButtonEl.disabled = true;  // To prevent multiple clicks.\n",
              "      quickchartButtonEl.classList.add('colab-df-spinner');\n",
              "      try {\n",
              "        const charts = await google.colab.kernel.invokeFunction(\n",
              "            'suggestCharts', [key], {});\n",
              "      } catch (error) {\n",
              "        console.error('Error during call to suggestCharts:', error);\n",
              "      }\n",
              "      quickchartButtonEl.classList.remove('colab-df-spinner');\n",
              "      quickchartButtonEl.classList.add('colab-df-quickchart-complete');\n",
              "    }\n",
              "    (() => {\n",
              "      let quickchartButtonEl =\n",
              "        document.querySelector('#df-7dd22529-9a95-446f-9433-e37fd77ae584 button');\n",
              "      quickchartButtonEl.style.display =\n",
              "        google.colab.kernel.accessAllowed ? 'block' : 'none';\n",
              "    })();\n",
              "  </script>\n",
              "</div>\n",
              "\n",
              "    </div>\n",
              "  </div>\n"
            ]
          },
          "metadata": {},
          "execution_count": 5
        }
      ],
      "source": [
        "df.head()"
      ]
    },
    {
      "cell_type": "code",
      "execution_count": null,
      "id": "e31e3e32",
      "metadata": {
        "execution": {
          "iopub.execute_input": "2023-03-19T18:44:21.497542Z",
          "iopub.status.busy": "2023-03-19T18:44:21.497087Z",
          "iopub.status.idle": "2023-03-19T18:44:21.532828Z",
          "shell.execute_reply": "2023-03-19T18:44:21.531380Z"
        },
        "id": "e31e3e32",
        "papermill": {
          "duration": 0.06381,
          "end_time": "2023-03-19T18:44:21.535752",
          "exception": false,
          "start_time": "2023-03-19T18:44:21.471942",
          "status": "completed"
        },
        "tags": [],
        "colab": {
          "base_uri": "https://localhost:8080/"
        },
        "outputId": "4ec8ba1d-d79f-49de-bec5-83b1868db8e7"
      },
      "outputs": [
        {
          "output_type": "stream",
          "name": "stdout",
          "text": [
            "<class 'pandas.core.frame.DataFrame'>\n",
            "RangeIndex: 891 entries, 0 to 890\n",
            "Data columns (total 12 columns):\n",
            " #   Column       Non-Null Count  Dtype  \n",
            "---  ------       --------------  -----  \n",
            " 0   PassengerId  891 non-null    int64  \n",
            " 1   Survived     891 non-null    int64  \n",
            " 2   Pclass       891 non-null    int64  \n",
            " 3   Name         891 non-null    object \n",
            " 4   Sex          891 non-null    object \n",
            " 5   Age          714 non-null    float64\n",
            " 6   SibSp        891 non-null    int64  \n",
            " 7   Parch        891 non-null    int64  \n",
            " 8   Ticket       891 non-null    object \n",
            " 9   Fare         891 non-null    float64\n",
            " 10  Cabin        204 non-null    object \n",
            " 11  Embarked     889 non-null    object \n",
            "dtypes: float64(2), int64(5), object(5)\n",
            "memory usage: 83.7+ KB\n"
          ]
        }
      ],
      "source": [
        "df.info()"
      ]
    },
    {
      "cell_type": "markdown",
      "id": "46f08c8d",
      "metadata": {
        "id": "46f08c8d",
        "papermill": {
          "duration": 0.024605,
          "end_time": "2023-03-19T18:44:21.584202",
          "exception": false,
          "start_time": "2023-03-19T18:44:21.559597",
          "status": "completed"
        },
        "tags": []
      },
      "source": [
        "## 2) Nan Values"
      ]
    },
    {
      "cell_type": "code",
      "source": [
        "# nb of nan values\n",
        "df.isna().sum()"
      ],
      "metadata": {
        "id": "X-LIf0dFF8sX",
        "colab": {
          "base_uri": "https://localhost:8080/"
        },
        "outputId": "d249d83a-b2ae-40d0-a473-55c24d49158b"
      },
      "id": "X-LIf0dFF8sX",
      "execution_count": null,
      "outputs": [
        {
          "output_type": "execute_result",
          "data": {
            "text/plain": [
              "PassengerId      0\n",
              "Survived         0\n",
              "Pclass           0\n",
              "Name             0\n",
              "Sex              0\n",
              "Age            177\n",
              "SibSp            0\n",
              "Parch            0\n",
              "Ticket           0\n",
              "Fare             0\n",
              "Cabin          687\n",
              "Embarked         2\n",
              "dtype: int64"
            ]
          },
          "metadata": {},
          "execution_count": 7
        }
      ]
    },
    {
      "cell_type": "code",
      "source": [
        "# % of nan values\n",
        "df.isna().sum() / len(df)"
      ],
      "metadata": {
        "id": "Uwl2X1QRGDeR",
        "colab": {
          "base_uri": "https://localhost:8080/"
        },
        "outputId": "7cc0d93f-ac79-4fdb-c480-cc2c0a20f4f1"
      },
      "id": "Uwl2X1QRGDeR",
      "execution_count": null,
      "outputs": [
        {
          "output_type": "execute_result",
          "data": {
            "text/plain": [
              "PassengerId    0.000000\n",
              "Survived       0.000000\n",
              "Pclass         0.000000\n",
              "Name           0.000000\n",
              "Sex            0.000000\n",
              "Age            0.198653\n",
              "SibSp          0.000000\n",
              "Parch          0.000000\n",
              "Ticket         0.000000\n",
              "Fare           0.000000\n",
              "Cabin          0.771044\n",
              "Embarked       0.002245\n",
              "dtype: float64"
            ]
          },
          "metadata": {},
          "execution_count": 8
        }
      ]
    },
    {
      "cell_type": "markdown",
      "id": "60ff5e46",
      "metadata": {
        "id": "60ff5e46",
        "papermill": {
          "duration": 0.024315,
          "end_time": "2023-03-19T18:44:21.716178",
          "exception": false,
          "start_time": "2023-03-19T18:44:21.691863",
          "status": "completed"
        },
        "tags": []
      },
      "source": [
        "**Cabin** has more than 75% Nan values we will drop it\n"
      ]
    },
    {
      "cell_type": "code",
      "source": [
        "df.drop('Cabin', axis = 1, inplace =True)"
      ],
      "metadata": {
        "id": "vdVgucerGW5g"
      },
      "id": "vdVgucerGW5g",
      "execution_count": null,
      "outputs": []
    },
    {
      "cell_type": "markdown",
      "id": "d31947f0",
      "metadata": {
        "id": "d31947f0",
        "papermill": {
          "duration": 0.02467,
          "end_time": "2023-03-19T18:44:21.833534",
          "exception": false,
          "start_time": "2023-03-19T18:44:21.808864",
          "status": "completed"
        },
        "tags": []
      },
      "source": [
        "**Conclusion**:\n",
        "\n",
        ">**Cabin** has ~75% Nan values  ---> Drop it\n",
        "\n",
        ">**Age** has ~20% Nan values\n",
        "\n",
        "> **Embarked**  has 2 Nan values    \n",
        "\n",
        "\n",
        "<br>\n",
        "\n",
        "We will fill them in the following sections"
      ]
    },
    {
      "cell_type": "markdown",
      "id": "5fd85e02",
      "metadata": {
        "id": "5fd85e02",
        "papermill": {
          "duration": 0.024883,
          "end_time": "2023-03-19T18:44:21.883472",
          "exception": false,
          "start_time": "2023-03-19T18:44:21.858589",
          "status": "completed"
        },
        "tags": []
      },
      "source": [
        "## 3) Data types\n",
        "\n",
        "Which features are categorical? numerical?"
      ]
    },
    {
      "cell_type": "code",
      "source": [
        "df.nunique().sort_values(ascending=False)"
      ],
      "metadata": {
        "id": "XAmRU5M8IBRm",
        "colab": {
          "base_uri": "https://localhost:8080/"
        },
        "outputId": "cfe63f2c-f589-4761-d79b-9f3b59ab26af"
      },
      "id": "XAmRU5M8IBRm",
      "execution_count": null,
      "outputs": [
        {
          "output_type": "execute_result",
          "data": {
            "text/plain": [
              "PassengerId    891\n",
              "Name           891\n",
              "Ticket         681\n",
              "Fare           248\n",
              "Age             88\n",
              "SibSp            7\n",
              "Parch            7\n",
              "Pclass           3\n",
              "Embarked         3\n",
              "Survived         2\n",
              "Sex              2\n",
              "dtype: int64"
            ]
          },
          "metadata": {},
          "execution_count": 10
        }
      ]
    },
    {
      "cell_type": "code",
      "source": [
        "# bar plot\n",
        "nb_of_unique = df.nunique().sort_values(ascending=False)\n",
        "\n",
        "plt.figure(figsize=(15,4))\n",
        "plt.title(\" Nb of unique elements / column\")\n",
        "plt.ylabel('Count')\n",
        "plt.bar(nb_of_unique.index, nb_of_unique.values)\n",
        "plt.show()"
      ],
      "metadata": {
        "id": "czDHuM-nHnXx",
        "colab": {
          "base_uri": "https://localhost:8080/",
          "height": 353
        },
        "outputId": "5242eb09-373f-406c-90fb-9da33153860b"
      },
      "id": "czDHuM-nHnXx",
      "execution_count": null,
      "outputs": [
        {
          "output_type": "display_data",
          "data": {
            "text/plain": [
              "<Figure size 1500x400 with 1 Axes>"
            ],
            "image/png": "[encoded data removed]"
          },
          "metadata": {}
        }
      ]
    },
    {
      "cell_type": "code",
      "execution_count": null,
      "id": "f9c4fd28",
      "metadata": {
        "execution": {
          "iopub.execute_input": "2023-03-19T18:44:22.613986Z",
          "iopub.status.busy": "2023-03-19T18:44:22.613518Z",
          "iopub.status.idle": "2023-03-19T18:44:22.619550Z",
          "shell.execute_reply": "2023-03-19T18:44:22.618281Z"
        },
        "id": "f9c4fd28",
        "papermill": {
          "duration": 0.036408,
          "end_time": "2023-03-19T18:44:22.622096",
          "exception": false,
          "start_time": "2023-03-19T18:44:22.585688",
          "status": "completed"
        },
        "tags": []
      },
      "outputs": [],
      "source": [
        "num_cols = ['Fare', 'Age']\n",
        "num_cnt_cols = ['Parch', 'SibSp']\n",
        "nominal_cols = ['Name', 'PassengerId', 'Ticket', 'Embarked', 'Sex']\n",
        "ordinal_cols = ['Pclass']\n",
        "target = ['Survived']"
      ]
    },
    {
      "cell_type": "markdown",
      "id": "bb793e4b",
      "metadata": {
        "id": "bb793e4b",
        "papermill": {
          "duration": 0.026431,
          "end_time": "2023-03-19T18:44:22.675103",
          "exception": false,
          "start_time": "2023-03-19T18:44:22.648672",
          "status": "completed"
        },
        "tags": []
      },
      "source": [
        "## 4) Data distribution"
      ]
    },
    {
      "cell_type": "markdown",
      "id": "5f72f61c",
      "metadata": {
        "id": "5f72f61c",
        "papermill": {
          "duration": 0.026787,
          "end_time": "2023-03-19T18:44:22.728180",
          "exception": false,
          "start_time": "2023-03-19T18:44:22.701393",
          "status": "completed"
        },
        "tags": []
      },
      "source": [
        "#### Target distribution _(Survived)_"
      ]
    },
    {
      "cell_type": "code",
      "execution_count": null,
      "id": "e408b15f",
      "metadata": {
        "execution": {
          "iopub.execute_input": "2023-03-19T18:44:22.785161Z",
          "iopub.status.busy": "2023-03-19T18:44:22.784707Z",
          "iopub.status.idle": "2023-03-19T18:44:22.993827Z",
          "shell.execute_reply": "2023-03-19T18:44:22.992506Z"
        },
        "id": "e408b15f",
        "papermill": {
          "duration": 0.240661,
          "end_time": "2023-03-19T18:44:22.996629",
          "exception": false,
          "start_time": "2023-03-19T18:44:22.755968",
          "status": "completed"
        },
        "tags": [],
        "colab": {
          "base_uri": "https://localhost:8080/",
          "height": 564
        },
        "outputId": "c6468b2f-aaf3-409a-fc09-29cdda83e392"
      },
      "outputs": [
        {
          "output_type": "display_data",
          "data": {
            "text/plain": [
              "<Figure size 900x600 with 1 Axes>"
            ],
            "image/png": "[encoded data removed]"
          },
          "metadata": {}
        }
      ],
      "source": [
        "t = df['Survived'].value_counts(sort=False)\n",
        "\n",
        "plt.figure(figsize=(9,6))\n",
        "plt.bar(t.index.astype('str'), t, color = ['r', 'b'])\n",
        "plt.ylabel('count')\n",
        "plt.xlabel('Survived')\n",
        "plt.title('Survived distribution')\n",
        "\n",
        "\n",
        "# for annotate (optionnal)\n",
        "for i in t.index:\n",
        "  plt.annotate(\"{0:.0f}%\".format(t[i]*100/len(df)),xy=(i, t[i]) ,ha='center', va='bottom')\n",
        "plt.show()"
      ]
    },
    {
      "cell_type": "markdown",
      "id": "a0e06270",
      "metadata": {
        "id": "a0e06270",
        "papermill": {
          "duration": 0.026523,
          "end_time": "2023-03-19T18:44:23.051088",
          "exception": false,
          "start_time": "2023-03-19T18:44:23.024565",
          "status": "completed"
        },
        "tags": []
      },
      "source": [
        "**Observation:**\n",
        "\n",
        "- 38 % of the passengers survived"
      ]
    },
    {
      "cell_type": "markdown",
      "id": "946e027b",
      "metadata": {
        "id": "946e027b",
        "papermill": {
          "duration": 0.026313,
          "end_time": "2023-03-19T18:44:23.103920",
          "exception": false,
          "start_time": "2023-03-19T18:44:23.077607",
          "status": "completed"
        },
        "tags": []
      },
      "source": [
        "#### Numerical features distribution"
      ]
    },
    {
      "cell_type": "code",
      "source": [
        "# histogram without subplots\n",
        "for col in num_cols:\n",
        "  plt.hist(df[col], alpha=0.8,bins=50, label =['Train'])\n",
        "  plt.ylabel('count')\n",
        "  plt.xlabel(col)\n",
        "  plt.title(col+' distribution')\n",
        "  plt.show()"
      ],
      "metadata": {
        "id": "VA8BOu2ELNKM",
        "colab": {
          "base_uri": "https://localhost:8080/",
          "height": 927
        },
        "outputId": "b0249138-c688-4e08-9fbc-01b06cb7077e"
      },
      "id": "VA8BOu2ELNKM",
      "execution_count": null,
      "outputs": [
        {
          "output_type": "display_data",
          "data": {
            "text/plain": [
              "<Figure size 640x480 with 1 Axes>"
            ],
            "image/png": "[encoded data removed]"
          },
          "metadata": {}
        },
        {
          "output_type": "display_data",
          "data": {
            "text/plain": [
              "<Figure size 640x480 with 1 Axes>"
            ],
            "image/png": "[encoded data removed]"
          },
          "metadata": {}
        }
      ]
    },
    {
      "cell_type": "code",
      "source": [
        "# histogram with subplots\n",
        "i=1\n",
        "plt.figure(figsize=(14,5))\n",
        "\n",
        "for col in num_cols:\n",
        "  plt.subplot(1,2,i)\n",
        "  plt.hist(df[col], alpha=0.8,bins=50, label =['Train'])\n",
        "  plt.ylabel('count')\n",
        "  plt.xlabel(col)\n",
        "  plt.title(col+' distribution')\n",
        "  i+=1\n",
        "plt.show()"
      ],
      "metadata": {
        "id": "mHllx44FLmrA",
        "colab": {
          "base_uri": "https://localhost:8080/",
          "height": 468
        },
        "outputId": "e3ea1453-2d30-45d8-eaa9-6078224d3618"
      },
      "id": "mHllx44FLmrA",
      "execution_count": null,
      "outputs": [
        {
          "output_type": "display_data",
          "data": {
            "text/plain": [
              "<Figure size 1400x500 with 2 Axes>"
            ],
            "image/png": "[encoded data removed]"
          },
          "metadata": {}
        }
      ]
    },
    {
      "cell_type": "code",
      "source": [
        "i=1\n",
        "plt.figure(figsize=(14,5))\n",
        "\n",
        "for col in num_cnt_cols:\n",
        "  plt.subplot(1,2,i)\n",
        "\n",
        "  t = df[col].value_counts()\n",
        "  plt.bar(t.index.astype('str'), t)\n",
        "\n",
        "\n",
        "  plt.ylabel('count')\n",
        "  plt.xlabel(col)\n",
        "  plt.title(col+' distribution')\n",
        "  i+=1"
      ],
      "metadata": {
        "id": "vY87aAhiMYkT",
        "colab": {
          "base_uri": "https://localhost:8080/",
          "height": 468
        },
        "outputId": "8de1cfbc-7064-415c-dffd-8f1b5aea1779"
      },
      "id": "vY87aAhiMYkT",
      "execution_count": null,
      "outputs": [
        {
          "output_type": "display_data",
          "data": {
            "text/plain": [
              "<Figure size 1400x500 with 2 Axes>"
            ],
            "image/png": "[encoded data removed]"
          },
          "metadata": {}
        }
      ]
    },
    {
      "cell_type": "code",
      "source": [
        "df[num_cols + num_cnt_cols].describe()"
      ],
      "metadata": {
        "id": "Xqw5F-xtMY_n",
        "colab": {
          "base_uri": "https://localhost:8080/",
          "height": 300
        },
        "outputId": "5e5f094b-f6bc-47d4-fdd1-d63d9385f6a3"
      },
      "id": "Xqw5F-xtMY_n",
      "execution_count": null,
      "outputs": [
        {
          "output_type": "execute_result",
          "data": {
            "text/plain": [
              "             Fare         Age       Parch       SibSp\n",
              "count  891.000000  714.000000  891.000000  891.000000\n",
              "mean    32.204208   29.699118    0.381594    0.523008\n",
              "std     49.693429   14.526497    0.806057    1.102743\n",
              "min      0.000000    0.420000    0.000000    0.000000\n",
              "25%      7.910400   20.125000    0.000000    0.000000\n",
              "50%     14.454200   28.000000    0.000000    0.000000\n",
              "75%     31.000000   38.000000    0.000000    1.000000\n",
              "max    512.329200   80.000000    6.000000    8.000000"
            ],
            "text/html": [
              "\n",
              "  <div id=\"df-03e64500-7801-4465-820f-d76575d4dc49\" class=\"colab-df-container\">\n",
              "    <div>\n",
              "<style scoped>\n",
              "    .dataframe tbody tr th:only-of-type {\n",
              "        vertical-align: middle;\n",
              "    }\n",
              "\n",
              "    .dataframe tbody tr th {\n",
              "        vertical-align: top;\n",
              "    }\n",
              "\n",
              "    .dataframe thead th {\n",
              "        text-align: right;\n",
              "    }\n",
              "</style>\n",
              "<table border=\"1\" class=\"dataframe\">\n",
              "  <thead>\n",
              "    <tr style=\"text-align: right;\">\n",
              "      <th></th>\n",
              "      <th>Fare</th>\n",
              "      <th>Age</th>\n",
              "      <th>Parch</th>\n",
              "      <th>SibSp</th>\n",
              "    </tr>\n",
              "  </thead>\n",
              "  <tbody>\n",
              "    <tr>\n",
              "      <th>count</th>\n",
              "      <td>891.000000</td>\n",
              "      <td>714.000000</td>\n",
              "      <td>891.000000</td>\n",
              "      <td>891.000000</td>\n",
              "    </tr>\n",
              "    <tr>\n",
              "      <th>mean</th>\n",
              "      <td>32.204208</td>\n",
              "      <td>29.699118</td>\n",
              "      <td>0.381594</td>\n",
              "      <td>0.523008</td>\n",
              "    </tr>\n",
              "    <tr>\n",
              "      <th>std</th>\n",
              "      <td>49.693429</td>\n",
              "      <td>14.526497</td>\n",
              "      <td>0.806057</td>\n",
              "      <td>1.102743</td>\n",
              "    </tr>\n",
              "    <tr>\n",
              "      <th>min</th>\n",
              "      <td>0.000000</td>\n",
              "      <td>0.420000</td>\n",
              "      <td>0.000000</td>\n",
              "      <td>0.000000</td>\n",
              "    </tr>\n",
              "    <tr>\n",
              "      <th>25%</th>\n",
              "      <td>7.910400</td>\n",
              "      <td>20.125000</td>\n",
              "      <td>0.000000</td>\n",
              "      <td>0.000000</td>\n",
              "    </tr>\n",
              "    <tr>\n",
              "      <th>50%</th>\n",
              "      <td>14.454200</td>\n",
              "      <td>28.000000</td>\n",
              "      <td>0.000000</td>\n",
              "      <td>0.000000</td>\n",
              "    </tr>\n",
              "    <tr>\n",
              "      <th>75%</th>\n",
              "      <td>31.000000</td>\n",
              "      <td>38.000000</td>\n",
              "      <td>0.000000</td>\n",
              "      <td>1.000000</td>\n",
              "    </tr>\n",
              "    <tr>\n",
              "      <th>max</th>\n",
              "      <td>512.329200</td>\n",
              "      <td>80.000000</td>\n",
              "      <td>6.000000</td>\n",
              "      <td>8.000000</td>\n",
              "    </tr>\n",
              "  </tbody>\n",
              "</table>\n",
              "</div>\n",
              "    <div class=\"colab-df-buttons\">\n",
              "\n",
              "  <div class=\"colab-df-container\">\n",
              "    <button class=\"colab-df-convert\" onclick=\"convertToInteractive('df-03e64500-7801-4465-820f-d76575d4dc49')\"\n",
              "            title=\"Convert this dataframe to an interactive table.\"\n",
              "            style=\"display:none;\">\n",
              "\n",
              "  <svg xmlns=\"http://www.w3.org/2000/svg\" height=\"24px\" viewBox=\"0 -960 960 960\">\n",
              "    <path d=\"M120-120v-720h720v720H120Zm60-500h600v-160H180v160Zm220 220h160v-160H400v160Zm0 220h160v-160H400v160ZM180-400h160v-160H180v160Zm440 0h160v-160H620v160ZM180-180h160v-160H180v160Zm440 0h160v-160H620v160Z\"/>\n",
              "  </svg>\n",
              "    </button>\n",
              "\n",
              "  <style>\n",
              "    .colab-df-container {\n",
              "      display:flex;\n",
              "      gap: 12px;\n",
              "    }\n",
              "\n",
              "    .colab-df-convert {\n",
              "      background-color: #E8F0FE;\n",
              "      border: none;\n",
              "      border-radius: 50%;\n",
              "      cursor: pointer;\n",
              "      display: none;\n",
              "      fill: #1967D2;\n",
              "      height: 32px;\n",
              "      padding: 0 0 0 0;\n",
              "      width: 32px;\n",
              "    }\n",
              "\n",
              "    .colab-df-convert:hover {\n",
              "      background-color: #E2EBFA;\n",
              "      box-shadow: 0px 1px 2px rgba(60, 64, 67, 0.3), 0px 1px 3px 1px rgba(60, 64, 67, 0.15);\n",
              "      fill: #174EA6;\n",
              "    }\n",
              "\n",
              "    .colab-df-buttons div {\n",
              "      margin-bottom: 4px;\n",
              "    }\n",
              "\n",
              "    [theme=dark] .colab-df-convert {\n",
              "      background-color: #3B4455;\n",
              "      fill: #D2E3FC;\n",
              "    }\n",
              "\n",
              "    [theme=dark] .colab-df-convert:hover {\n",
              "      background-color: #434B5C;\n",
              "      box-shadow: 0px 1px 3px 1px rgba(0, 0, 0, 0.15);\n",
              "      filter: drop-shadow(0px 1px 2px rgba(0, 0, 0, 0.3));\n",
              "      fill: #FFFFFF;\n",
              "    }\n",
              "  </style>\n",
              "\n",
              "    <script>\n",
              "      const buttonEl =\n",
              "        document.querySelector('#df-03e64500-7801-4465-820f-d76575d4dc49 button.colab-df-convert');\n",
              "      buttonEl.style.display =\n",
              "        google.colab.kernel.accessAllowed ? 'block' : 'none';\n",
              "\n",
              "      async function convertToInteractive(key) {\n",
              "        const element = document.querySelector('#df-03e64500-7801-4465-820f-d76575d4dc49');\n",
              "        const dataTable =\n",
              "          await google.colab.kernel.invokeFunction('convertToInteractive',\n",
              "                                                    [key], {});\n",
              "        if (!dataTable) return;\n",
              "\n",
              "        const docLinkHtml = 'Like what you see? Visit the ' +\n",
              "          '<a target=\"_blank\" href=https://colab.research.google.com/notebooks/data_table.ipynb>data table notebook</a>'\n",
              "          + ' to learn more about interactive tables.';\n",
              "        element.innerHTML = '';\n",
              "        dataTable['output_type'] = 'display_data';\n",
              "        await google.colab.output.renderOutput(dataTable, element);\n",
              "        const docLink = document.createElement('div');\n",
              "        docLink.innerHTML = docLinkHtml;\n",
              "        element.appendChild(docLink);\n",
              "      }\n",
              "    </script>\n",
              "  </div>\n",
              "\n",
              "\n",
              "<div id=\"df-6846402f-f0fb-4af9-82d6-7feba73b59c3\">\n",
              "  <button class=\"colab-df-quickchart\" onclick=\"quickchart('df-6846402f-f0fb-4af9-82d6-7feba73b59c3')\"\n",
              "            title=\"Suggest charts\"\n",
              "            style=\"display:none;\">\n",
              "\n",
              "<svg xmlns=\"http://www.w3.org/2000/svg\" height=\"24px\"viewBox=\"0 0 24 24\"\n",
              "     width=\"24px\">\n",
              "    <g>\n",
              "        <path d=\"M19 3H5c-1.1 0-2 .9-2 2v14c0 1.1.9 2 2 2h14c1.1 0 2-.9 2-2V5c0-1.1-.9-2-2-2zM9 17H7v-7h2v7zm4 0h-2V7h2v10zm4 0h-2v-4h2v4z\"/>\n",
              "    </g>\n",
              "</svg>\n",
              "  </button>\n",
              "\n",
              "<style>\n",
              "  .colab-df-quickchart {\n",
              "      --bg-color: #E8F0FE;\n",
              "      --fill-color: #1967D2;\n",
              "      --hover-bg-color: #E2EBFA;\n",
              "      --hover-fill-color: #174EA6;\n",
              "      --disabled-fill-color: #AAA;\n",
              "      --disabled-bg-color: #DDD;\n",
              "  }\n",
              "\n",
              "  [theme=dark] .colab-df-quickchart {\n",
              "      --bg-color: #3B4455;\n",
              "      --fill-color: #D2E3FC;\n",
              "      --hover-bg-color: #434B5C;\n",
              "      --hover-fill-color: #FFFFFF;\n",
              "      --disabled-bg-color: #3B4455;\n",
              "      --disabled-fill-color: #666;\n",
              "  }\n",
              "\n",
              "  .colab-df-quickchart {\n",
              "    background-color: var(--bg-color);\n",
              "    border: none;\n",
              "    border-radius: 50%;\n",
              "    cursor: pointer;\n",
              "    display: none;\n",
              "    fill: var(--fill-color);\n",
              "    height: 32px;\n",
              "    padding: 0;\n",
              "    width: 32px;\n",
              "  }\n",
              "\n",
              "  .colab-df-quickchart:hover {\n",
              "    background-color: var(--hover-bg-color);\n",
              "    box-shadow: 0 1px 2px rgba(60, 64, 67, 0.3), 0 1px 3px 1px rgba(60, 64, 67, 0.15);\n",
              "    fill: var(--button-hover-fill-color);\n",
              "  }\n",
              "\n",
              "  .colab-df-quickchart-complete:disabled,\n",
              "  .colab-df-quickchart-complete:disabled:hover {\n",
              "    background-color: var(--disabled-bg-color);\n",
              "    fill: var(--disabled-fill-color);\n",
              "    box-shadow: none;\n",
              "  }\n",
              "\n",
              "  .colab-df-spinner {\n",
              "    border: 2px solid var(--fill-color);\n",
              "    border-color: transparent;\n",
              "    border-bottom-color: var(--fill-color);\n",
              "    animation:\n",
              "      spin 1s steps(1) infinite;\n",
              "  }\n",
              "\n",
              "  @keyframes spin {\n",
              "    0% {\n",
              "      border-color: transparent;\n",
              "      border-bottom-color: var(--fill-color);\n",
              "      border-left-color: var(--fill-color);\n",
              "    }\n",
              "    20% {\n",
              "      border-color: transparent;\n",
              "      border-left-color: var(--fill-color);\n",
              "      border-top-color: var(--fill-color);\n",
              "    }\n",
              "    30% {\n",
              "      border-color: transparent;\n",
              "      border-left-color: var(--fill-color);\n",
              "      border-top-color: var(--fill-color);\n",
              "      border-right-color: var(--fill-color);\n",
              "    }\n",
              "    40% {\n",
              "      border-color: transparent;\n",
              "      border-right-color: var(--fill-color);\n",
              "      border-top-color: var(--fill-color);\n",
              "    }\n",
              "    60% {\n",
              "      border-color: transparent;\n",
              "      border-right-color: var(--fill-color);\n",
              "    }\n",
              "    80% {\n",
              "      border-color: transparent;\n",
              "      border-right-color: var(--fill-color);\n",
              "      border-bottom-color: var(--fill-color);\n",
              "    }\n",
              "    90% {\n",
              "      border-color: transparent;\n",
              "      border-bottom-color: var(--fill-color);\n",
              "    }\n",
              "  }\n",
              "</style>\n",
              "\n",
              "  <script>\n",
              "    async function quickchart(key) {\n",
              "      const quickchartButtonEl =\n",
              "        document.querySelector('#' + key + ' button');\n",
              "      quickchartButtonEl.disabled = true;  // To prevent multiple clicks.\n",
              "      quickchartButtonEl.classList.add('colab-df-spinner');\n",
              "      try {\n",
              "        const charts = await google.colab.kernel.invokeFunction(\n",
              "            'suggestCharts', [key], {});\n",
              "      } catch (error) {\n",
              "        console.error('Error during call to suggestCharts:', error);\n",
              "      }\n",
              "      quickchartButtonEl.classList.remove('colab-df-spinner');\n",
              "      quickchartButtonEl.classList.add('colab-df-quickchart-complete');\n",
              "    }\n",
              "    (() => {\n",
              "      let quickchartButtonEl =\n",
              "        document.querySelector('#df-6846402f-f0fb-4af9-82d6-7feba73b59c3 button');\n",
              "      quickchartButtonEl.style.display =\n",
              "        google.colab.kernel.accessAllowed ? 'block' : 'none';\n",
              "    })();\n",
              "  </script>\n",
              "</div>\n",
              "\n",
              "    </div>\n",
              "  </div>\n"
            ]
          },
          "metadata": {},
          "execution_count": 17
        }
      ]
    },
    {
      "cell_type": "markdown",
      "id": "f6c460eb",
      "metadata": {
        "id": "f6c460eb",
        "papermill": {
          "duration": 0.02784,
          "end_time": "2023-03-19T18:44:24.930813",
          "exception": false,
          "start_time": "2023-03-19T18:44:24.902973",
          "status": "completed"
        },
        "tags": []
      },
      "source": [
        "**Observations:**\n",
        "\n",
        "**Parch & SibSp**\n",
        "> Most of passengers have 0 PARentsCHildren and 0 SIBlingSPouse => Alone.\n",
        "\n",
        "**Age**\n",
        ">Most passengers are in 15-35 age range. The average Age is around 30 years.\n",
        "\n",
        "\n",
        "**Fare**\n",
        "> We have a *data integrity problem* with some Fare values equal to 0:\n"
      ]
    },
    {
      "cell_type": "markdown",
      "id": "83c4a498",
      "metadata": {
        "id": "83c4a498",
        "papermill": {
          "duration": 0.027652,
          "end_time": "2023-03-19T18:44:24.986974",
          "exception": false,
          "start_time": "2023-03-19T18:44:24.959322",
          "status": "completed"
        },
        "tags": []
      },
      "source": [
        "## 5) Numerical features distribution / Target"
      ]
    },
    {
      "cell_type": "markdown",
      "source": [
        "**num_cnt_cols**"
      ],
      "metadata": {
        "id": "AZvB04ZRRH8q"
      },
      "id": "AZvB04ZRRH8q"
    },
    {
      "cell_type": "code",
      "source": [
        "# count plot with seaborn and HUE\n",
        "\n",
        "i=1\n",
        "plt.figure(figsize=(14,5))\n",
        "\n",
        "for col in num_cnt_cols:\n",
        "  plt.subplot(1,2,i)\n",
        "  sns.countplot( x= col, data = df, hue = 'Survived',hue_order=[1,0] ,  palette =['b','r'])\n",
        "  i+=1\n",
        "\n",
        "plt.show()"
      ],
      "metadata": {
        "id": "DMiRZSw5OyDr",
        "colab": {
          "base_uri": "https://localhost:8080/",
          "height": 447
        },
        "outputId": "c8bc8bb5-4199-4c01-b325-efb750923014"
      },
      "id": "DMiRZSw5OyDr",
      "execution_count": null,
      "outputs": [
        {
          "output_type": "display_data",
          "data": {
            "text/plain": [
              "<Figure size 1400x500 with 2 Axes>"
            ],
            "image/png": "[encoded data removed]"
          },
          "metadata": {}
        }
      ]
    },
    {
      "cell_type": "code",
      "source": [
        "for col in num_cnt_cols:\n",
        "  print(df.groupby([col]).Survived.mean(), '\\n')"
      ],
      "metadata": {
        "id": "QGTAnBJsQuXb",
        "colab": {
          "base_uri": "https://localhost:8080/"
        },
        "outputId": "9baeccc0-5fe2-4d28-c51b-468cb9325402"
      },
      "id": "QGTAnBJsQuXb",
      "execution_count": null,
      "outputs": [
        {
          "output_type": "stream",
          "name": "stdout",
          "text": [
            "Parch\n",
            "0    0.343658\n",
            "1    0.550847\n",
            "2    0.500000\n",
            "3    0.600000\n",
            "4    0.000000\n",
            "5    0.200000\n",
            "6    0.000000\n",
            "Name: Survived, dtype: float64 \n",
            "\n",
            "SibSp\n",
            "0    0.345395\n",
            "1    0.535885\n",
            "2    0.464286\n",
            "3    0.250000\n",
            "4    0.166667\n",
            "5    0.000000\n",
            "8    0.000000\n",
            "Name: Survived, dtype: float64 \n",
            "\n"
          ]
        }
      ]
    },
    {
      "cell_type": "markdown",
      "source": [
        "**num_cols**"
      ],
      "metadata": {
        "id": "Wdw5wO5URgC3"
      },
      "id": "Wdw5wO5URgC3"
    },
    {
      "cell_type": "code",
      "source": [
        "i=1\n",
        "plt.figure(figsize=(14,5))\n",
        "\n",
        "for col in num_cols:\n",
        "  plt.subplot(1,2,i)\n",
        "  plt.hist(df[col].loc[df['Survived']==1], alpha=0.5, color='b', label ='Survived')\n",
        "  plt.hist(df[col].loc[df['Survived']==0],alpha=0.5, color='r', label ='Not Survived')\n",
        "  i+=1\n",
        "  plt.legend()\n",
        "  plt.title(col)\n",
        "plt.show()"
      ],
      "metadata": {
        "id": "GRAY3aeyRiH-",
        "colab": {
          "base_uri": "https://localhost:8080/",
          "height": 457
        },
        "outputId": "b5490bc6-9d94-4092-f1d2-543373a653af"
      },
      "id": "GRAY3aeyRiH-",
      "execution_count": null,
      "outputs": [
        {
          "output_type": "display_data",
          "data": {
            "text/plain": [
              "<Figure size 1400x500 with 2 Axes>"
            ],
            "image/png": "[encoded data removed]"
          },
          "metadata": {}
        }
      ]
    },
    {
      "cell_type": "markdown",
      "id": "48cbefe6",
      "metadata": {
        "id": "48cbefe6",
        "papermill": {
          "duration": 0.029997,
          "end_time": "2023-03-19T18:44:26.097459",
          "exception": false,
          "start_time": "2023-03-19T18:44:26.067462",
          "status": "completed"
        },
        "tags": []
      },
      "source": [
        "**Observations:**\n",
        "\n",
        "- Lowcost passengers, Alone passenger and big famillies have the worst survival rate we will go further below using Pclass variable\n",
        "\n",
        "- Premium passengers, Children, old (>70) passengers  and small famillies have higher survival rate\n",
        "\n",
        "\n",
        "\n"
      ]
    },
    {
      "cell_type": "markdown",
      "id": "734705ba",
      "metadata": {
        "id": "734705ba",
        "papermill": {
          "duration": 0.029211,
          "end_time": "2023-03-19T18:44:26.156065",
          "exception": false,
          "start_time": "2023-03-19T18:44:26.126854",
          "status": "completed"
        },
        "tags": []
      },
      "source": [
        "## 6) Nominal features"
      ]
    },
    {
      "cell_type": "code",
      "execution_count": null,
      "id": "6e6c5378",
      "metadata": {
        "execution": {
          "iopub.execute_input": "2023-03-19T18:44:26.218274Z",
          "iopub.status.busy": "2023-03-19T18:44:26.217340Z",
          "iopub.status.idle": "2023-03-19T18:44:26.241811Z",
          "shell.execute_reply": "2023-03-19T18:44:26.240482Z"
        },
        "id": "6e6c5378",
        "papermill": {
          "duration": 0.058986,
          "end_time": "2023-03-19T18:44:26.244935",
          "exception": false,
          "start_time": "2023-03-19T18:44:26.185949",
          "status": "completed"
        },
        "tags": [],
        "colab": {
          "base_uri": "https://localhost:8080/",
          "height": 175
        },
        "outputId": "1f329eea-9f10-4fe0-98bc-89393dd95e63"
      },
      "outputs": [
        {
          "output_type": "execute_result",
          "data": {
            "text/plain": [
              "                           Name  Ticket Embarked   Sex\n",
              "count                       891     891      889   891\n",
              "unique                      891     681        3     2\n",
              "top     Braund, Mr. Owen Harris  347082        S  male\n",
              "freq                          1       7      644   577"
            ],
            "text/html": [
              "\n",
              "  <div id=\"df-cff86a04-97b6-402c-a5cf-618e6383beaf\" class=\"colab-df-container\">\n",
              "    <div>\n",
              "<style scoped>\n",
              "    .dataframe tbody tr th:only-of-type {\n",
              "        vertical-align: middle;\n",
              "    }\n",
              "\n",
              "    .dataframe tbody tr th {\n",
              "        vertical-align: top;\n",
              "    }\n",
              "\n",
              "    .dataframe thead th {\n",
              "        text-align: right;\n",
              "    }\n",
              "</style>\n",
              "<table border=\"1\" class=\"dataframe\">\n",
              "  <thead>\n",
              "    <tr style=\"text-align: right;\">\n",
              "      <th></th>\n",
              "      <th>Name</th>\n",
              "      <th>Ticket</th>\n",
              "      <th>Embarked</th>\n",
              "      <th>Sex</th>\n",
              "    </tr>\n",
              "  </thead>\n",
              "  <tbody>\n",
              "    <tr>\n",
              "      <th>count</th>\n",
              "      <td>891</td>\n",
              "      <td>891</td>\n",
              "      <td>889</td>\n",
              "      <td>891</td>\n",
              "    </tr>\n",
              "    <tr>\n",
              "      <th>unique</th>\n",
              "      <td>891</td>\n",
              "      <td>681</td>\n",
              "      <td>3</td>\n",
              "      <td>2</td>\n",
              "    </tr>\n",
              "    <tr>\n",
              "      <th>top</th>\n",
              "      <td>Braund, Mr. Owen Harris</td>\n",
              "      <td>347082</td>\n",
              "      <td>S</td>\n",
              "      <td>male</td>\n",
              "    </tr>\n",
              "    <tr>\n",
              "      <th>freq</th>\n",
              "      <td>1</td>\n",
              "      <td>7</td>\n",
              "      <td>644</td>\n",
              "      <td>577</td>\n",
              "    </tr>\n",
              "  </tbody>\n",
              "</table>\n",
              "</div>\n",
              "    <div class=\"colab-df-buttons\">\n",
              "\n",
              "  <div class=\"colab-df-container\">\n",
              "    <button class=\"colab-df-convert\" onclick=\"convertToInteractive('df-cff86a04-97b6-402c-a5cf-618e6383beaf')\"\n",
              "            title=\"Convert this dataframe to an interactive table.\"\n",
              "            style=\"display:none;\">\n",
              "\n",
              "  <svg xmlns=\"http://www.w3.org/2000/svg\" height=\"24px\" viewBox=\"0 -960 960 960\">\n",
              "    <path d=\"M120-120v-720h720v720H120Zm60-500h600v-160H180v160Zm220 220h160v-160H400v160Zm0 220h160v-160H400v160ZM180-400h160v-160H180v160Zm440 0h160v-160H620v160ZM180-180h160v-160H180v160Zm440 0h160v-160H620v160Z\"/>\n",
              "  </svg>\n",
              "    </button>\n",
              "\n",
              "  <style>\n",
              "    .colab-df-container {\n",
              "      display:flex;\n",
              "      gap: 12px;\n",
              "    }\n",
              "\n",
              "    .colab-df-convert {\n",
              "      background-color: #E8F0FE;\n",
              "      border: none;\n",
              "      border-radius: 50%;\n",
              "      cursor: pointer;\n",
              "      display: none;\n",
              "      fill: #1967D2;\n",
              "      height: 32px;\n",
              "      padding: 0 0 0 0;\n",
              "      width: 32px;\n",
              "    }\n",
              "\n",
              "    .colab-df-convert:hover {\n",
              "      background-color: #E2EBFA;\n",
              "      box-shadow: 0px 1px 2px rgba(60, 64, 67, 0.3), 0px 1px 3px 1px rgba(60, 64, 67, 0.15);\n",
              "      fill: #174EA6;\n",
              "    }\n",
              "\n",
              "    .colab-df-buttons div {\n",
              "      margin-bottom: 4px;\n",
              "    }\n",
              "\n",
              "    [theme=dark] .colab-df-convert {\n",
              "      background-color: #3B4455;\n",
              "      fill: #D2E3FC;\n",
              "    }\n",
              "\n",
              "    [theme=dark] .colab-df-convert:hover {\n",
              "      background-color: #434B5C;\n",
              "      box-shadow: 0px 1px 3px 1px rgba(0, 0, 0, 0.15);\n",
              "      filter: drop-shadow(0px 1px 2px rgba(0, 0, 0, 0.3));\n",
              "      fill: #FFFFFF;\n",
              "    }\n",
              "  </style>\n",
              "\n",
              "    <script>\n",
              "      const buttonEl =\n",
              "        document.querySelector('#df-cff86a04-97b6-402c-a5cf-618e6383beaf button.colab-df-convert');\n",
              "      buttonEl.style.display =\n",
              "        google.colab.kernel.accessAllowed ? 'block' : 'none';\n",
              "\n",
              "      async function convertToInteractive(key) {\n",
              "        const element = document.querySelector('#df-cff86a04-97b6-402c-a5cf-618e6383beaf');\n",
              "        const dataTable =\n",
              "          await google.colab.kernel.invokeFunction('convertToInteractive',\n",
              "                                                    [key], {});\n",
              "        if (!dataTable) return;\n",
              "\n",
              "        const docLinkHtml = 'Like what you see? Visit the ' +\n",
              "          '<a target=\"_blank\" href=https://colab.research.google.com/notebooks/data_table.ipynb>data table notebook</a>'\n",
              "          + ' to learn more about interactive tables.';\n",
              "        element.innerHTML = '';\n",
              "        dataTable['output_type'] = 'display_data';\n",
              "        await google.colab.output.renderOutput(dataTable, element);\n",
              "        const docLink = document.createElement('div');\n",
              "        docLink.innerHTML = docLinkHtml;\n",
              "        element.appendChild(docLink);\n",
              "      }\n",
              "    </script>\n",
              "  </div>\n",
              "\n",
              "\n",
              "<div id=\"df-a21dc110-69aa-4408-9709-2ff25a436939\">\n",
              "  <button class=\"colab-df-quickchart\" onclick=\"quickchart('df-a21dc110-69aa-4408-9709-2ff25a436939')\"\n",
              "            title=\"Suggest charts\"\n",
              "            style=\"display:none;\">\n",
              "\n",
              "<svg xmlns=\"http://www.w3.org/2000/svg\" height=\"24px\"viewBox=\"0 0 24 24\"\n",
              "     width=\"24px\">\n",
              "    <g>\n",
              "        <path d=\"M19 3H5c-1.1 0-2 .9-2 2v14c0 1.1.9 2 2 2h14c1.1 0 2-.9 2-2V5c0-1.1-.9-2-2-2zM9 17H7v-7h2v7zm4 0h-2V7h2v10zm4 0h-2v-4h2v4z\"/>\n",
              "    </g>\n",
              "</svg>\n",
              "  </button>\n",
              "\n",
              "<style>\n",
              "  .colab-df-quickchart {\n",
              "      --bg-color: #E8F0FE;\n",
              "      --fill-color: #1967D2;\n",
              "      --hover-bg-color: #E2EBFA;\n",
              "      --hover-fill-color: #174EA6;\n",
              "      --disabled-fill-color: #AAA;\n",
              "      --disabled-bg-color: #DDD;\n",
              "  }\n",
              "\n",
              "  [theme=dark] .colab-df-quickchart {\n",
              "      --bg-color: #3B4455;\n",
              "      --fill-color: #D2E3FC;\n",
              "      --hover-bg-color: #434B5C;\n",
              "      --hover-fill-color: #FFFFFF;\n",
              "      --disabled-bg-color: #3B4455;\n",
              "      --disabled-fill-color: #666;\n",
              "  }\n",
              "\n",
              "  .colab-df-quickchart {\n",
              "    background-color: var(--bg-color);\n",
              "    border: none;\n",
              "    border-radius: 50%;\n",
              "    cursor: pointer;\n",
              "    display: none;\n",
              "    fill: var(--fill-color);\n",
              "    height: 32px;\n",
              "    padding: 0;\n",
              "    width: 32px;\n",
              "  }\n",
              "\n",
              "  .colab-df-quickchart:hover {\n",
              "    background-color: var(--hover-bg-color);\n",
              "    box-shadow: 0 1px 2px rgba(60, 64, 67, 0.3), 0 1px 3px 1px rgba(60, 64, 67, 0.15);\n",
              "    fill: var(--button-hover-fill-color);\n",
              "  }\n",
              "\n",
              "  .colab-df-quickchart-complete:disabled,\n",
              "  .colab-df-quickchart-complete:disabled:hover {\n",
              "    background-color: var(--disabled-bg-color);\n",
              "    fill: var(--disabled-fill-color);\n",
              "    box-shadow: none;\n",
              "  }\n",
              "\n",
              "  .colab-df-spinner {\n",
              "    border: 2px solid var(--fill-color);\n",
              "    border-color: transparent;\n",
              "    border-bottom-color: var(--fill-color);\n",
              "    animation:\n",
              "      spin 1s steps(1) infinite;\n",
              "  }\n",
              "\n",
              "  @keyframes spin {\n",
              "    0% {\n",
              "      border-color: transparent;\n",
              "      border-bottom-color: var(--fill-color);\n",
              "      border-left-color: var(--fill-color);\n",
              "    }\n",
              "    20% {\n",
              "      border-color: transparent;\n",
              "      border-left-color: var(--fill-color);\n",
              "      border-top-color: var(--fill-color);\n",
              "    }\n",
              "    30% {\n",
              "      border-color: transparent;\n",
              "      border-left-color: var(--fill-color);\n",
              "      border-top-color: var(--fill-color);\n",
              "      border-right-color: var(--fill-color);\n",
              "    }\n",
              "    40% {\n",
              "      border-color: transparent;\n",
              "      border-right-color: var(--fill-color);\n",
              "      border-top-color: var(--fill-color);\n",
              "    }\n",
              "    60% {\n",
              "      border-color: transparent;\n",
              "      border-right-color: var(--fill-color);\n",
              "    }\n",
              "    80% {\n",
              "      border-color: transparent;\n",
              "      border-right-color: var(--fill-color);\n",
              "      border-bottom-color: var(--fill-color);\n",
              "    }\n",
              "    90% {\n",
              "      border-color: transparent;\n",
              "      border-bottom-color: var(--fill-color);\n",
              "    }\n",
              "  }\n",
              "</style>\n",
              "\n",
              "  <script>\n",
              "    async function quickchart(key) {\n",
              "      const quickchartButtonEl =\n",
              "        document.querySelector('#' + key + ' button');\n",
              "      quickchartButtonEl.disabled = true;  // To prevent multiple clicks.\n",
              "      quickchartButtonEl.classList.add('colab-df-spinner');\n",
              "      try {\n",
              "        const charts = await google.colab.kernel.invokeFunction(\n",
              "            'suggestCharts', [key], {});\n",
              "      } catch (error) {\n",
              "        console.error('Error during call to suggestCharts:', error);\n",
              "      }\n",
              "      quickchartButtonEl.classList.remove('colab-df-spinner');\n",
              "      quickchartButtonEl.classList.add('colab-df-quickchart-complete');\n",
              "    }\n",
              "    (() => {\n",
              "      let quickchartButtonEl =\n",
              "        document.querySelector('#df-a21dc110-69aa-4408-9709-2ff25a436939 button');\n",
              "      quickchartButtonEl.style.display =\n",
              "        google.colab.kernel.accessAllowed ? 'block' : 'none';\n",
              "    })();\n",
              "  </script>\n",
              "</div>\n",
              "\n",
              "    </div>\n",
              "  </div>\n"
            ]
          },
          "metadata": {},
          "execution_count": 21
        }
      ],
      "source": [
        "df[nominal_cols].describe(include='O')"
      ]
    },
    {
      "cell_type": "markdown",
      "id": "ac1fcda2",
      "metadata": {
        "id": "ac1fcda2",
        "papermill": {
          "duration": 0.029949,
          "end_time": "2023-03-19T18:44:26.304482",
          "exception": false,
          "start_time": "2023-03-19T18:44:26.274533",
          "status": "completed"
        },
        "tags": []
      },
      "source": [
        "We have too many unique values to plot the distribution of **Name** and **Ticket**"
      ]
    },
    {
      "cell_type": "code",
      "execution_count": null,
      "id": "003cced1",
      "metadata": {
        "execution": {
          "iopub.execute_input": "2023-03-19T18:44:26.365286Z",
          "iopub.status.busy": "2023-03-19T18:44:26.364863Z",
          "iopub.status.idle": "2023-03-19T18:44:26.376378Z",
          "shell.execute_reply": "2023-03-19T18:44:26.375022Z"
        },
        "id": "003cced1",
        "papermill": {
          "duration": 0.045374,
          "end_time": "2023-03-19T18:44:26.379298",
          "exception": false,
          "start_time": "2023-03-19T18:44:26.333924",
          "status": "completed"
        },
        "tags": [],
        "colab": {
          "base_uri": "https://localhost:8080/",
          "height": 206
        },
        "outputId": "94e4f0d0-d48e-4ffe-b109-c422b9cc9baf"
      },
      "outputs": [
        {
          "output_type": "execute_result",
          "data": {
            "text/plain": [
              "                                                Name            Ticket\n",
              "0                            Braund, Mr. Owen Harris         A/5 21171\n",
              "1  Cumings, Mrs. John Bradley (Florence Briggs Th...          PC 17599\n",
              "2                             Heikkinen, Miss. Laina  STON/O2. 3101282\n",
              "3       Futrelle, Mrs. Jacques Heath (Lily May Peel)            113803\n",
              "4                           Allen, Mr. William Henry            373450"
            ],
            "text/html": [
              "\n",
              "  <div id=\"df-7450a815-80e9-4a0d-b1fe-d09895adeeb6\" class=\"colab-df-container\">\n",
              "    <div>\n",
              "<style scoped>\n",
              "    .dataframe tbody tr th:only-of-type {\n",
              "        vertical-align: middle;\n",
              "    }\n",
              "\n",
              "    .dataframe tbody tr th {\n",
              "        vertical-align: top;\n",
              "    }\n",
              "\n",
              "    .dataframe thead th {\n",
              "        text-align: right;\n",
              "    }\n",
              "</style>\n",
              "<table border=\"1\" class=\"dataframe\">\n",
              "  <thead>\n",
              "    <tr style=\"text-align: right;\">\n",
              "      <th></th>\n",
              "      <th>Name</th>\n",
              "      <th>Ticket</th>\n",
              "    </tr>\n",
              "  </thead>\n",
              "  <tbody>\n",
              "    <tr>\n",
              "      <th>0</th>\n",
              "      <td>Braund, Mr. Owen Harris</td>\n",
              "      <td>A/5 21171</td>\n",
              "    </tr>\n",
              "    <tr>\n",
              "      <th>1</th>\n",
              "      <td>Cumings, Mrs. John Bradley (Florence Briggs Th...</td>\n",
              "      <td>PC 17599</td>\n",
              "    </tr>\n",
              "    <tr>\n",
              "      <th>2</th>\n",
              "      <td>Heikkinen, Miss. Laina</td>\n",
              "      <td>STON/O2. 3101282</td>\n",
              "    </tr>\n",
              "    <tr>\n",
              "      <th>3</th>\n",
              "      <td>Futrelle, Mrs. Jacques Heath (Lily May Peel)</td>\n",
              "      <td>113803</td>\n",
              "    </tr>\n",
              "    <tr>\n",
              "      <th>4</th>\n",
              "      <td>Allen, Mr. William Henry</td>\n",
              "      <td>373450</td>\n",
              "    </tr>\n",
              "  </tbody>\n",
              "</table>\n",
              "</div>\n",
              "    <div class=\"colab-df-buttons\">\n",
              "\n",
              "  <div class=\"colab-df-container\">\n",
              "    <button class=\"colab-df-convert\" onclick=\"convertToInteractive('df-7450a815-80e9-4a0d-b1fe-d09895adeeb6')\"\n",
              "            title=\"Convert this dataframe to an interactive table.\"\n",
              "            style=\"display:none;\">\n",
              "\n",
              "  <svg xmlns=\"http://www.w3.org/2000/svg\" height=\"24px\" viewBox=\"0 -960 960 960\">\n",
              "    <path d=\"M120-120v-720h720v720H120Zm60-500h600v-160H180v160Zm220 220h160v-160H400v160Zm0 220h160v-160H400v160ZM180-400h160v-160H180v160Zm440 0h160v-160H620v160ZM180-180h160v-160H180v160Zm440 0h160v-160H620v160Z\"/>\n",
              "  </svg>\n",
              "    </button>\n",
              "\n",
              "  <style>\n",
              "    .colab-df-container {\n",
              "      display:flex;\n",
              "      gap: 12px;\n",
              "    }\n",
              "\n",
              "    .colab-df-convert {\n",
              "      background-color: #E8F0FE;\n",
              "      border: none;\n",
              "      border-radius: 50%;\n",
              "      cursor: pointer;\n",
              "      display: none;\n",
              "      fill: #1967D2;\n",
              "      height: 32px;\n",
              "      padding: 0 0 0 0;\n",
              "      width: 32px;\n",
              "    }\n",
              "\n",
              "    .colab-df-convert:hover {\n",
              "      background-color: #E2EBFA;\n",
              "      box-shadow: 0px 1px 2px rgba(60, 64, 67, 0.3), 0px 1px 3px 1px rgba(60, 64, 67, 0.15);\n",
              "      fill: #174EA6;\n",
              "    }\n",
              "\n",
              "    .colab-df-buttons div {\n",
              "      margin-bottom: 4px;\n",
              "    }\n",
              "\n",
              "    [theme=dark] .colab-df-convert {\n",
              "      background-color: #3B4455;\n",
              "      fill: #D2E3FC;\n",
              "    }\n",
              "\n",
              "    [theme=dark] .colab-df-convert:hover {\n",
              "      background-color: #434B5C;\n",
              "      box-shadow: 0px 1px 3px 1px rgba(0, 0, 0, 0.15);\n",
              "      filter: drop-shadow(0px 1px 2px rgba(0, 0, 0, 0.3));\n",
              "      fill: #FFFFFF;\n",
              "    }\n",
              "  </style>\n",
              "\n",
              "    <script>\n",
              "      const buttonEl =\n",
              "        document.querySelector('#df-7450a815-80e9-4a0d-b1fe-d09895adeeb6 button.colab-df-convert');\n",
              "      buttonEl.style.display =\n",
              "        google.colab.kernel.accessAllowed ? 'block' : 'none';\n",
              "\n",
              "      async function convertToInteractive(key) {\n",
              "        const element = document.querySelector('#df-7450a815-80e9-4a0d-b1fe-d09895adeeb6');\n",
              "        const dataTable =\n",
              "          await google.colab.kernel.invokeFunction('convertToInteractive',\n",
              "                                                    [key], {});\n",
              "        if (!dataTable) return;\n",
              "\n",
              "        const docLinkHtml = 'Like what you see? Visit the ' +\n",
              "          '<a target=\"_blank\" href=https://colab.research.google.com/notebooks/data_table.ipynb>data table notebook</a>'\n",
              "          + ' to learn more about interactive tables.';\n",
              "        element.innerHTML = '';\n",
              "        dataTable['output_type'] = 'display_data';\n",
              "        await google.colab.output.renderOutput(dataTable, element);\n",
              "        const docLink = document.createElement('div');\n",
              "        docLink.innerHTML = docLinkHtml;\n",
              "        element.appendChild(docLink);\n",
              "      }\n",
              "    </script>\n",
              "  </div>\n",
              "\n",
              "\n",
              "<div id=\"df-ff94a850-1696-46d5-82df-06cdbe14fd23\">\n",
              "  <button class=\"colab-df-quickchart\" onclick=\"quickchart('df-ff94a850-1696-46d5-82df-06cdbe14fd23')\"\n",
              "            title=\"Suggest charts\"\n",
              "            style=\"display:none;\">\n",
              "\n",
              "<svg xmlns=\"http://www.w3.org/2000/svg\" height=\"24px\"viewBox=\"0 0 24 24\"\n",
              "     width=\"24px\">\n",
              "    <g>\n",
              "        <path d=\"M19 3H5c-1.1 0-2 .9-2 2v14c0 1.1.9 2 2 2h14c1.1 0 2-.9 2-2V5c0-1.1-.9-2-2-2zM9 17H7v-7h2v7zm4 0h-2V7h2v10zm4 0h-2v-4h2v4z\"/>\n",
              "    </g>\n",
              "</svg>\n",
              "  </button>\n",
              "\n",
              "<style>\n",
              "  .colab-df-quickchart {\n",
              "      --bg-color: #E8F0FE;\n",
              "      --fill-color: #1967D2;\n",
              "      --hover-bg-color: #E2EBFA;\n",
              "      --hover-fill-color: #174EA6;\n",
              "      --disabled-fill-color: #AAA;\n",
              "      --disabled-bg-color: #DDD;\n",
              "  }\n",
              "\n",
              "  [theme=dark] .colab-df-quickchart {\n",
              "      --bg-color: #3B4455;\n",
              "      --fill-color: #D2E3FC;\n",
              "      --hover-bg-color: #434B5C;\n",
              "      --hover-fill-color: #FFFFFF;\n",
              "      --disabled-bg-color: #3B4455;\n",
              "      --disabled-fill-color: #666;\n",
              "  }\n",
              "\n",
              "  .colab-df-quickchart {\n",
              "    background-color: var(--bg-color);\n",
              "    border: none;\n",
              "    border-radius: 50%;\n",
              "    cursor: pointer;\n",
              "    display: none;\n",
              "    fill: var(--fill-color);\n",
              "    height: 32px;\n",
              "    padding: 0;\n",
              "    width: 32px;\n",
              "  }\n",
              "\n",
              "  .colab-df-quickchart:hover {\n",
              "    background-color: var(--hover-bg-color);\n",
              "    box-shadow: 0 1px 2px rgba(60, 64, 67, 0.3), 0 1px 3px 1px rgba(60, 64, 67, 0.15);\n",
              "    fill: var(--button-hover-fill-color);\n",
              "  }\n",
              "\n",
              "  .colab-df-quickchart-complete:disabled,\n",
              "  .colab-df-quickchart-complete:disabled:hover {\n",
              "    background-color: var(--disabled-bg-color);\n",
              "    fill: var(--disabled-fill-color);\n",
              "    box-shadow: none;\n",
              "  }\n",
              "\n",
              "  .colab-df-spinner {\n",
              "    border: 2px solid var(--fill-color);\n",
              "    border-color: transparent;\n",
              "    border-bottom-color: var(--fill-color);\n",
              "    animation:\n",
              "      spin 1s steps(1) infinite;\n",
              "  }\n",
              "\n",
              "  @keyframes spin {\n",
              "    0% {\n",
              "      border-color: transparent;\n",
              "      border-bottom-color: var(--fill-color);\n",
              "      border-left-color: var(--fill-color);\n",
              "    }\n",
              "    20% {\n",
              "      border-color: transparent;\n",
              "      border-left-color: var(--fill-color);\n",
              "      border-top-color: var(--fill-color);\n",
              "    }\n",
              "    30% {\n",
              "      border-color: transparent;\n",
              "      border-left-color: var(--fill-color);\n",
              "      border-top-color: var(--fill-color);\n",
              "      border-right-color: var(--fill-color);\n",
              "    }\n",
              "    40% {\n",
              "      border-color: transparent;\n",
              "      border-right-color: var(--fill-color);\n",
              "      border-top-color: var(--fill-color);\n",
              "    }\n",
              "    60% {\n",
              "      border-color: transparent;\n",
              "      border-right-color: var(--fill-color);\n",
              "    }\n",
              "    80% {\n",
              "      border-color: transparent;\n",
              "      border-right-color: var(--fill-color);\n",
              "      border-bottom-color: var(--fill-color);\n",
              "    }\n",
              "    90% {\n",
              "      border-color: transparent;\n",
              "      border-bottom-color: var(--fill-color);\n",
              "    }\n",
              "  }\n",
              "</style>\n",
              "\n",
              "  <script>\n",
              "    async function quickchart(key) {\n",
              "      const quickchartButtonEl =\n",
              "        document.querySelector('#' + key + ' button');\n",
              "      quickchartButtonEl.disabled = true;  // To prevent multiple clicks.\n",
              "      quickchartButtonEl.classList.add('colab-df-spinner');\n",
              "      try {\n",
              "        const charts = await google.colab.kernel.invokeFunction(\n",
              "            'suggestCharts', [key], {});\n",
              "      } catch (error) {\n",
              "        console.error('Error during call to suggestCharts:', error);\n",
              "      }\n",
              "      quickchartButtonEl.classList.remove('colab-df-spinner');\n",
              "      quickchartButtonEl.classList.add('colab-df-quickchart-complete');\n",
              "    }\n",
              "    (() => {\n",
              "      let quickchartButtonEl =\n",
              "        document.querySelector('#df-ff94a850-1696-46d5-82df-06cdbe14fd23 button');\n",
              "      quickchartButtonEl.style.display =\n",
              "        google.colab.kernel.accessAllowed ? 'block' : 'none';\n",
              "    })();\n",
              "  </script>\n",
              "</div>\n",
              "\n",
              "    </div>\n",
              "  </div>\n"
            ]
          },
          "metadata": {},
          "execution_count": 22
        }
      ],
      "source": [
        "# overview of 'Name','Ticket'\n",
        "df[['Name','Ticket']].head()"
      ]
    },
    {
      "cell_type": "markdown",
      "id": "75943516",
      "metadata": {
        "id": "75943516",
        "papermill": {
          "duration": 0.029571,
          "end_time": "2023-03-19T18:44:26.967529",
          "exception": false,
          "start_time": "2023-03-19T18:44:26.937958",
          "status": "completed"
        },
        "tags": []
      },
      "source": [
        "#### Nominal features distribution / Target"
      ]
    },
    {
      "cell_type": "code",
      "execution_count": null,
      "id": "14b88d98",
      "metadata": {
        "execution": {
          "iopub.execute_input": "2023-03-19T18:44:27.029335Z",
          "iopub.status.busy": "2023-03-19T18:44:27.028903Z",
          "iopub.status.idle": "2023-03-19T18:44:27.581976Z",
          "shell.execute_reply": "2023-03-19T18:44:27.580514Z"
        },
        "id": "14b88d98",
        "papermill": {
          "duration": 0.588177,
          "end_time": "2023-03-19T18:44:27.585545",
          "exception": false,
          "start_time": "2023-03-19T18:44:26.997368",
          "status": "completed"
        },
        "tags": [],
        "colab": {
          "base_uri": "https://localhost:8080/",
          "height": 509
        },
        "outputId": "a49492e1-a2e5-41ca-f697-78f6169a8558"
      },
      "outputs": [
        {
          "output_type": "display_data",
          "data": {
            "text/plain": [
              "<Figure size 1400x500 with 2 Axes>"
            ],
            "image/png": "[encoded data removed]"
          },
          "metadata": {}
        }
      ],
      "source": [
        "plt.figure(figsize=(14,5))\n",
        "i=1\n",
        "\n",
        "for col in ['Embarked', 'Sex']:\n",
        "  plt.subplot(1,2,i)\n",
        "  sns.countplot(x= col, data = df, hue = 'Survived',  palette =['r','b'])\n",
        "  plt.legend(loc='upper right')\n",
        "  plt.title(col)\n",
        "  i+=1\n",
        "\n",
        "plt.suptitle('Nominal features distribution / Target', fontsize=16,y=1.01)\n",
        "plt.show()"
      ]
    },
    {
      "cell_type": "code",
      "source": [
        "print('\\tSurvival rate\\n')\n",
        "\n",
        "for col in ['Embarked', 'Sex']:\n",
        "  print(df.groupby([col]).Survived.mean(), '\\n')"
      ],
      "metadata": {
        "id": "Top6Az9hV-p_",
        "colab": {
          "base_uri": "https://localhost:8080/"
        },
        "outputId": "3772409c-e7ae-48c9-aa8e-d8de73e8d7d7"
      },
      "id": "Top6Az9hV-p_",
      "execution_count": null,
      "outputs": [
        {
          "output_type": "stream",
          "name": "stdout",
          "text": [
            "\tSurvival rate\n",
            "\n",
            "Embarked\n",
            "C    0.553571\n",
            "Q    0.389610\n",
            "S    0.336957\n",
            "Name: Survived, dtype: float64 \n",
            "\n",
            "Sex\n",
            "female    0.742038\n",
            "male      0.188908\n",
            "Name: Survived, dtype: float64 \n",
            "\n"
          ]
        }
      ]
    },
    {
      "cell_type": "code",
      "execution_count": null,
      "id": "dcbf7716",
      "metadata": {
        "execution": {
          "iopub.execute_input": "2023-03-19T18:44:27.650986Z",
          "iopub.status.busy": "2023-03-19T18:44:27.650233Z",
          "iopub.status.idle": "2023-03-19T18:44:27.677485Z",
          "shell.execute_reply": "2023-03-19T18:44:27.676258Z"
        },
        "id": "dcbf7716",
        "papermill": {
          "duration": 0.062762,
          "end_time": "2023-03-19T18:44:27.680190",
          "exception": false,
          "start_time": "2023-03-19T18:44:27.617428",
          "status": "completed"
        },
        "tags": [],
        "colab": {
          "base_uri": "https://localhost:8080/",
          "height": 175
        },
        "outputId": "b02442e3-54cc-44ce-8b51-aaec5b211542"
      },
      "outputs": [
        {
          "output_type": "execute_result",
          "data": {
            "text/plain": [
              "Pclass      1    2    3\n",
              "Embarked               \n",
              "C          85   17   66\n",
              "Q           2    3   72\n",
              "S         127  164  353"
            ],
            "text/html": [
              "\n",
              "  <div id=\"df-5c987074-a32e-49cd-b3d1-f9189f64c142\" class=\"colab-df-container\">\n",
              "    <div>\n",
              "<style scoped>\n",
              "    .dataframe tbody tr th:only-of-type {\n",
              "        vertical-align: middle;\n",
              "    }\n",
              "\n",
              "    .dataframe tbody tr th {\n",
              "        vertical-align: top;\n",
              "    }\n",
              "\n",
              "    .dataframe thead th {\n",
              "        text-align: right;\n",
              "    }\n",
              "</style>\n",
              "<table border=\"1\" class=\"dataframe\">\n",
              "  <thead>\n",
              "    <tr style=\"text-align: right;\">\n",
              "      <th>Pclass</th>\n",
              "      <th>1</th>\n",
              "      <th>2</th>\n",
              "      <th>3</th>\n",
              "    </tr>\n",
              "    <tr>\n",
              "      <th>Embarked</th>\n",
              "      <th></th>\n",
              "      <th></th>\n",
              "      <th></th>\n",
              "    </tr>\n",
              "  </thead>\n",
              "  <tbody>\n",
              "    <tr>\n",
              "      <th>C</th>\n",
              "      <td>85</td>\n",
              "      <td>17</td>\n",
              "      <td>66</td>\n",
              "    </tr>\n",
              "    <tr>\n",
              "      <th>Q</th>\n",
              "      <td>2</td>\n",
              "      <td>3</td>\n",
              "      <td>72</td>\n",
              "    </tr>\n",
              "    <tr>\n",
              "      <th>S</th>\n",
              "      <td>127</td>\n",
              "      <td>164</td>\n",
              "      <td>353</td>\n",
              "    </tr>\n",
              "  </tbody>\n",
              "</table>\n",
              "</div>\n",
              "    <div class=\"colab-df-buttons\">\n",
              "\n",
              "  <div class=\"colab-df-container\">\n",
              "    <button class=\"colab-df-convert\" onclick=\"convertToInteractive('df-5c987074-a32e-49cd-b3d1-f9189f64c142')\"\n",
              "            title=\"Convert this dataframe to an interactive table.\"\n",
              "            style=\"display:none;\">\n",
              "\n",
              "  <svg xmlns=\"http://www.w3.org/2000/svg\" height=\"24px\" viewBox=\"0 -960 960 960\">\n",
              "    <path d=\"M120-120v-720h720v720H120Zm60-500h600v-160H180v160Zm220 220h160v-160H400v160Zm0 220h160v-160H400v160ZM180-400h160v-160H180v160Zm440 0h160v-160H620v160ZM180-180h160v-160H180v160Zm440 0h160v-160H620v160Z\"/>\n",
              "  </svg>\n",
              "    </button>\n",
              "\n",
              "  <style>\n",
              "    .colab-df-container {\n",
              "      display:flex;\n",
              "      gap: 12px;\n",
              "    }\n",
              "\n",
              "    .colab-df-convert {\n",
              "      background-color: #E8F0FE;\n",
              "      border: none;\n",
              "      border-radius: 50%;\n",
              "      cursor: pointer;\n",
              "      display: none;\n",
              "      fill: #1967D2;\n",
              "      height: 32px;\n",
              "      padding: 0 0 0 0;\n",
              "      width: 32px;\n",
              "    }\n",
              "\n",
              "    .colab-df-convert:hover {\n",
              "      background-color: #E2EBFA;\n",
              "      box-shadow: 0px 1px 2px rgba(60, 64, 67, 0.3), 0px 1px 3px 1px rgba(60, 64, 67, 0.15);\n",
              "      fill: #174EA6;\n",
              "    }\n",
              "\n",
              "    .colab-df-buttons div {\n",
              "      margin-bottom: 4px;\n",
              "    }\n",
              "\n",
              "    [theme=dark] .colab-df-convert {\n",
              "      background-color: #3B4455;\n",
              "      fill: #D2E3FC;\n",
              "    }\n",
              "\n",
              "    [theme=dark] .colab-df-convert:hover {\n",
              "      background-color: #434B5C;\n",
              "      box-shadow: 0px 1px 3px 1px rgba(0, 0, 0, 0.15);\n",
              "      filter: drop-shadow(0px 1px 2px rgba(0, 0, 0, 0.3));\n",
              "      fill: #FFFFFF;\n",
              "    }\n",
              "  </style>\n",
              "\n",
              "    <script>\n",
              "      const buttonEl =\n",
              "        document.querySelector('#df-5c987074-a32e-49cd-b3d1-f9189f64c142 button.colab-df-convert');\n",
              "      buttonEl.style.display =\n",
              "        google.colab.kernel.accessAllowed ? 'block' : 'none';\n",
              "\n",
              "      async function convertToInteractive(key) {\n",
              "        const element = document.querySelector('#df-5c987074-a32e-49cd-b3d1-f9189f64c142');\n",
              "        const dataTable =\n",
              "          await google.colab.kernel.invokeFunction('convertToInteractive',\n",
              "                                                    [key], {});\n",
              "        if (!dataTable) return;\n",
              "\n",
              "        const docLinkHtml = 'Like what you see? Visit the ' +\n",
              "          '<a target=\"_blank\" href=https://colab.research.google.com/notebooks/data_table.ipynb>data table notebook</a>'\n",
              "          + ' to learn more about interactive tables.';\n",
              "        element.innerHTML = '';\n",
              "        dataTable['output_type'] = 'display_data';\n",
              "        await google.colab.output.renderOutput(dataTable, element);\n",
              "        const docLink = document.createElement('div');\n",
              "        docLink.innerHTML = docLinkHtml;\n",
              "        element.appendChild(docLink);\n",
              "      }\n",
              "    </script>\n",
              "  </div>\n",
              "\n",
              "\n",
              "<div id=\"df-ea6dfa05-26d1-41f6-bd23-a55c41facb20\">\n",
              "  <button class=\"colab-df-quickchart\" onclick=\"quickchart('df-ea6dfa05-26d1-41f6-bd23-a55c41facb20')\"\n",
              "            title=\"Suggest charts\"\n",
              "            style=\"display:none;\">\n",
              "\n",
              "<svg xmlns=\"http://www.w3.org/2000/svg\" height=\"24px\"viewBox=\"0 0 24 24\"\n",
              "     width=\"24px\">\n",
              "    <g>\n",
              "        <path d=\"M19 3H5c-1.1 0-2 .9-2 2v14c0 1.1.9 2 2 2h14c1.1 0 2-.9 2-2V5c0-1.1-.9-2-2-2zM9 17H7v-7h2v7zm4 0h-2V7h2v10zm4 0h-2v-4h2v4z\"/>\n",
              "    </g>\n",
              "</svg>\n",
              "  </button>\n",
              "\n",
              "<style>\n",
              "  .colab-df-quickchart {\n",
              "      --bg-color: #E8F0FE;\n",
              "      --fill-color: #1967D2;\n",
              "      --hover-bg-color: #E2EBFA;\n",
              "      --hover-fill-color: #174EA6;\n",
              "      --disabled-fill-color: #AAA;\n",
              "      --disabled-bg-color: #DDD;\n",
              "  }\n",
              "\n",
              "  [theme=dark] .colab-df-quickchart {\n",
              "      --bg-color: #3B4455;\n",
              "      --fill-color: #D2E3FC;\n",
              "      --hover-bg-color: #434B5C;\n",
              "      --hover-fill-color: #FFFFFF;\n",
              "      --disabled-bg-color: #3B4455;\n",
              "      --disabled-fill-color: #666;\n",
              "  }\n",
              "\n",
              "  .colab-df-quickchart {\n",
              "    background-color: var(--bg-color);\n",
              "    border: none;\n",
              "    border-radius: 50%;\n",
              "    cursor: pointer;\n",
              "    display: none;\n",
              "    fill: var(--fill-color);\n",
              "    height: 32px;\n",
              "    padding: 0;\n",
              "    width: 32px;\n",
              "  }\n",
              "\n",
              "  .colab-df-quickchart:hover {\n",
              "    background-color: var(--hover-bg-color);\n",
              "    box-shadow: 0 1px 2px rgba(60, 64, 67, 0.3), 0 1px 3px 1px rgba(60, 64, 67, 0.15);\n",
              "    fill: var(--button-hover-fill-color);\n",
              "  }\n",
              "\n",
              "  .colab-df-quickchart-complete:disabled,\n",
              "  .colab-df-quickchart-complete:disabled:hover {\n",
              "    background-color: var(--disabled-bg-color);\n",
              "    fill: var(--disabled-fill-color);\n",
              "    box-shadow: none;\n",
              "  }\n",
              "\n",
              "  .colab-df-spinner {\n",
              "    border: 2px solid var(--fill-color);\n",
              "    border-color: transparent;\n",
              "    border-bottom-color: var(--fill-color);\n",
              "    animation:\n",
              "      spin 1s steps(1) infinite;\n",
              "  }\n",
              "\n",
              "  @keyframes spin {\n",
              "    0% {\n",
              "      border-color: transparent;\n",
              "      border-bottom-color: var(--fill-color);\n",
              "      border-left-color: var(--fill-color);\n",
              "    }\n",
              "    20% {\n",
              "      border-color: transparent;\n",
              "      border-left-color: var(--fill-color);\n",
              "      border-top-color: var(--fill-color);\n",
              "    }\n",
              "    30% {\n",
              "      border-color: transparent;\n",
              "      border-left-color: var(--fill-color);\n",
              "      border-top-color: var(--fill-color);\n",
              "      border-right-color: var(--fill-color);\n",
              "    }\n",
              "    40% {\n",
              "      border-color: transparent;\n",
              "      border-right-color: var(--fill-color);\n",
              "      border-top-color: var(--fill-color);\n",
              "    }\n",
              "    60% {\n",
              "      border-color: transparent;\n",
              "      border-right-color: var(--fill-color);\n",
              "    }\n",
              "    80% {\n",
              "      border-color: transparent;\n",
              "      border-right-color: var(--fill-color);\n",
              "      border-bottom-color: var(--fill-color);\n",
              "    }\n",
              "    90% {\n",
              "      border-color: transparent;\n",
              "      border-bottom-color: var(--fill-color);\n",
              "    }\n",
              "  }\n",
              "</style>\n",
              "\n",
              "  <script>\n",
              "    async function quickchart(key) {\n",
              "      const quickchartButtonEl =\n",
              "        document.querySelector('#' + key + ' button');\n",
              "      quickchartButtonEl.disabled = true;  // To prevent multiple clicks.\n",
              "      quickchartButtonEl.classList.add('colab-df-spinner');\n",
              "      try {\n",
              "        const charts = await google.colab.kernel.invokeFunction(\n",
              "            'suggestCharts', [key], {});\n",
              "      } catch (error) {\n",
              "        console.error('Error during call to suggestCharts:', error);\n",
              "      }\n",
              "      quickchartButtonEl.classList.remove('colab-df-spinner');\n",
              "      quickchartButtonEl.classList.add('colab-df-quickchart-complete');\n",
              "    }\n",
              "    (() => {\n",
              "      let quickchartButtonEl =\n",
              "        document.querySelector('#df-ea6dfa05-26d1-41f6-bd23-a55c41facb20 button');\n",
              "      quickchartButtonEl.style.display =\n",
              "        google.colab.kernel.accessAllowed ? 'block' : 'none';\n",
              "    })();\n",
              "  </script>\n",
              "</div>\n",
              "\n",
              "    </div>\n",
              "  </div>\n"
            ]
          },
          "metadata": {},
          "execution_count": 25
        }
      ],
      "source": [
        "pd.crosstab(df['Embarked'],df['Pclass'] )"
      ]
    },
    {
      "cell_type": "markdown",
      "id": "a5ed1a8c",
      "metadata": {
        "id": "a5ed1a8c",
        "papermill": {
          "duration": 0.030732,
          "end_time": "2023-03-19T18:44:27.741878",
          "exception": false,
          "start_time": "2023-03-19T18:44:27.711146",
          "status": "completed"
        },
        "tags": []
      },
      "source": [
        "**Observations:**\n",
        "\n",
        "- Male passengers have a terrible survival rate (80% died) and female a great one (74% survived)\n",
        "-Embarked survival rate is related the Pclass passenger.\n",
        "For example Passengers have embarked from C have higher survival rate (55%) because many of them are in first class.\n",
        "\n"
      ]
    },
    {
      "cell_type": "markdown",
      "id": "2d8d5094",
      "metadata": {
        "id": "2d8d5094",
        "papermill": {
          "duration": 0.031237,
          "end_time": "2023-03-19T18:44:27.803950",
          "exception": false,
          "start_time": "2023-03-19T18:44:27.772713",
          "status": "completed"
        },
        "tags": []
      },
      "source": [
        "## 7) Ordinal features distribution"
      ]
    },
    {
      "cell_type": "code",
      "source": [
        "col = 'Pclass'\n",
        "\n",
        "sns.countplot(x= col, data = df, hue = 'Survived',  palette =['r','b'])\n",
        "plt.legend(loc='upper right')\n",
        "plt.title(col)\n",
        "plt.show()"
      ],
      "metadata": {
        "id": "K4W_z3kDXiGb",
        "colab": {
          "base_uri": "https://localhost:8080/",
          "height": 472
        },
        "outputId": "c231d2a3-3bf2-4a32-dfce-929a52d0c951"
      },
      "id": "K4W_z3kDXiGb",
      "execution_count": null,
      "outputs": [
        {
          "output_type": "display_data",
          "data": {
            "text/plain": [
              "<Figure size 640x480 with 1 Axes>"
            ],
            "image/png": "[encoded data removed]"
          },
          "metadata": {}
        }
      ]
    },
    {
      "cell_type": "markdown",
      "id": "c5276071",
      "metadata": {
        "id": "c5276071",
        "papermill": {
          "duration": 0.031305,
          "end_time": "2023-03-19T18:44:28.332991",
          "exception": false,
          "start_time": "2023-03-19T18:44:28.301686",
          "status": "completed"
        },
        "tags": []
      },
      "source": [
        "Observations:\n",
        "\n",
        "- Better the Pclass is, greater is the survival rate. It comfirms our observation above on lowcost passenger"
      ]
    },
    {
      "cell_type": "markdown",
      "source": [
        "## 8) Correlation matrix"
      ],
      "metadata": {
        "id": "8sULyFd_XQvy"
      },
      "id": "8sULyFd_XQvy"
    },
    {
      "cell_type": "code",
      "source": [
        "plt.figure(figsize=(12,6))\n",
        "sns.heatmap(df.corr() ,annot = True, fmt = '.2f')\n",
        "plt.show()"
      ],
      "metadata": {
        "id": "tcU3tzjrUkKU",
        "colab": {
          "base_uri": "https://localhost:8080/",
          "height": 583
        },
        "outputId": "3500d855-2f8c-40c3-b214-649c20da5d5d"
      },
      "id": "tcU3tzjrUkKU",
      "execution_count": null,
      "outputs": [
        {
          "output_type": "stream",
          "name": "stderr",
          "text": [
            "<ipython-input-27-4966c3af1243>:2: FutureWarning: The default value of numeric_only in DataFrame.corr is deprecated. In a future version, it will default to False. Select only valid columns or specify the value of numeric_only to silence this warning.\n",
            "  sns.heatmap(df.corr() ,annot = True, fmt = '.2f')\n"
          ]
        },
        {
          "output_type": "display_data",
          "data": {
            "text/plain": [
              "<Figure size 1200x600 with 2 Axes>"
            ],
            "image/png": "[encoded data removed]"
          },
          "metadata": {}
        }
      ]
    }
  ],
  "metadata": {
    "kernelspec": {
      "display_name": "Python 3",
      "language": "python",
      "name": "python3"
    },
    "language_info": {
      "codemirror_mode": {
        "name": "ipython",
        "version": 3
      },
      "file_extension": ".py",
      "mimetype": "text/x-python",
      "name": "python",
      "nbconvert_exporter": "python",
      "pygments_lexer": "ipython3",
      "version": "3.7.12"
    },
    "papermill": {
      "default_parameters": {},
      "duration": 216.059648,
      "end_time": "2023-03-19T18:47:29.012507",
      "environment_variables": {},
      "exception": null,
      "input_path": "__notebook__.ipynb",
      "output_path": "__notebook__.ipynb",
      "parameters": {},
      "start_time": "2023-03-19T18:43:52.952859",
      "version": "2.4.0"
    },
    "colab": {
      "provenance": []
    }
  },
  "nbformat": 4,
  "nbformat_minor": 5
}